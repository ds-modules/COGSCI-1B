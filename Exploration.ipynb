{
 "cells": [
  {
   "cell_type": "markdown",
   "metadata": {},
   "source": [
    "# [COGSCI 1B] Typology\n",
    "---\n",
    "### Professor Terry Regier\n",
    "\n",
    "This module explores a central question in cognitive science and linguistics: how do languages vary from one another? We will explore datasets of linguistic features (WALS and Phoible) to come to tentative answers to this question in a data-driven way. Example problems include visualizing the distribution of phonemes, the relationship between geography and the development of languages, and the genetic relationships of languages.\n",
    "\n",
    "---\n",
    "\n",
    "### Table of Contents\n",
    "\n",
    "0 - [The Data](#section data)\n",
    "\n",
    "1 - [Phoneme Distributions](#phoneme dist)\n",
    "\n",
    "&nbsp;&nbsp;&nbsp;&nbsp;&nbsp;&nbsp; 1.1 - [Consonants](#consonants)\n",
    "\n",
    "&nbsp;&nbsp;&nbsp;&nbsp;&nbsp;&nbsp; 1.2 - [Vowels](#vowels)\n",
    "\n",
    "&nbsp;&nbsp;&nbsp;&nbsp;&nbsp;&nbsp; 1.3 - [Phonemes](#phonemes)\n",
    "\n",
    "&nbsp;&nbsp;&nbsp;&nbsp;&nbsp;&nbsp; 1.4 - [Consonants vs Vowels](#cons vs vows)<br>\n",
    "\n",
    "2 - [Phonemes Metadata](#metadata)\n",
    "\n",
    "&nbsp;&nbsp;&nbsp;&nbsp;&nbsp;&nbsp; 2.1 - [Family](#phoneme fam)\n",
    "\n",
    "&nbsp;&nbsp;&nbsp;&nbsp;&nbsp;&nbsp; 2.2 - [Continent](#phoneme cont)\n",
    "\n",
    "&nbsp;&nbsp;&nbsp;&nbsp;&nbsp;&nbsp; 2.3 - [Latitude and Longitude](#lat lons)\n",
    "\n",
    "&nbsp;&nbsp;&nbsp;&nbsp;&nbsp;&nbsp; 2.4 - [Population Size vs Phoneme Inventory Size](#pop v foam)\n",
    "\n",
    "&nbsp;&nbsp;&nbsp;&nbsp;&nbsp;&nbsp; 2.5 - [Distance from Africa](#africa distance)\n",
    "\n",
    "3 - [Common Phonemes](#common)\n",
    "\n",
    "4 - [Tone](#tone)\n",
    "\n",
    "&nbsp;&nbsp;&nbsp;&nbsp;&nbsp;&nbsp; 4.1 - [Altitude](#altitude)\n",
    "\n",
    "5 - [Morphological Complexity](#morph complex)\n",
    "\n",
    "**Dependencies:**"
   ]
  },
  {
   "cell_type": "code",
   "execution_count": null,
   "metadata": {
    "collapsed": true
   },
   "outputs": [],
   "source": [
    "# currently running into problems when running folium \n",
    "# on datahub -- you have to pip upgrade, then restart\n",
    "\n",
    "!pip install -U -q folium"
   ]
  },
  {
   "cell_type": "code",
   "execution_count": null,
   "metadata": {
    "collapsed": true
   },
   "outputs": [],
   "source": [
    "import folium\n",
    "import numpy as np\n",
    "import pandas as pd\n",
    "import seaborn as sns\n",
    "import geopy.distance\n",
    "from collections import Counter\n",
    "import matplotlib.pyplot as plt\n",
    "from IPython.display import display\n",
    "from scripts.cogsci_module import *\n",
    "import warnings\n",
    "\n",
    "warnings.filterwarnings('ignore')\n",
    "sns.set_style('darkgrid')\n",
    "%matplotlib inline"
   ]
  },
  {
   "cell_type": "markdown",
   "metadata": {},
   "source": [
    "## The Data <a id='section data'></a>"
   ]
  },
  {
   "cell_type": "code",
   "execution_count": null,
   "metadata": {
    "collapsed": true
   },
   "outputs": [],
   "source": [
    "phoible_data = pd.read_csv('phoible_elevation.csv')\n",
    "phoible_data.head()"
   ]
  },
  {
   "cell_type": "code",
   "execution_count": null,
   "metadata": {
    "collapsed": true
   },
   "outputs": [],
   "source": [
    "# phoib contains rows where population is a number\n",
    "phoib = phoible_data[phoible_data[\"Population\"].apply(lambda x: str(x).isdigit())]\n",
    "phoib[\"Population\"] = [int(i) for i in phoib[\"Population\"]]\n",
    "\n",
    "# stands for good phoib / use for mapping\n",
    "phoib_mapping = phoib.dropna()\n",
    "\n",
    "phoib.head()"
   ]
  },
  {
   "cell_type": "code",
   "execution_count": null,
   "metadata": {
    "collapsed": true
   },
   "outputs": [],
   "source": [
    "wals = pd.read_csv('wals_data/language.csv')\n",
    "wals.head()"
   ]
  },
  {
   "cell_type": "code",
   "execution_count": null,
   "metadata": {
    "collapsed": true
   },
   "outputs": [],
   "source": [
    "# multiple rows for some of these Language Codes\n",
    "sum(pd.DataFrame.from_dict(Counter(\n",
    "    phoible_data['LanguageCode']), orient='index').reset_index().sort_values(0, ascending=False)[0] > 1)"
   ]
  },
  {
   "cell_type": "code",
   "execution_count": null,
   "metadata": {
    "collapsed": true
   },
   "outputs": [],
   "source": [
    "len(list(set(phoible_data['LanguageCode'])))"
   ]
  },
  {
   "cell_type": "code",
   "execution_count": null,
   "metadata": {
    "collapsed": true,
    "scrolled": true
   },
   "outputs": [],
   "source": [
    "# same language code, but different language name? What is `Trump`?\n",
    "cond = np.logical_and(phoible_data['Source'] == 'GM', phoible_data['LanguageCode'] == 'sgw')\n",
    "phoible_data[cond]"
   ]
  },
  {
   "cell_type": "code",
   "execution_count": null,
   "metadata": {
    "collapsed": true
   },
   "outputs": [],
   "source": [
    "sum(pd.DataFrame.from_dict(Counter(\n",
    "    phoible_data['LanguageCode']), orient='index').reset_index().sort_values(0, ascending=False)[0] > 1)"
   ]
  },
  {
   "cell_type": "code",
   "execution_count": null,
   "metadata": {
    "collapsed": true
   },
   "outputs": [],
   "source": [
    "mp = folium.Map(zoom_start=12)\n",
    "phoib_coords = phoib.dropna(subset=['Latitude', 'Longitude'])\n",
    "for coords in list(zip(phoib_coords['Latitude'], phoib_coords['Longitude'])):\n",
    "    folium.Circle(\n",
    "        radius=100,\n",
    "        location=coords,\n",
    "        color='crimson',\n",
    "        fill=False,).add_to(mp)\n",
    "mp"
   ]
  },
  {
   "cell_type": "code",
   "execution_count": null,
   "metadata": {
    "collapsed": true,
    "scrolled": true
   },
   "outputs": [],
   "source": [
    "combined = wals.dropna(subset=['iso_code']).merge(phoib.dropna(), left_on='iso_code', right_on='LanguageCode', how='inner')\n",
    "combined.head()"
   ]
  },
  {
   "cell_type": "markdown",
   "metadata": {},
   "source": [
    "## Background\n",
    "\n",
    "One big question in cognitive science is the relationship between linguistic features (e.g. number of vowels, word order and number of tense categories) and non-linguistic features (e.g. population size, altitude and climate). In particular, a lot of attention has been paid to the relationship between population size and various linguistic features. People have looked at the relationship between population size and:\n",
    "- size of the phoneme inventory\n",
    "- morphological complexity\n",
    "- Relationship between population size and phonemic inventory"
   ]
  },
  {
   "cell_type": "markdown",
   "metadata": {},
   "source": [
    "Phonemes are individual sounds. They come from the IPA, which is the phonetic alphabet. Phonemes can either be consonants or vowels. Languages have a fixed number of phonemes. The best data source for this is PHOIBLE. \n",
    "Visualize the following univariate distributions both as a histogram and on a map:"
   ]
  },
  {
   "cell_type": "markdown",
   "metadata": {},
   "source": [
    "## Phoneme Distributions <a id='phoneme dist'></a>\n",
    "\n",
    "both geographic and numeric distributions"
   ]
  },
  {
   "cell_type": "markdown",
   "metadata": {},
   "source": [
    "### Consonants <a id='consonants'></a>"
   ]
  },
  {
   "cell_type": "code",
   "execution_count": null,
   "metadata": {
    "collapsed": true
   },
   "outputs": [],
   "source": [
    "sns.distplot(phoib['Consonants'])"
   ]
  },
  {
   "cell_type": "code",
   "execution_count": null,
   "metadata": {
    "collapsed": true
   },
   "outputs": [],
   "source": [
    "map_with_bins('Consonants', phoib_mapping)"
   ]
  },
  {
   "cell_type": "code",
   "execution_count": null,
   "metadata": {
    "collapsed": true
   },
   "outputs": [],
   "source": [
    "# plotting with bins set on quantiles instead\n",
    "map_with_bins('Consonants', phoib_mapping, quantiles=True)"
   ]
  },
  {
   "cell_type": "markdown",
   "metadata": {},
   "source": [
    "### Vowels <a id='vowels'></a>"
   ]
  },
  {
   "cell_type": "code",
   "execution_count": null,
   "metadata": {
    "collapsed": true,
    "scrolled": true
   },
   "outputs": [],
   "source": [
    "sns.distplot(phoib['Vowels'])"
   ]
  },
  {
   "cell_type": "code",
   "execution_count": null,
   "metadata": {
    "collapsed": true,
    "scrolled": false
   },
   "outputs": [],
   "source": [
    "map_with_bins('Vowels', phoib_mapping, quantiles=True)"
   ]
  },
  {
   "cell_type": "markdown",
   "metadata": {},
   "source": [
    "### Phonemes <a id='phonemes'></a>"
   ]
  },
  {
   "cell_type": "code",
   "execution_count": null,
   "metadata": {
    "collapsed": true
   },
   "outputs": [],
   "source": [
    "sns.distplot(phoib['Phonemes'])"
   ]
  },
  {
   "cell_type": "code",
   "execution_count": null,
   "metadata": {
    "collapsed": true,
    "scrolled": false
   },
   "outputs": [],
   "source": [
    "map_with_bins('Phonemes', phoib_mapping, quantiles=True)"
   ]
  },
  {
   "cell_type": "markdown",
   "metadata": {},
   "source": [
    "### Consonants vs Vowels <a id='cons vs vows'></a>"
   ]
  },
  {
   "cell_type": "markdown",
   "metadata": {},
   "source": [
    "Visualize the relationship between number of consontants and number of vowels, again by all language, by continent and by genetic affiliation."
   ]
  },
  {
   "cell_type": "code",
   "execution_count": null,
   "metadata": {
    "collapsed": true
   },
   "outputs": [],
   "source": [
    "# note to self: check out consonant to vowel ratio as number of cons / vowels increase"
   ]
  },
  {
   "cell_type": "code",
   "execution_count": null,
   "metadata": {
    "collapsed": true
   },
   "outputs": [],
   "source": [
    "overlay_hex(phoib[\"Consonants\"], phoib[\"Vowels\"])"
   ]
  },
  {
   "cell_type": "code",
   "execution_count": null,
   "metadata": {
    "collapsed": true
   },
   "outputs": [],
   "source": [
    "pho_cont = phoib[[\"Area\",\"Consonants\", \"Vowels\"]].copy()\n",
    "pho_cont = pho_cont.groupby(by=\"Area\").mean()\n",
    "pho_cont['Ratio'] = pho_cont['Consonants'] / pho_cont['Vowels']\n",
    "pho_cont[['Ratio']].plot.bar(figsize = (12,8))\n",
    "plt.title('Average Consonants per Vowel')"
   ]
  },
  {
   "cell_type": "markdown",
   "metadata": {},
   "source": [
    "## Phoneme Metadata <a id='metadata'></a>"
   ]
  },
  {
   "cell_type": "markdown",
   "metadata": {},
   "source": [
    "### By Family  <a id='phoneme fam'></a>"
   ]
  },
  {
   "cell_type": "markdown",
   "metadata": {},
   "source": [
    "Visualize those same distributions grouped by continent and grouped by genetic affiliation. The continent is called `area` in PHOIBLE. The genetic affiliation is called `Family` in WALS. WALS and PHOIBLE both identify languages with ISO 639-3, so you should be able to match them up. "
   ]
  },
  {
   "cell_type": "code",
   "execution_count": null,
   "metadata": {
    "collapsed": true
   },
   "outputs": [],
   "source": [
    "# double click on the image to zoom in (then you can scroll left or right)\n",
    "combined.groupby(by=\"family\")[['Phonemes', 'Consonants', 'Vowels']].mean().plot.bar(figsize=(50,8))"
   ]
  },
  {
   "cell_type": "markdown",
   "metadata": {},
   "source": [
    "### By Continent  <a id='phoneme cont'></a>"
   ]
  },
  {
   "cell_type": "code",
   "execution_count": null,
   "metadata": {
    "collapsed": true,
    "scrolled": false
   },
   "outputs": [],
   "source": [
    "phoib.groupby(by=\"Area\")[['Phonemes', 'Consonants', 'Vowels']].mean().plot.bar(figsize=(12,6))"
   ]
  },
  {
   "cell_type": "markdown",
   "metadata": {},
   "source": [
    "### Latitude and Longitude <a id='lat lons'></a>\n",
    "\n",
    "You could try looking at number of phonemes plotted against latitude/longitude, but I doubt anything will come of it."
   ]
  },
  {
   "cell_type": "code",
   "execution_count": null,
   "metadata": {
    "collapsed": true,
    "scrolled": false
   },
   "outputs": [],
   "source": [
    "sns.jointplot('Phonemes', 'Latitude', data=phoib, kind='hex')"
   ]
  },
  {
   "cell_type": "code",
   "execution_count": null,
   "metadata": {
    "collapsed": true
   },
   "outputs": [],
   "source": [
    "sns.jointplot('Phonemes', 'Longitude', data=phoib, kind='hex')"
   ]
  },
  {
   "cell_type": "markdown",
   "metadata": {},
   "source": [
    "### Population Size vs Phoneme Inventory Size <a id='pop v foam'></a>"
   ]
  },
  {
   "cell_type": "markdown",
   "metadata": {},
   "source": [
    "Visualize the relationship between population size and phoneme inventory size, again by all language, by continent and by genetic affiliation."
   ]
  },
  {
   "cell_type": "code",
   "execution_count": null,
   "metadata": {
    "collapsed": true
   },
   "outputs": [],
   "source": [
    "# log population\n",
    "overlay_hex(phoib[\"Phonemes\"], np.log(phoib[\"Population\"]))"
   ]
  },
  {
   "cell_type": "markdown",
   "metadata": {},
   "source": [
    "### Distance from Africa <a id='africa distance'></a>"
   ]
  },
  {
   "cell_type": "markdown",
   "metadata": {},
   "source": [
    "Someone has claimed that phoneme inventory size and distance from Africa are inversely related. You could use the latitude/longitude in PHOIBLE for this. You may have to arbitrarily choose the mid-point of Africa for this.\n",
    "\n",
    "We start by refering back to a graph we previously created."
   ]
  },
  {
   "cell_type": "code",
   "execution_count": null,
   "metadata": {
    "collapsed": true
   },
   "outputs": [],
   "source": [
    "pho_pop_cont = phoib.loc[:,[\"Area\", \"Phonemes\"]]\n",
    "pho_pop_cont = pho_pop_cont.groupby(by = \"Area\").mean().sort_values('Phonemes', ascending=False)\n",
    "pho_pop_cont[['Phonemes']].plot.bar(figsize = (12,8))\n",
    "plt.ylabel('Average Number of Phonemes')\n",
    "pho_pop_cont"
   ]
  },
  {
   "cell_type": "code",
   "execution_count": null,
   "metadata": {
    "collapsed": true,
    "scrolled": false
   },
   "outputs": [],
   "source": [
    "coordinates = list(zip(phoib.dropna()['Latitude'], phoib.dropna()['Longitude']))\n",
    "\n",
    "# chose this point b/c it comes up when\n",
    "# you google search 'africa coordinates'\n",
    "africa_center = (8.7832, 34.5085)\n",
    "\n",
    "# calculate the distance to each language's listed location\n",
    "distances = np.array([geopy.distance.vincenty(point, africa_center).km for point in coordinates])\n",
    "\n",
    "overlay_hex(distances, phoib.dropna()['Phonemes'])"
   ]
  },
  {
   "cell_type": "code",
   "execution_count": null,
   "metadata": {
    "collapsed": true
   },
   "outputs": [],
   "source": [
    "# did the same, but logged the distances this time\n",
    "overlay_hex(np.log(distances), phoib.dropna()['Phonemes'])"
   ]
  },
  {
   "cell_type": "markdown",
   "metadata": {},
   "source": [
    "## Common Phenomes <a id='common'></a>"
   ]
  },
  {
   "cell_type": "markdown",
   "metadata": {},
   "source": [
    "What are the most common phonemes in the world? What is the distribution of frequency? That is, there are about 2,000 phonemes in PHOIBLE, but only a handful are common and there's a long tail. One problem here is that PHOIBLE is not a random sample of languages. So, you could sample languages from PHOIBLE proportional to their population size and arrive at an estimate that way."
   ]
  },
  {
   "cell_type": "code",
   "execution_count": null,
   "metadata": {
    "collapsed": true,
    "scrolled": true
   },
   "outputs": [],
   "source": [
    "phonemes = pd.read_csv('phoible_data/phoible-by-phoneme.tsv', delimiter='\\t')\n",
    "phonemes.head()"
   ]
  },
  {
   "cell_type": "code",
   "execution_count": null,
   "metadata": {
    "collapsed": true
   },
   "outputs": [],
   "source": [
    "print('Out of {} rows, there are {} unique phonemes.'.format(len(phonemes), len(list(set(phonemes['Phoneme'])))))"
   ]
  },
  {
   "cell_type": "code",
   "execution_count": null,
   "metadata": {
    "collapsed": true
   },
   "outputs": [],
   "source": [
    "phoneme_counts = pd.DataFrame.from_dict(Counter(phonemes['Phoneme']), orient='index').reset_index().sort_values(0, ascending=False)\n",
    "phoneme_counts.columns = ['Phoneme', 'Count']\n",
    "phoneme_counts.iloc[:200].plot.bar(figsize=(15, 5))\n",
    "plt.xticks([])\n",
    "plt.ylabel('Count')\n",
    "plt.xlabel('Phoneme')\n",
    "plt.title('Counts of 200 Most Common Phonemes')"
   ]
  },
  {
   "cell_type": "code",
   "execution_count": null,
   "metadata": {
    "collapsed": true
   },
   "outputs": [],
   "source": [
    "fig, ax = plt.subplots(figsize=(15, 5))\n",
    "sns.distplot(phoneme_counts['Count'], ax=ax)\n",
    "plt.title('Distribution of Phoneme Frequency')"
   ]
  },
  {
   "cell_type": "markdown",
   "metadata": {},
   "source": [
    "Phonemes can be described by a set of (mostly) binary features. PHOIBLE has this data too. Is the distribution of featue values evenly split for each feature? If not, which features are more prone to being either 0 or 1?\n",
    "Are some phonemes only present in some area of genetic affiliation? (There should be. For example, 'kp' and 'gb' are likely only in Africa.)"
   ]
  },
  {
   "cell_type": "code",
   "execution_count": null,
   "metadata": {
    "collapsed": true
   },
   "outputs": [],
   "source": [
    "# join w/ other phoible (to get area column), then pivot('phoneme', 'area')"
   ]
  },
  {
   "cell_type": "code",
   "execution_count": null,
   "metadata": {
    "collapsed": true
   },
   "outputs": [],
   "source": [
    "len(phonemes)"
   ]
  },
  {
   "cell_type": "code",
   "execution_count": null,
   "metadata": {
    "collapsed": true
   },
   "outputs": [],
   "source": [
    "len(phoib[['LanguageCode', 'Area']])"
   ]
  },
  {
   "cell_type": "code",
   "execution_count": null,
   "metadata": {
    "collapsed": true
   },
   "outputs": [],
   "source": [
    "lc_to_area = dict(zip(phoib['LanguageCode'], phoib['Area']))\n",
    "\n",
    "def convert_code(code):\n",
    "    try:\n",
    "        return lc_to_area[code]\n",
    "    except:\n",
    "        return 'undefined'\n",
    "    \n",
    "phonemes['Area'] = [convert_code(code) for code in phonemes['LanguageCode']]"
   ]
  },
  {
   "cell_type": "code",
   "execution_count": null,
   "metadata": {
    "collapsed": true,
    "scrolled": true
   },
   "outputs": [],
   "source": [
    "pd.crosstab(phonemes['Phoneme'], phonemes['Area'])"
   ]
  },
  {
   "cell_type": "code",
   "execution_count": null,
   "metadata": {
    "collapsed": true,
    "scrolled": true
   },
   "outputs": [],
   "source": [
    "# normalizing by columns means that it accounts for the fact that\n",
    "# there are differing numbers of languages per country\n",
    "pd.crosstab(phonemes['Phoneme'], phonemes['Area'], margins=True, normalize='columns')"
   ]
  },
  {
   "cell_type": "markdown",
   "metadata": {},
   "source": [
    "## Tone <a id='tone'></a>"
   ]
  },
  {
   "cell_type": "markdown",
   "metadata": {},
   "source": [
    "One of the features of phonemes is tone. If a language has a phoneme with tone, it counts as a \"tone language\". Are most language tone? Where are the tone langauges on the map?"
   ]
  },
  {
   "cell_type": "code",
   "execution_count": null,
   "metadata": {
    "collapsed": true
   },
   "outputs": [],
   "source": [
    "tone_languages = phoib['Tones'] > 0\n",
    "num_tone_languages = sum(tone_languages)\n",
    "total_languages = len(phoib)\n",
    "\n",
    "print('There are {} tone languages out of our dataset of {} languages.'.format(num_tone_languages, total_languages))\n",
    "print(\"That's about {}%.\".format(np.round(num_tone_languages/total_languages*100, 2)))"
   ]
  },
  {
   "cell_type": "code",
   "execution_count": null,
   "metadata": {
    "collapsed": true
   },
   "outputs": [],
   "source": [
    "tone = phoib[tone_languages]\n",
    "tone.head()"
   ]
  },
  {
   "cell_type": "code",
   "execution_count": null,
   "metadata": {
    "collapsed": true,
    "scrolled": false
   },
   "outputs": [],
   "source": [
    "# two rows in tone don't have coordinates, need to filter them out\n",
    "valid_coords = tone['Latitude'] == tone['Latitude']\n",
    "mappable_tone = tone[valid_coords]\n",
    "\n",
    "mp = folium.Map(zoom_start=12)\n",
    "for coords in list(zip(mappable_tone['Latitude'], mappable_tone['Longitude'])):\n",
    "    folium.Circle(\n",
    "        radius=100,\n",
    "        location=coords,\n",
    "        color='crimson',\n",
    "        fill=False,).add_to(mp)\n",
    "mp"
   ]
  },
  {
   "cell_type": "markdown",
   "metadata": {},
   "source": [
    "### Altitude <a id='altitude'></a>"
   ]
  },
  {
   "cell_type": "markdown",
   "metadata": {},
   "source": [
    "Someone has claimed there is a relationship being a tone language and the altitude. You could use lat/long to call some API to get the altitude and see if there's a relationship."
   ]
  },
  {
   "cell_type": "code",
   "execution_count": null,
   "metadata": {
    "collapsed": true
   },
   "outputs": [],
   "source": [
    "phoib['Tone Language?'] = phoib['Tones'] > 0\n",
    "have_elevation = phoib[['elevation', 'Tones', 'Tone Language?']].dropna()"
   ]
  },
  {
   "cell_type": "code",
   "execution_count": null,
   "metadata": {
    "collapsed": true
   },
   "outputs": [],
   "source": [
    "f, ax = plt.subplots(figsize=(10, 8))\n",
    "sns.distplot(have_elevation[np.invert(have_elevation['Tone Language?'])]['elevation'], ax=ax)\n",
    "sns.distplot(have_elevation[have_elevation['Tone Language?']]['elevation'], ax=ax)"
   ]
  },
  {
   "cell_type": "code",
   "execution_count": null,
   "metadata": {
    "collapsed": true
   },
   "outputs": [],
   "source": [
    "# getting rid of the 3 SD outliers to get a better picture\n",
    "no_out=have_elevation[((have_elevation['elevation'] - have_elevation['elevation'].mean()) / have_elevation['elevation'].std()).abs() < 3]\n",
    "\n",
    "f, ax = plt.subplots(figsize=(10, 8))\n",
    "sns.distplot(no_out[np.invert(no_out['Tone Language?'])]['elevation'], ax=ax)\n",
    "sns.distplot(no_out[no_out['Tone Language?']]['elevation'], ax=ax)"
   ]
  },
  {
   "cell_type": "code",
   "execution_count": null,
   "metadata": {
    "collapsed": true
   },
   "outputs": [],
   "source": [
    "# note to self: explore possibility that low elevation \n",
    "# places just tend to be further from africa, then point \n",
    "# that out as a possible confounding factor"
   ]
  },
  {
   "cell_type": "markdown",
   "metadata": {},
   "source": [
    "## Relationship between population size and morphological complexity <a id='morph complex'></a>\n",
    "\n",
    "All the data for this will be in WALS. Morphological complexity is a vague term, referring to how complicated the words in a language are. Here are some features that you should look at with respect to their relation to phoneme inventory size:\n",
    "\n",
    "### Feature 30A: Number of Genders"
   ]
  },
  {
   "cell_type": "code",
   "execution_count": null,
   "metadata": {
    "collapsed": true
   },
   "outputs": [],
   "source": [
    "desired_columns = ['LanguageCode', 'Area', 'Latitude', 'Longitude', 'Population', 'Phonemes']\n",
    "\n",
    "gender_data = drop_and_subset('30A Number of Genders', combined, desired_columns)\n",
    "genders_dict = {'1 None':1, '2 Two':2, '3 Three':3, '4 Four':4, '5 Five or more':5}\n",
    "gender_data['Genders'] = [genders_dict[value] for value in gender_data['30A Number of Genders']]\n",
    "\n",
    "print('Rows with Gender data: {}'.format(len(gender_data)))\n",
    "gender_data.head()"
   ]
  },
  {
   "cell_type": "code",
   "execution_count": null,
   "metadata": {
    "collapsed": true
   },
   "outputs": [],
   "source": [
    "overlay_hex(gender_data['Genders'], gender_data['Phonemes'])"
   ]
  },
  {
   "cell_type": "code",
   "execution_count": null,
   "metadata": {
    "collapsed": true,
    "scrolled": false
   },
   "outputs": [],
   "source": [
    "overlay_hex(gender_data['Genders'], np.log(gender_data['Population']))"
   ]
  },
  {
   "cell_type": "markdown",
   "metadata": {},
   "source": [
    "### Reduplication"
   ]
  },
  {
   "cell_type": "code",
   "execution_count": null,
   "metadata": {
    "collapsed": true,
    "scrolled": false
   },
   "outputs": [],
   "source": [
    "reduplication = drop_and_subset('27A Reduplication', combined, desired_columns)\n",
    "reduplication.groupby('27A Reduplication').mean()[['Phonemes']].plot.bar()\n",
    "plt.xticks(rotation=40)"
   ]
  },
  {
   "cell_type": "markdown",
   "metadata": {},
   "source": [
    "### Feature 20A: Fusion of Selected Inflectional Formatives"
   ]
  },
  {
   "cell_type": "code",
   "execution_count": null,
   "metadata": {
    "collapsed": true
   },
   "outputs": [],
   "source": [
    "fusion = drop_and_subset('20A Fusion of Selected Inflectional Formatives', combined, desired_columns)\n",
    "fusion.groupby('20A Fusion of Selected Inflectional Formatives').mean()[['Phonemes']].plot.bar()\n",
    "plt.xticks(rotation=70)"
   ]
  },
  {
   "cell_type": "markdown",
   "metadata": {},
   "source": [
    "### Feature 21A: Exponence of Selected Inflectional Formatives"
   ]
  },
  {
   "cell_type": "code",
   "execution_count": null,
   "metadata": {
    "collapsed": true,
    "scrolled": false
   },
   "outputs": [],
   "source": [
    "exponence_a = drop_and_subset('21A Exponence of Selected Inflectional Formatives', combined, desired_columns)\n",
    "exponence_a.groupby('21A Exponence of Selected Inflectional Formatives').mean()[['Phonemes']].plot.bar()\n",
    "plt.xticks(rotation=70)"
   ]
  },
  {
   "cell_type": "markdown",
   "metadata": {},
   "source": [
    "### Feature 21B: Exponence of Tense-Aspect-Mood Inflection"
   ]
  },
  {
   "cell_type": "code",
   "execution_count": null,
   "metadata": {
    "collapsed": true
   },
   "outputs": [],
   "source": [
    "exponence_b = drop_and_subset('21B Exponence of Tense-Aspect-Mood Inflection', combined, desired_columns)\n",
    "exponence_b.groupby('21B Exponence of Tense-Aspect-Mood Inflection').mean()[['Phonemes']].plot.bar()\n",
    "plt.xticks(rotation=70)"
   ]
  }
 ],
 "metadata": {
  "anaconda-cloud": {},
  "kernelspec": {
   "display_name": "Python 3",
   "language": "python",
   "name": "python3"
  },
  "language_info": {
   "codemirror_mode": {
    "name": "ipython",
    "version": 3
   },
   "file_extension": ".py",
   "mimetype": "text/x-python",
   "name": "python",
   "nbconvert_exporter": "python",
   "pygments_lexer": "ipython3",
   "version": "3.6.1"
  }
 },
 "nbformat": 4,
 "nbformat_minor": 2
}
