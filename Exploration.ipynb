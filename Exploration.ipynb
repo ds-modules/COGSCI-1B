{
 "cells": [
  {
   "cell_type": "markdown",
   "metadata": {},
   "source": [
    "# Exploration"
   ]
  },
  {
   "cell_type": "code",
   "execution_count": 2,
   "metadata": {
    "collapsed": true
   },
   "outputs": [],
   "source": [
    "import scipy\n",
    "import numpy as np\n",
    "import pandas as pd\n",
    "import seaborn as sns\n",
    "from scipy.stats import mode\n",
    "from ipywidgets import interact\n",
    "import matplotlib.pyplot as plt\n",
    "from matplotlib.colors import ListedColormap\n",
    "from matplotlib import colors\n",
    "from sklearn.linear_model import LinearRegression\n",
    "import warnings\n",
    "\n",
    "warnings.filterwarnings('ignore')\n",
    "sns.set_style('darkgrid')\n",
    "%matplotlib inline"
   ]
  },
  {
   "cell_type": "code",
   "execution_count": 4,
   "metadata": {
    "collapsed": false
   },
   "outputs": [
    {
     "data": {
      "text/html": [
       "<div>\n",
       "<table border=\"1\" class=\"dataframe\">\n",
       "  <thead>\n",
       "    <tr style=\"text-align: right;\">\n",
       "      <th></th>\n",
       "      <th>ID</th>\n",
       "      <th>Language_ID</th>\n",
       "      <th>Language_name</th>\n",
       "      <th>Parameter_ID</th>\n",
       "      <th>Parameter_name</th>\n",
       "      <th>Value</th>\n",
       "      <th>Source</th>\n",
       "      <th>Comment</th>\n",
       "    </tr>\n",
       "  </thead>\n",
       "  <tbody>\n",
       "    <tr>\n",
       "      <th>0</th>\n",
       "      <td>1A-kgi</td>\n",
       "      <td>kgi</td>\n",
       "      <td>Konyagi</td>\n",
       "      <td>1A</td>\n",
       "      <td>Consonant Inventories</td>\n",
       "      <td>Large</td>\n",
       "      <td>Santos-1977</td>\n",
       "      <td>NaN</td>\n",
       "    </tr>\n",
       "    <tr>\n",
       "      <th>1</th>\n",
       "      <td>1A-cve</td>\n",
       "      <td>cve</td>\n",
       "      <td>Chuave</td>\n",
       "      <td>1A</td>\n",
       "      <td>Consonant Inventories</td>\n",
       "      <td>Small</td>\n",
       "      <td>Thurman-1970</td>\n",
       "      <td>NaN</td>\n",
       "    </tr>\n",
       "    <tr>\n",
       "      <th>2</th>\n",
       "      <td>1A-nbk</td>\n",
       "      <td>nbk</td>\n",
       "      <td>Natügu</td>\n",
       "      <td>1A</td>\n",
       "      <td>Consonant Inventories</td>\n",
       "      <td>Moderately large</td>\n",
       "      <td>Wurm-1972b</td>\n",
       "      <td>NaN</td>\n",
       "    </tr>\n",
       "    <tr>\n",
       "      <th>3</th>\n",
       "      <td>1A-ach</td>\n",
       "      <td>ach</td>\n",
       "      <td>Aché</td>\n",
       "      <td>1A</td>\n",
       "      <td>Consonant Inventories</td>\n",
       "      <td>Small</td>\n",
       "      <td>Susnik-1974</td>\n",
       "      <td>NaN</td>\n",
       "    </tr>\n",
       "    <tr>\n",
       "      <th>4</th>\n",
       "      <td>1A-aiz</td>\n",
       "      <td>aiz</td>\n",
       "      <td>Aizi</td>\n",
       "      <td>1A</td>\n",
       "      <td>Consonant Inventories</td>\n",
       "      <td>Average</td>\n",
       "      <td>Herault-1971</td>\n",
       "      <td>NaN</td>\n",
       "    </tr>\n",
       "  </tbody>\n",
       "</table>\n",
       "</div>"
      ],
      "text/plain": [
       "       ID Language_ID Language_name Parameter_ID         Parameter_name  \\\n",
       "0  1A-kgi         kgi       Konyagi           1A  Consonant Inventories   \n",
       "1  1A-cve         cve        Chuave           1A  Consonant Inventories   \n",
       "2  1A-nbk         nbk        Natügu           1A  Consonant Inventories   \n",
       "3  1A-ach         ach          Aché           1A  Consonant Inventories   \n",
       "4  1A-aiz         aiz          Aizi           1A  Consonant Inventories   \n",
       "\n",
       "              Value        Source  Comment  \n",
       "0             Large   Santos-1977      NaN  \n",
       "1             Small  Thurman-1970      NaN  \n",
       "2  Moderately large    Wurm-1972b      NaN  \n",
       "3             Small   Susnik-1974      NaN  \n",
       "4           Average  Herault-1971      NaN  "
      ]
     },
     "execution_count": 4,
     "metadata": {},
     "output_type": "execute_result"
    }
   ],
   "source": [
    "file_name = 'data/wals-chapter-1.csv'\n",
    "data = pd.read_csv(file_name)\n",
    "data.head()"
   ]
  },
  {
   "cell_type": "code",
   "execution_count": null,
   "metadata": {
    "collapsed": true
   },
   "outputs": [],
   "source": []
  }
 ],
 "metadata": {
  "anaconda-cloud": {},
  "kernelspec": {
   "display_name": "Python [default]",
   "language": "python",
   "name": "python3"
  },
  "language_info": {
   "codemirror_mode": {
    "name": "ipython",
    "version": 3
   },
   "file_extension": ".py",
   "mimetype": "text/x-python",
   "name": "python",
   "nbconvert_exporter": "python",
   "pygments_lexer": "ipython3",
   "version": "3.5.3"
  }
 },
 "nbformat": 4,
 "nbformat_minor": 1
}
