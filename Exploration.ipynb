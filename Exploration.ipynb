{
 "cells": [
  {
   "cell_type": "markdown",
   "metadata": {},
   "source": [
    "# Exploration"
   ]
  },
  {
   "cell_type": "code",
   "execution_count": 1,
   "metadata": {
    "collapsed": true
   },
   "outputs": [],
   "source": [
    "import scipy\n",
    "import numpy as np\n",
    "import pandas as pd\n",
    "import seaborn as sns\n",
    "from scipy.stats import mode\n",
    "from ipywidgets import interact\n",
    "from collections import Counter\n",
    "import matplotlib.pyplot as plt\n",
    "from matplotlib.colors import ListedColormap\n",
    "from matplotlib import colors\n",
    "from sklearn.linear_model import LinearRegression\n",
    "import warnings\n",
    "\n",
    "warnings.filterwarnings('ignore')\n",
    "sns.set_style('darkgrid')\n",
    "%matplotlib inline"
   ]
  },
  {
   "cell_type": "code",
   "execution_count": 2,
   "metadata": {
    "collapsed": false
   },
   "outputs": [
    {
     "name": "stdout",
     "output_type": "stream",
     "text": [
      "Index(['InventoryID', 'Source', 'LanguageCode', 'LanguageName', 'Glottocode',\n",
      "       'GlottologName', 'Trump', 'LanguageFamilyRoot', 'LanguageFamilyGenus',\n",
      "       'Country', 'Area', 'Population', 'Latitude', 'Longitude', 'Phonemes',\n",
      "       'Consonants', 'Tones', 'Vowels'],\n",
      "      dtype='object')\n"
     ]
    },
    {
     "data": {
      "text/html": [
       "<div>\n",
       "<table border=\"1\" class=\"dataframe\">\n",
       "  <thead>\n",
       "    <tr style=\"text-align: right;\">\n",
       "      <th></th>\n",
       "      <th>InventoryID</th>\n",
       "      <th>Source</th>\n",
       "      <th>LanguageCode</th>\n",
       "      <th>LanguageName</th>\n",
       "      <th>Glottocode</th>\n",
       "      <th>GlottologName</th>\n",
       "      <th>Trump</th>\n",
       "      <th>LanguageFamilyRoot</th>\n",
       "      <th>LanguageFamilyGenus</th>\n",
       "      <th>Country</th>\n",
       "      <th>Area</th>\n",
       "      <th>Population</th>\n",
       "      <th>Latitude</th>\n",
       "      <th>Longitude</th>\n",
       "      <th>Phonemes</th>\n",
       "      <th>Consonants</th>\n",
       "      <th>Tones</th>\n",
       "      <th>Vowels</th>\n",
       "    </tr>\n",
       "  </thead>\n",
       "  <tbody>\n",
       "    <tr>\n",
       "      <th>0</th>\n",
       "      <td>1</td>\n",
       "      <td>SPA</td>\n",
       "      <td>kor</td>\n",
       "      <td>Korean</td>\n",
       "      <td>kore1280</td>\n",
       "      <td>Korean</td>\n",
       "      <td>1</td>\n",
       "      <td>asis</td>\n",
       "      <td>Korean</td>\n",
       "      <td>Korea, South</td>\n",
       "      <td>Asia</td>\n",
       "      <td>42,000,000</td>\n",
       "      <td>37.5000</td>\n",
       "      <td>128.0000</td>\n",
       "      <td>40</td>\n",
       "      <td>22</td>\n",
       "      <td>0</td>\n",
       "      <td>18</td>\n",
       "    </tr>\n",
       "    <tr>\n",
       "      <th>1</th>\n",
       "      <td>2</td>\n",
       "      <td>SPA</td>\n",
       "      <td>ket</td>\n",
       "      <td>Ket</td>\n",
       "      <td>kett1243</td>\n",
       "      <td>Ket</td>\n",
       "      <td>1</td>\n",
       "      <td>yeos</td>\n",
       "      <td>Yeniseian</td>\n",
       "      <td>Russian Federation</td>\n",
       "      <td>Europe</td>\n",
       "      <td>190</td>\n",
       "      <td>63.7551</td>\n",
       "      <td>87.5466</td>\n",
       "      <td>32</td>\n",
       "      <td>18</td>\n",
       "      <td>0</td>\n",
       "      <td>14</td>\n",
       "    </tr>\n",
       "    <tr>\n",
       "      <th>2</th>\n",
       "      <td>3</td>\n",
       "      <td>SPA</td>\n",
       "      <td>lbe</td>\n",
       "      <td>Lak</td>\n",
       "      <td>lakk1252</td>\n",
       "      <td>Lak</td>\n",
       "      <td>1</td>\n",
       "      <td>ncau</td>\n",
       "      <td>Lak-Dargwa</td>\n",
       "      <td>Russian Federation</td>\n",
       "      <td>Europe</td>\n",
       "      <td>157,000</td>\n",
       "      <td>42.1328</td>\n",
       "      <td>47.0809</td>\n",
       "      <td>69</td>\n",
       "      <td>60</td>\n",
       "      <td>0</td>\n",
       "      <td>9</td>\n",
       "    </tr>\n",
       "    <tr>\n",
       "      <th>3</th>\n",
       "      <td>4</td>\n",
       "      <td>SPA</td>\n",
       "      <td>kbd</td>\n",
       "      <td>Kabardian</td>\n",
       "      <td>kaba1278</td>\n",
       "      <td>Kabardian</td>\n",
       "      <td>1</td>\n",
       "      <td>ncau</td>\n",
       "      <td>Northwest Caucasian</td>\n",
       "      <td>Russian Federation</td>\n",
       "      <td>Europe</td>\n",
       "      <td>520,000</td>\n",
       "      <td>43.5082</td>\n",
       "      <td>43.3918</td>\n",
       "      <td>56</td>\n",
       "      <td>49</td>\n",
       "      <td>0</td>\n",
       "      <td>7</td>\n",
       "    </tr>\n",
       "    <tr>\n",
       "      <th>4</th>\n",
       "      <td>5</td>\n",
       "      <td>SPA</td>\n",
       "      <td>kat</td>\n",
       "      <td>Georgian</td>\n",
       "      <td>nucl1302</td>\n",
       "      <td>Nuclear Georgian</td>\n",
       "      <td>1</td>\n",
       "      <td>kart</td>\n",
       "      <td>Kartvelian</td>\n",
       "      <td>Georgia</td>\n",
       "      <td>Asia</td>\n",
       "      <td>3,900,000</td>\n",
       "      <td>39.3705</td>\n",
       "      <td>45.8066</td>\n",
       "      <td>35</td>\n",
       "      <td>29</td>\n",
       "      <td>0</td>\n",
       "      <td>6</td>\n",
       "    </tr>\n",
       "  </tbody>\n",
       "</table>\n",
       "</div>"
      ],
      "text/plain": [
       "   InventoryID Source LanguageCode LanguageName Glottocode     GlottologName  \\\n",
       "0            1    SPA          kor       Korean   kore1280            Korean   \n",
       "1            2    SPA          ket          Ket   kett1243               Ket   \n",
       "2            3    SPA          lbe          Lak   lakk1252               Lak   \n",
       "3            4    SPA          kbd    Kabardian   kaba1278         Kabardian   \n",
       "4            5    SPA          kat     Georgian   nucl1302  Nuclear Georgian   \n",
       "\n",
       "   Trump LanguageFamilyRoot  LanguageFamilyGenus             Country    Area  \\\n",
       "0      1               asis               Korean        Korea, South    Asia   \n",
       "1      1               yeos            Yeniseian  Russian Federation  Europe   \n",
       "2      1               ncau           Lak-Dargwa  Russian Federation  Europe   \n",
       "3      1               ncau  Northwest Caucasian  Russian Federation  Europe   \n",
       "4      1               kart           Kartvelian             Georgia    Asia   \n",
       "\n",
       "   Population  Latitude  Longitude  Phonemes  Consonants  Tones  Vowels  \n",
       "0  42,000,000   37.5000   128.0000        40          22      0      18  \n",
       "1         190   63.7551    87.5466        32          18      0      14  \n",
       "2     157,000   42.1328    47.0809        69          60      0       9  \n",
       "3     520,000   43.5082    43.3918        56          49      0       7  \n",
       "4   3,900,000   39.3705    45.8066        35          29      0       6  "
      ]
     },
     "execution_count": 2,
     "metadata": {},
     "output_type": "execute_result"
    }
   ],
   "source": [
    "phoible_data = pd.read_csv('phoible_data/phoible-aggregated.tsv', delimiter='\\t')\n",
    "print(phoible_data.columns)\n",
    "phoible_data.head()"
   ]
  },
  {
   "cell_type": "code",
   "execution_count": 3,
   "metadata": {
    "collapsed": false,
    "scrolled": false
   },
   "outputs": [
    {
     "data": {
      "text/html": [
       "<div>\n",
       "<table border=\"1\" class=\"dataframe\">\n",
       "  <thead>\n",
       "    <tr style=\"text-align: right;\">\n",
       "      <th></th>\n",
       "      <th>wals_code</th>\n",
       "      <th>iso_code</th>\n",
       "      <th>glottocode</th>\n",
       "      <th>Name</th>\n",
       "      <th>latitude</th>\n",
       "      <th>longitude</th>\n",
       "      <th>genus</th>\n",
       "      <th>family</th>\n",
       "      <th>macroarea</th>\n",
       "      <th>countrycodes</th>\n",
       "      <th>...</th>\n",
       "      <th>137B M in Second Person Singular</th>\n",
       "      <th>136B M in First Person Singular</th>\n",
       "      <th>109B Other Roles of Applied Objects</th>\n",
       "      <th>10B Nasal Vowels in West Africa</th>\n",
       "      <th>25B Zero Marking of A and P Arguments</th>\n",
       "      <th>21B Exponence of Tense-Aspect-Mood Inflection</th>\n",
       "      <th>108B Productivity of the Antipassive Construction</th>\n",
       "      <th>130B Cultural Categories of Languages with Identity of 'Finger' and 'Hand'</th>\n",
       "      <th>58B Number of Possessive Nouns</th>\n",
       "      <th>79B Suppletion in Imperatives and Hortatives</th>\n",
       "    </tr>\n",
       "  </thead>\n",
       "  <tbody>\n",
       "    <tr>\n",
       "      <th>0</th>\n",
       "      <td>aab</td>\n",
       "      <td>NaN</td>\n",
       "      <td>NaN</td>\n",
       "      <td>Arapesh (Abu)</td>\n",
       "      <td>-3.450000</td>\n",
       "      <td>142.950000</td>\n",
       "      <td>Kombio-Arapesh</td>\n",
       "      <td>Torricelli</td>\n",
       "      <td>NaN</td>\n",
       "      <td>PG</td>\n",
       "      <td>...</td>\n",
       "      <td>NaN</td>\n",
       "      <td>NaN</td>\n",
       "      <td>NaN</td>\n",
       "      <td>NaN</td>\n",
       "      <td>NaN</td>\n",
       "      <td>NaN</td>\n",
       "      <td>NaN</td>\n",
       "      <td>NaN</td>\n",
       "      <td>NaN</td>\n",
       "      <td>NaN</td>\n",
       "    </tr>\n",
       "    <tr>\n",
       "      <th>1</th>\n",
       "      <td>aar</td>\n",
       "      <td>aiw</td>\n",
       "      <td>aari1239</td>\n",
       "      <td>Aari</td>\n",
       "      <td>6.000000</td>\n",
       "      <td>36.583333</td>\n",
       "      <td>South Omotic</td>\n",
       "      <td>Afro-Asiatic</td>\n",
       "      <td>Africa</td>\n",
       "      <td>ET</td>\n",
       "      <td>...</td>\n",
       "      <td>NaN</td>\n",
       "      <td>NaN</td>\n",
       "      <td>NaN</td>\n",
       "      <td>NaN</td>\n",
       "      <td>NaN</td>\n",
       "      <td>NaN</td>\n",
       "      <td>NaN</td>\n",
       "      <td>NaN</td>\n",
       "      <td>NaN</td>\n",
       "      <td>NaN</td>\n",
       "    </tr>\n",
       "    <tr>\n",
       "      <th>2</th>\n",
       "      <td>aba</td>\n",
       "      <td>aau</td>\n",
       "      <td>abau1245</td>\n",
       "      <td>Abau</td>\n",
       "      <td>-4.000000</td>\n",
       "      <td>141.250000</td>\n",
       "      <td>Upper Sepik</td>\n",
       "      <td>Sepik</td>\n",
       "      <td>Papunesia</td>\n",
       "      <td>PG</td>\n",
       "      <td>...</td>\n",
       "      <td>NaN</td>\n",
       "      <td>NaN</td>\n",
       "      <td>NaN</td>\n",
       "      <td>NaN</td>\n",
       "      <td>NaN</td>\n",
       "      <td>NaN</td>\n",
       "      <td>NaN</td>\n",
       "      <td>NaN</td>\n",
       "      <td>NaN</td>\n",
       "      <td>NaN</td>\n",
       "    </tr>\n",
       "    <tr>\n",
       "      <th>3</th>\n",
       "      <td>abb</td>\n",
       "      <td>shu</td>\n",
       "      <td>chad1249</td>\n",
       "      <td>Arabic (Abbéché Chad)</td>\n",
       "      <td>13.833333</td>\n",
       "      <td>20.833333</td>\n",
       "      <td>Semitic</td>\n",
       "      <td>Afro-Asiatic</td>\n",
       "      <td>Africa</td>\n",
       "      <td>TD</td>\n",
       "      <td>...</td>\n",
       "      <td>NaN</td>\n",
       "      <td>NaN</td>\n",
       "      <td>NaN</td>\n",
       "      <td>NaN</td>\n",
       "      <td>NaN</td>\n",
       "      <td>NaN</td>\n",
       "      <td>NaN</td>\n",
       "      <td>NaN</td>\n",
       "      <td>NaN</td>\n",
       "      <td>NaN</td>\n",
       "    </tr>\n",
       "    <tr>\n",
       "      <th>4</th>\n",
       "      <td>abd</td>\n",
       "      <td>abi</td>\n",
       "      <td>abid1235</td>\n",
       "      <td>Abidji</td>\n",
       "      <td>5.666667</td>\n",
       "      <td>-4.583333</td>\n",
       "      <td>Kwa</td>\n",
       "      <td>Niger-Congo</td>\n",
       "      <td>Africa</td>\n",
       "      <td>CI</td>\n",
       "      <td>...</td>\n",
       "      <td>NaN</td>\n",
       "      <td>NaN</td>\n",
       "      <td>NaN</td>\n",
       "      <td>NaN</td>\n",
       "      <td>NaN</td>\n",
       "      <td>NaN</td>\n",
       "      <td>NaN</td>\n",
       "      <td>NaN</td>\n",
       "      <td>NaN</td>\n",
       "      <td>NaN</td>\n",
       "    </tr>\n",
       "  </tbody>\n",
       "</table>\n",
       "<p>5 rows × 202 columns</p>\n",
       "</div>"
      ],
      "text/plain": [
       "  wals_code iso_code glottocode                   Name   latitude   longitude  \\\n",
       "0       aab      NaN        NaN          Arapesh (Abu)  -3.450000  142.950000   \n",
       "1       aar      aiw   aari1239                   Aari   6.000000   36.583333   \n",
       "2       aba      aau   abau1245                   Abau  -4.000000  141.250000   \n",
       "3       abb      shu   chad1249  Arabic (Abbéché Chad)  13.833333   20.833333   \n",
       "4       abd      abi   abid1235                 Abidji   5.666667   -4.583333   \n",
       "\n",
       "            genus        family  macroarea countrycodes  \\\n",
       "0  Kombio-Arapesh    Torricelli        NaN           PG   \n",
       "1    South Omotic  Afro-Asiatic     Africa           ET   \n",
       "2     Upper Sepik         Sepik  Papunesia           PG   \n",
       "3         Semitic  Afro-Asiatic     Africa           TD   \n",
       "4             Kwa   Niger-Congo     Africa           CI   \n",
       "\n",
       "                      ...                       \\\n",
       "0                     ...                        \n",
       "1                     ...                        \n",
       "2                     ...                        \n",
       "3                     ...                        \n",
       "4                     ...                        \n",
       "\n",
       "  137B M in Second Person Singular 136B M in First Person Singular  \\\n",
       "0                              NaN                             NaN   \n",
       "1                              NaN                             NaN   \n",
       "2                              NaN                             NaN   \n",
       "3                              NaN                             NaN   \n",
       "4                              NaN                             NaN   \n",
       "\n",
       "  109B Other Roles of Applied Objects 10B Nasal Vowels in West Africa  \\\n",
       "0                                 NaN                             NaN   \n",
       "1                                 NaN                             NaN   \n",
       "2                                 NaN                             NaN   \n",
       "3                                 NaN                             NaN   \n",
       "4                                 NaN                             NaN   \n",
       "\n",
       "  25B Zero Marking of A and P Arguments  \\\n",
       "0                                   NaN   \n",
       "1                                   NaN   \n",
       "2                                   NaN   \n",
       "3                                   NaN   \n",
       "4                                   NaN   \n",
       "\n",
       "  21B Exponence of Tense-Aspect-Mood Inflection  \\\n",
       "0                                           NaN   \n",
       "1                                           NaN   \n",
       "2                                           NaN   \n",
       "3                                           NaN   \n",
       "4                                           NaN   \n",
       "\n",
       "  108B Productivity of the Antipassive Construction  \\\n",
       "0                                               NaN   \n",
       "1                                               NaN   \n",
       "2                                               NaN   \n",
       "3                                               NaN   \n",
       "4                                               NaN   \n",
       "\n",
       "  130B Cultural Categories of Languages with Identity of 'Finger' and 'Hand'  \\\n",
       "0                                                NaN                           \n",
       "1                                                NaN                           \n",
       "2                                                NaN                           \n",
       "3                                                NaN                           \n",
       "4                                                NaN                           \n",
       "\n",
       "  58B Number of Possessive Nouns 79B Suppletion in Imperatives and Hortatives  \n",
       "0                            NaN                                          NaN  \n",
       "1                            NaN                                          NaN  \n",
       "2                            NaN                                          NaN  \n",
       "3                            NaN                                          NaN  \n",
       "4                            NaN                                          NaN  \n",
       "\n",
       "[5 rows x 202 columns]"
      ]
     },
     "execution_count": 3,
     "metadata": {},
     "output_type": "execute_result"
    }
   ],
   "source": [
    "wals_data = pd.read_csv('wals_data/language.csv')\n",
    "wals_data.head()"
   ]
  },
  {
   "cell_type": "code",
   "execution_count": 4,
   "metadata": {
    "collapsed": false
   },
   "outputs": [
    {
     "data": {
      "text/html": [
       "<div>\n",
       "<table border=\"1\" class=\"dataframe\">\n",
       "  <thead>\n",
       "    <tr style=\"text-align: right;\">\n",
       "      <th></th>\n",
       "      <th>index</th>\n",
       "      <th>0</th>\n",
       "    </tr>\n",
       "  </thead>\n",
       "  <tbody>\n",
       "    <tr>\n",
       "      <th>385</th>\n",
       "      <td>gwn</td>\n",
       "      <td>6</td>\n",
       "    </tr>\n",
       "    <tr>\n",
       "      <th>380</th>\n",
       "      <td>sgw</td>\n",
       "      <td>6</td>\n",
       "    </tr>\n",
       "    <tr>\n",
       "      <th>998</th>\n",
       "      <td>nyf</td>\n",
       "      <td>6</td>\n",
       "    </tr>\n",
       "    <tr>\n",
       "      <th>453</th>\n",
       "      <td>car</td>\n",
       "      <td>5</td>\n",
       "    </tr>\n",
       "    <tr>\n",
       "      <th>1169</th>\n",
       "      <td>xtc</td>\n",
       "      <td>5</td>\n",
       "    </tr>\n",
       "  </tbody>\n",
       "</table>\n",
       "</div>"
      ],
      "text/plain": [
       "     index  0\n",
       "385    gwn  6\n",
       "380    sgw  6\n",
       "998    nyf  6\n",
       "453    car  5\n",
       "1169   xtc  5"
      ]
     },
     "execution_count": 4,
     "metadata": {},
     "output_type": "execute_result"
    }
   ],
   "source": [
    "# multiple rows for some of these Language Codes\n",
    "pd.DataFrame.from_dict(Counter(phoible_data['LanguageCode']), orient='index').reset_index().sort_values(0, ascending=False).head()"
   ]
  },
  {
   "cell_type": "code",
   "execution_count": 5,
   "metadata": {
    "collapsed": false
   },
   "outputs": [
    {
     "data": {
      "text/html": [
       "<div>\n",
       "<table border=\"1\" class=\"dataframe\">\n",
       "  <thead>\n",
       "    <tr style=\"text-align: right;\">\n",
       "      <th></th>\n",
       "      <th></th>\n",
       "      <th>InventoryID</th>\n",
       "      <th>LanguageName</th>\n",
       "      <th>Glottocode</th>\n",
       "      <th>GlottologName</th>\n",
       "      <th>Trump</th>\n",
       "      <th>LanguageFamilyRoot</th>\n",
       "      <th>LanguageFamilyGenus</th>\n",
       "      <th>Country</th>\n",
       "      <th>Area</th>\n",
       "      <th>Population</th>\n",
       "      <th>Latitude</th>\n",
       "      <th>Longitude</th>\n",
       "      <th>Phonemes</th>\n",
       "      <th>Consonants</th>\n",
       "      <th>Tones</th>\n",
       "      <th>Vowels</th>\n",
       "    </tr>\n",
       "    <tr>\n",
       "      <th>Source</th>\n",
       "      <th>LanguageCode</th>\n",
       "      <th></th>\n",
       "      <th></th>\n",
       "      <th></th>\n",
       "      <th></th>\n",
       "      <th></th>\n",
       "      <th></th>\n",
       "      <th></th>\n",
       "      <th></th>\n",
       "      <th></th>\n",
       "      <th></th>\n",
       "      <th></th>\n",
       "      <th></th>\n",
       "      <th></th>\n",
       "      <th></th>\n",
       "      <th></th>\n",
       "      <th></th>\n",
       "    </tr>\n",
       "  </thead>\n",
       "  <tbody>\n",
       "    <tr>\n",
       "      <th rowspan=\"5\" valign=\"top\">GM</th>\n",
       "      <th>sgw</th>\n",
       "      <td>6</td>\n",
       "      <td>6</td>\n",
       "      <td>6</td>\n",
       "      <td>6</td>\n",
       "      <td>6</td>\n",
       "      <td>6</td>\n",
       "      <td>6</td>\n",
       "      <td>6</td>\n",
       "      <td>6</td>\n",
       "      <td>6</td>\n",
       "      <td>6</td>\n",
       "      <td>6</td>\n",
       "      <td>6</td>\n",
       "      <td>6</td>\n",
       "      <td>6</td>\n",
       "      <td>6</td>\n",
       "    </tr>\n",
       "    <tr>\n",
       "      <th>gwn</th>\n",
       "      <td>6</td>\n",
       "      <td>6</td>\n",
       "      <td>6</td>\n",
       "      <td>6</td>\n",
       "      <td>6</td>\n",
       "      <td>6</td>\n",
       "      <td>6</td>\n",
       "      <td>6</td>\n",
       "      <td>6</td>\n",
       "      <td>6</td>\n",
       "      <td>6</td>\n",
       "      <td>6</td>\n",
       "      <td>6</td>\n",
       "      <td>6</td>\n",
       "      <td>6</td>\n",
       "      <td>6</td>\n",
       "    </tr>\n",
       "    <tr>\n",
       "      <th>nyf</th>\n",
       "      <td>6</td>\n",
       "      <td>6</td>\n",
       "      <td>6</td>\n",
       "      <td>6</td>\n",
       "      <td>6</td>\n",
       "      <td>6</td>\n",
       "      <td>6</td>\n",
       "      <td>6</td>\n",
       "      <td>6</td>\n",
       "      <td>6</td>\n",
       "      <td>6</td>\n",
       "      <td>6</td>\n",
       "      <td>6</td>\n",
       "      <td>6</td>\n",
       "      <td>6</td>\n",
       "      <td>6</td>\n",
       "    </tr>\n",
       "    <tr>\n",
       "      <th>bva</th>\n",
       "      <td>4</td>\n",
       "      <td>4</td>\n",
       "      <td>4</td>\n",
       "      <td>4</td>\n",
       "      <td>4</td>\n",
       "      <td>4</td>\n",
       "      <td>4</td>\n",
       "      <td>4</td>\n",
       "      <td>4</td>\n",
       "      <td>4</td>\n",
       "      <td>4</td>\n",
       "      <td>4</td>\n",
       "      <td>4</td>\n",
       "      <td>4</td>\n",
       "      <td>4</td>\n",
       "      <td>4</td>\n",
       "    </tr>\n",
       "    <tr>\n",
       "      <th>ndo</th>\n",
       "      <td>4</td>\n",
       "      <td>4</td>\n",
       "      <td>4</td>\n",
       "      <td>4</td>\n",
       "      <td>4</td>\n",
       "      <td>4</td>\n",
       "      <td>4</td>\n",
       "      <td>4</td>\n",
       "      <td>4</td>\n",
       "      <td>4</td>\n",
       "      <td>4</td>\n",
       "      <td>4</td>\n",
       "      <td>4</td>\n",
       "      <td>4</td>\n",
       "      <td>4</td>\n",
       "      <td>4</td>\n",
       "    </tr>\n",
       "    <tr>\n",
       "      <th rowspan=\"2\" valign=\"top\">SAPHON</th>\n",
       "      <th>wca</th>\n",
       "      <td>3</td>\n",
       "      <td>3</td>\n",
       "      <td>3</td>\n",
       "      <td>3</td>\n",
       "      <td>3</td>\n",
       "      <td>3</td>\n",
       "      <td>3</td>\n",
       "      <td>3</td>\n",
       "      <td>3</td>\n",
       "      <td>3</td>\n",
       "      <td>3</td>\n",
       "      <td>3</td>\n",
       "      <td>3</td>\n",
       "      <td>3</td>\n",
       "      <td>3</td>\n",
       "      <td>3</td>\n",
       "    </tr>\n",
       "    <tr>\n",
       "      <th>cas</th>\n",
       "      <td>3</td>\n",
       "      <td>3</td>\n",
       "      <td>3</td>\n",
       "      <td>3</td>\n",
       "      <td>3</td>\n",
       "      <td>3</td>\n",
       "      <td>3</td>\n",
       "      <td>3</td>\n",
       "      <td>3</td>\n",
       "      <td>3</td>\n",
       "      <td>3</td>\n",
       "      <td>3</td>\n",
       "      <td>3</td>\n",
       "      <td>3</td>\n",
       "      <td>3</td>\n",
       "      <td>3</td>\n",
       "    </tr>\n",
       "    <tr>\n",
       "      <th rowspan=\"2\" valign=\"top\">GM</th>\n",
       "      <th>lmp</th>\n",
       "      <td>3</td>\n",
       "      <td>3</td>\n",
       "      <td>3</td>\n",
       "      <td>3</td>\n",
       "      <td>3</td>\n",
       "      <td>3</td>\n",
       "      <td>3</td>\n",
       "      <td>3</td>\n",
       "      <td>3</td>\n",
       "      <td>3</td>\n",
       "      <td>3</td>\n",
       "      <td>3</td>\n",
       "      <td>3</td>\n",
       "      <td>3</td>\n",
       "      <td>3</td>\n",
       "      <td>3</td>\n",
       "    </tr>\n",
       "    <tr>\n",
       "      <th>xtc</th>\n",
       "      <td>3</td>\n",
       "      <td>3</td>\n",
       "      <td>3</td>\n",
       "      <td>3</td>\n",
       "      <td>3</td>\n",
       "      <td>3</td>\n",
       "      <td>3</td>\n",
       "      <td>3</td>\n",
       "      <td>3</td>\n",
       "      <td>3</td>\n",
       "      <td>3</td>\n",
       "      <td>3</td>\n",
       "      <td>3</td>\n",
       "      <td>3</td>\n",
       "      <td>3</td>\n",
       "      <td>3</td>\n",
       "    </tr>\n",
       "    <tr>\n",
       "      <th>SAPHON</th>\n",
       "      <th>qvn</th>\n",
       "      <td>3</td>\n",
       "      <td>3</td>\n",
       "      <td>3</td>\n",
       "      <td>3</td>\n",
       "      <td>3</td>\n",
       "      <td>3</td>\n",
       "      <td>3</td>\n",
       "      <td>3</td>\n",
       "      <td>3</td>\n",
       "      <td>3</td>\n",
       "      <td>3</td>\n",
       "      <td>3</td>\n",
       "      <td>3</td>\n",
       "      <td>3</td>\n",
       "      <td>3</td>\n",
       "      <td>3</td>\n",
       "    </tr>\n",
       "  </tbody>\n",
       "</table>\n",
       "</div>"
      ],
      "text/plain": [
       "                     InventoryID  LanguageName  Glottocode  GlottologName  \\\n",
       "Source LanguageCode                                                         \n",
       "GM     sgw                     6             6           6              6   \n",
       "       gwn                     6             6           6              6   \n",
       "       nyf                     6             6           6              6   \n",
       "       bva                     4             4           4              4   \n",
       "       ndo                     4             4           4              4   \n",
       "SAPHON wca                     3             3           3              3   \n",
       "       cas                     3             3           3              3   \n",
       "GM     lmp                     3             3           3              3   \n",
       "       xtc                     3             3           3              3   \n",
       "SAPHON qvn                     3             3           3              3   \n",
       "\n",
       "                     Trump  LanguageFamilyRoot  LanguageFamilyGenus  Country  \\\n",
       "Source LanguageCode                                                            \n",
       "GM     sgw               6                   6                    6        6   \n",
       "       gwn               6                   6                    6        6   \n",
       "       nyf               6                   6                    6        6   \n",
       "       bva               4                   4                    4        4   \n",
       "       ndo               4                   4                    4        4   \n",
       "SAPHON wca               3                   3                    3        3   \n",
       "       cas               3                   3                    3        3   \n",
       "GM     lmp               3                   3                    3        3   \n",
       "       xtc               3                   3                    3        3   \n",
       "SAPHON qvn               3                   3                    3        3   \n",
       "\n",
       "                     Area  Population  Latitude  Longitude  Phonemes  \\\n",
       "Source LanguageCode                                                    \n",
       "GM     sgw              6           6         6          6         6   \n",
       "       gwn              6           6         6          6         6   \n",
       "       nyf              6           6         6          6         6   \n",
       "       bva              4           4         4          4         4   \n",
       "       ndo              4           4         4          4         4   \n",
       "SAPHON wca              3           3         3          3         3   \n",
       "       cas              3           3         3          3         3   \n",
       "GM     lmp              3           3         3          3         3   \n",
       "       xtc              3           3         3          3         3   \n",
       "SAPHON qvn              3           3         3          3         3   \n",
       "\n",
       "                     Consonants  Tones  Vowels  \n",
       "Source LanguageCode                             \n",
       "GM     sgw                    6      6       6  \n",
       "       gwn                    6      6       6  \n",
       "       nyf                    6      6       6  \n",
       "       bva                    4      4       4  \n",
       "       ndo                    4      4       4  \n",
       "SAPHON wca                    3      3       3  \n",
       "       cas                    3      3       3  \n",
       "GM     lmp                    3      3       3  \n",
       "       xtc                    3      3       3  \n",
       "SAPHON qvn                    3      3       3  "
      ]
     },
     "execution_count": 5,
     "metadata": {},
     "output_type": "execute_result"
    }
   ],
   "source": [
    "# same thing as above\n",
    "phoible_data.groupby(['Source', 'LanguageCode']).count().sort_values('LanguageName', ascending=False).head(10)"
   ]
  },
  {
   "cell_type": "code",
   "execution_count": 6,
   "metadata": {
    "collapsed": false
   },
   "outputs": [
    {
     "data": {
      "text/html": [
       "<div>\n",
       "<table border=\"1\" class=\"dataframe\">\n",
       "  <thead>\n",
       "    <tr style=\"text-align: right;\">\n",
       "      <th></th>\n",
       "      <th>InventoryID</th>\n",
       "      <th>Source</th>\n",
       "      <th>LanguageCode</th>\n",
       "      <th>LanguageName</th>\n",
       "      <th>Glottocode</th>\n",
       "      <th>GlottologName</th>\n",
       "      <th>Trump</th>\n",
       "      <th>LanguageFamilyRoot</th>\n",
       "      <th>LanguageFamilyGenus</th>\n",
       "      <th>Country</th>\n",
       "      <th>Area</th>\n",
       "      <th>Population</th>\n",
       "      <th>Latitude</th>\n",
       "      <th>Longitude</th>\n",
       "      <th>Phonemes</th>\n",
       "      <th>Consonants</th>\n",
       "      <th>Tones</th>\n",
       "      <th>Vowels</th>\n",
       "    </tr>\n",
       "  </thead>\n",
       "  <tbody>\n",
       "    <tr>\n",
       "      <th>1458</th>\n",
       "      <td>1459</td>\n",
       "      <td>GM</td>\n",
       "      <td>sgw</td>\n",
       "      <td>Muher</td>\n",
       "      <td>seba1251</td>\n",
       "      <td>Sebat Bet Gurage</td>\n",
       "      <td>1</td>\n",
       "      <td>afas</td>\n",
       "      <td>Semitic</td>\n",
       "      <td>Ethiopia</td>\n",
       "      <td>Africa</td>\n",
       "      <td>2,320,000</td>\n",
       "      <td>8.11879</td>\n",
       "      <td>37.9891</td>\n",
       "      <td>42</td>\n",
       "      <td>34</td>\n",
       "      <td>0</td>\n",
       "      <td>8</td>\n",
       "    </tr>\n",
       "    <tr>\n",
       "      <th>1459</th>\n",
       "      <td>1460</td>\n",
       "      <td>GM</td>\n",
       "      <td>sgw</td>\n",
       "      <td>Ezha</td>\n",
       "      <td>seba1251</td>\n",
       "      <td>Sebat Bet Gurage</td>\n",
       "      <td>2</td>\n",
       "      <td>afas</td>\n",
       "      <td>Semitic</td>\n",
       "      <td>Ethiopia</td>\n",
       "      <td>Africa</td>\n",
       "      <td>2,320,000</td>\n",
       "      <td>8.11879</td>\n",
       "      <td>37.9891</td>\n",
       "      <td>39</td>\n",
       "      <td>33</td>\n",
       "      <td>0</td>\n",
       "      <td>6</td>\n",
       "    </tr>\n",
       "    <tr>\n",
       "      <th>1460</th>\n",
       "      <td>1461</td>\n",
       "      <td>GM</td>\n",
       "      <td>sgw</td>\n",
       "      <td>Chaha</td>\n",
       "      <td>seba1251</td>\n",
       "      <td>Sebat Bet Gurage</td>\n",
       "      <td>3</td>\n",
       "      <td>afas</td>\n",
       "      <td>Semitic</td>\n",
       "      <td>Ethiopia</td>\n",
       "      <td>Africa</td>\n",
       "      <td>2,320,000</td>\n",
       "      <td>8.11879</td>\n",
       "      <td>37.9891</td>\n",
       "      <td>44</td>\n",
       "      <td>36</td>\n",
       "      <td>0</td>\n",
       "      <td>8</td>\n",
       "    </tr>\n",
       "    <tr>\n",
       "      <th>1461</th>\n",
       "      <td>1462</td>\n",
       "      <td>GM</td>\n",
       "      <td>sgw</td>\n",
       "      <td>Gumer</td>\n",
       "      <td>seba1251</td>\n",
       "      <td>Sebat Bet Gurage</td>\n",
       "      <td>4</td>\n",
       "      <td>afas</td>\n",
       "      <td>Semitic</td>\n",
       "      <td>Ethiopia</td>\n",
       "      <td>Africa</td>\n",
       "      <td>2,320,000</td>\n",
       "      <td>8.11879</td>\n",
       "      <td>37.9891</td>\n",
       "      <td>42</td>\n",
       "      <td>35</td>\n",
       "      <td>0</td>\n",
       "      <td>7</td>\n",
       "    </tr>\n",
       "    <tr>\n",
       "      <th>1462</th>\n",
       "      <td>1463</td>\n",
       "      <td>GM</td>\n",
       "      <td>sgw</td>\n",
       "      <td>Gura</td>\n",
       "      <td>seba1251</td>\n",
       "      <td>Sebat Bet Gurage</td>\n",
       "      <td>5</td>\n",
       "      <td>afas</td>\n",
       "      <td>Semitic</td>\n",
       "      <td>Ethiopia</td>\n",
       "      <td>Africa</td>\n",
       "      <td>2,320,000</td>\n",
       "      <td>8.11879</td>\n",
       "      <td>37.9891</td>\n",
       "      <td>42</td>\n",
       "      <td>36</td>\n",
       "      <td>0</td>\n",
       "      <td>6</td>\n",
       "    </tr>\n",
       "    <tr>\n",
       "      <th>1463</th>\n",
       "      <td>1464</td>\n",
       "      <td>GM</td>\n",
       "      <td>sgw</td>\n",
       "      <td>Gyeto</td>\n",
       "      <td>seba1251</td>\n",
       "      <td>Sebat Bet Gurage</td>\n",
       "      <td>6</td>\n",
       "      <td>afas</td>\n",
       "      <td>Semitic</td>\n",
       "      <td>Ethiopia</td>\n",
       "      <td>Africa</td>\n",
       "      <td>2,320,000</td>\n",
       "      <td>8.11879</td>\n",
       "      <td>37.9891</td>\n",
       "      <td>45</td>\n",
       "      <td>39</td>\n",
       "      <td>0</td>\n",
       "      <td>6</td>\n",
       "    </tr>\n",
       "  </tbody>\n",
       "</table>\n",
       "</div>"
      ],
      "text/plain": [
       "      InventoryID Source LanguageCode LanguageName Glottocode  \\\n",
       "1458         1459     GM          sgw        Muher   seba1251   \n",
       "1459         1460     GM          sgw         Ezha   seba1251   \n",
       "1460         1461     GM          sgw        Chaha   seba1251   \n",
       "1461         1462     GM          sgw        Gumer   seba1251   \n",
       "1462         1463     GM          sgw         Gura   seba1251   \n",
       "1463         1464     GM          sgw        Gyeto   seba1251   \n",
       "\n",
       "         GlottologName  Trump LanguageFamilyRoot LanguageFamilyGenus  \\\n",
       "1458  Sebat Bet Gurage      1               afas             Semitic   \n",
       "1459  Sebat Bet Gurage      2               afas             Semitic   \n",
       "1460  Sebat Bet Gurage      3               afas             Semitic   \n",
       "1461  Sebat Bet Gurage      4               afas             Semitic   \n",
       "1462  Sebat Bet Gurage      5               afas             Semitic   \n",
       "1463  Sebat Bet Gurage      6               afas             Semitic   \n",
       "\n",
       "       Country    Area Population  Latitude  Longitude  Phonemes  Consonants  \\\n",
       "1458  Ethiopia  Africa  2,320,000   8.11879    37.9891        42          34   \n",
       "1459  Ethiopia  Africa  2,320,000   8.11879    37.9891        39          33   \n",
       "1460  Ethiopia  Africa  2,320,000   8.11879    37.9891        44          36   \n",
       "1461  Ethiopia  Africa  2,320,000   8.11879    37.9891        42          35   \n",
       "1462  Ethiopia  Africa  2,320,000   8.11879    37.9891        42          36   \n",
       "1463  Ethiopia  Africa  2,320,000   8.11879    37.9891        45          39   \n",
       "\n",
       "      Tones  Vowels  \n",
       "1458      0       8  \n",
       "1459      0       6  \n",
       "1460      0       8  \n",
       "1461      0       7  \n",
       "1462      0       6  \n",
       "1463      0       6  "
      ]
     },
     "execution_count": 6,
     "metadata": {},
     "output_type": "execute_result"
    }
   ],
   "source": [
    "# same language code, but different language name? What is `Trump`?\n",
    "cond = np.logical_and(phoible_data['Source'] == 'GM', phoible_data['LanguageCode'] == 'sgw')\n",
    "phoible_data[cond]"
   ]
  },
  {
   "cell_type": "markdown",
   "metadata": {},
   "source": [
    "# Start of Assignment"
   ]
  },
  {
   "cell_type": "markdown",
   "metadata": {},
   "source": [
    "## Background\n",
    "\n",
    "One big question in cognitive science is the relationship between linguistic features (e.g. number of vowels, word order and number of tense categories) and non-linguistic features (e.g. population size, altitude and climate). In particular, a lot of attention has been paid to the relationship between population size and various linguistic features. People have looked at the relationship between population size and:"
   ]
  },
  {
   "cell_type": "markdown",
   "metadata": {},
   "source": [
    "- size of the phoneme inventory"
   ]
  },
  {
   "cell_type": "code",
   "execution_count": null,
   "metadata": {
    "collapsed": true
   },
   "outputs": [],
   "source": []
  },
  {
   "cell_type": "markdown",
   "metadata": {},
   "source": [
    "- morphological complexity"
   ]
  },
  {
   "cell_type": "code",
   "execution_count": null,
   "metadata": {
    "collapsed": true
   },
   "outputs": [],
   "source": []
  },
  {
   "cell_type": "markdown",
   "metadata": {},
   "source": [
    "- Relationship between population size and phonemic inventory"
   ]
  },
  {
   "cell_type": "code",
   "execution_count": null,
   "metadata": {
    "collapsed": true
   },
   "outputs": [],
   "source": []
  },
  {
   "cell_type": "markdown",
   "metadata": {},
   "source": [
    "Phonemes are individual sounds. They come from the IPA, which is the phonetic alphabet. Phonemes can either be consonants or vowels. Languages have a fixed number of phonemes. The best data source for this is PHOIBLE. \n",
    "Visualize the following univariate distributions both as a histogram and on a map:\n",
    "- Number of consonants"
   ]
  },
  {
   "cell_type": "code",
   "execution_count": 7,
   "metadata": {
    "collapsed": false
   },
   "outputs": [
    {
     "data": {
      "text/plain": [
       "<matplotlib.axes._subplots.AxesSubplot at 0x11a72b3c8>"
      ]
     },
     "execution_count": 7,
     "metadata": {},
     "output_type": "execute_result"
    },
    {
     "data": {
      "image/png": "[encoded data removed]",
      "text/plain": [
       "<matplotlib.figure.Figure at 0x11a74dfd0>"
      ]
     },
     "metadata": {},
     "output_type": "display_data"
    }
   ],
   "source": [
    "sns.distplot(phoible_data['Consonants'])"
   ]
  },
  {
   "cell_type": "code",
   "execution_count": null,
   "metadata": {
    "collapsed": true
   },
   "outputs": [],
   "source": []
  },
  {
   "cell_type": "markdown",
   "metadata": {},
   "source": [
    "- Number of vowels"
   ]
  },
  {
   "cell_type": "code",
   "execution_count": 8,
   "metadata": {
    "collapsed": false
   },
   "outputs": [
    {
     "data": {
      "text/plain": [
       "<matplotlib.axes._subplots.AxesSubplot at 0x11a8f1b00>"
      ]
     },
     "execution_count": 8,
     "metadata": {},
     "output_type": "execute_result"
    },
    {
     "data": {
      "image/png": "[encoded data removed]",
      "text/plain": [
       "<matplotlib.figure.Figure at 0x11a8ef9b0>"
      ]
     },
     "metadata": {},
     "output_type": "display_data"
    }
   ],
   "source": [
    "sns.distplot(phoible_data['Vowels'])"
   ]
  },
  {
   "cell_type": "code",
   "execution_count": null,
   "metadata": {
    "collapsed": true
   },
   "outputs": [],
   "source": []
  },
  {
   "cell_type": "markdown",
   "metadata": {},
   "source": [
    "- Number of phonemes"
   ]
  },
  {
   "cell_type": "code",
   "execution_count": 9,
   "metadata": {
    "collapsed": false
   },
   "outputs": [
    {
     "data": {
      "text/plain": [
       "<matplotlib.axes._subplots.AxesSubplot at 0x11ab476a0>"
      ]
     },
     "execution_count": 9,
     "metadata": {},
     "output_type": "execute_result"
    },
    {
     "data": {
      "image/png": "[encoded data removed]",
      "text/plain": [
       "<matplotlib.figure.Figure at 0x11ab4ef98>"
      ]
     },
     "metadata": {},
     "output_type": "display_data"
    }
   ],
   "source": [
    "sns.distplot(phoible_data['Phonemes'])"
   ]
  },
  {
   "cell_type": "code",
   "execution_count": 15,
   "metadata": {
    "collapsed": false
   },
   "outputs": [
    {
     "data": {
      "text/html": [
       "<div>\n",
       "<table border=\"1\" class=\"dataframe\">\n",
       "  <thead>\n",
       "    <tr style=\"text-align: right;\">\n",
       "      <th></th>\n",
       "      <th>InventoryID</th>\n",
       "      <th>Source</th>\n",
       "      <th>LanguageCode</th>\n",
       "      <th>LanguageName</th>\n",
       "      <th>Glottocode</th>\n",
       "      <th>GlottologName</th>\n",
       "      <th>Trump</th>\n",
       "      <th>LanguageFamilyRoot</th>\n",
       "      <th>LanguageFamilyGenus</th>\n",
       "      <th>Country</th>\n",
       "      <th>Area</th>\n",
       "      <th>Population</th>\n",
       "      <th>Latitude</th>\n",
       "      <th>Longitude</th>\n",
       "      <th>Phonemes</th>\n",
       "      <th>Consonants</th>\n",
       "      <th>Tones</th>\n",
       "      <th>Vowels</th>\n",
       "    </tr>\n",
       "  </thead>\n",
       "  <tbody>\n",
       "    <tr>\n",
       "      <th>0</th>\n",
       "      <td>1</td>\n",
       "      <td>SPA</td>\n",
       "      <td>kor</td>\n",
       "      <td>Korean</td>\n",
       "      <td>kore1280</td>\n",
       "      <td>Korean</td>\n",
       "      <td>1</td>\n",
       "      <td>asis</td>\n",
       "      <td>Korean</td>\n",
       "      <td>Korea, South</td>\n",
       "      <td>Asia</td>\n",
       "      <td>42000000</td>\n",
       "      <td>37.5000</td>\n",
       "      <td>128.0000</td>\n",
       "      <td>40</td>\n",
       "      <td>22</td>\n",
       "      <td>0</td>\n",
       "      <td>18</td>\n",
       "    </tr>\n",
       "    <tr>\n",
       "      <th>1</th>\n",
       "      <td>2</td>\n",
       "      <td>SPA</td>\n",
       "      <td>ket</td>\n",
       "      <td>Ket</td>\n",
       "      <td>kett1243</td>\n",
       "      <td>Ket</td>\n",
       "      <td>1</td>\n",
       "      <td>yeos</td>\n",
       "      <td>Yeniseian</td>\n",
       "      <td>Russian Federation</td>\n",
       "      <td>Europe</td>\n",
       "      <td>190</td>\n",
       "      <td>63.7551</td>\n",
       "      <td>87.5466</td>\n",
       "      <td>32</td>\n",
       "      <td>18</td>\n",
       "      <td>0</td>\n",
       "      <td>14</td>\n",
       "    </tr>\n",
       "    <tr>\n",
       "      <th>2</th>\n",
       "      <td>3</td>\n",
       "      <td>SPA</td>\n",
       "      <td>lbe</td>\n",
       "      <td>Lak</td>\n",
       "      <td>lakk1252</td>\n",
       "      <td>Lak</td>\n",
       "      <td>1</td>\n",
       "      <td>ncau</td>\n",
       "      <td>Lak-Dargwa</td>\n",
       "      <td>Russian Federation</td>\n",
       "      <td>Europe</td>\n",
       "      <td>157000</td>\n",
       "      <td>42.1328</td>\n",
       "      <td>47.0809</td>\n",
       "      <td>69</td>\n",
       "      <td>60</td>\n",
       "      <td>0</td>\n",
       "      <td>9</td>\n",
       "    </tr>\n",
       "    <tr>\n",
       "      <th>3</th>\n",
       "      <td>4</td>\n",
       "      <td>SPA</td>\n",
       "      <td>kbd</td>\n",
       "      <td>Kabardian</td>\n",
       "      <td>kaba1278</td>\n",
       "      <td>Kabardian</td>\n",
       "      <td>1</td>\n",
       "      <td>ncau</td>\n",
       "      <td>Northwest Caucasian</td>\n",
       "      <td>Russian Federation</td>\n",
       "      <td>Europe</td>\n",
       "      <td>520000</td>\n",
       "      <td>43.5082</td>\n",
       "      <td>43.3918</td>\n",
       "      <td>56</td>\n",
       "      <td>49</td>\n",
       "      <td>0</td>\n",
       "      <td>7</td>\n",
       "    </tr>\n",
       "    <tr>\n",
       "      <th>4</th>\n",
       "      <td>5</td>\n",
       "      <td>SPA</td>\n",
       "      <td>kat</td>\n",
       "      <td>Georgian</td>\n",
       "      <td>nucl1302</td>\n",
       "      <td>Nuclear Georgian</td>\n",
       "      <td>1</td>\n",
       "      <td>kart</td>\n",
       "      <td>Kartvelian</td>\n",
       "      <td>Georgia</td>\n",
       "      <td>Asia</td>\n",
       "      <td>3900000</td>\n",
       "      <td>39.3705</td>\n",
       "      <td>45.8066</td>\n",
       "      <td>35</td>\n",
       "      <td>29</td>\n",
       "      <td>0</td>\n",
       "      <td>6</td>\n",
       "    </tr>\n",
       "  </tbody>\n",
       "</table>\n",
       "</div>"
      ],
      "text/plain": [
       "   InventoryID Source LanguageCode LanguageName Glottocode     GlottologName  \\\n",
       "0            1    SPA          kor       Korean   kore1280            Korean   \n",
       "1            2    SPA          ket          Ket   kett1243               Ket   \n",
       "2            3    SPA          lbe          Lak   lakk1252               Lak   \n",
       "3            4    SPA          kbd    Kabardian   kaba1278         Kabardian   \n",
       "4            5    SPA          kat     Georgian   nucl1302  Nuclear Georgian   \n",
       "\n",
       "   Trump LanguageFamilyRoot  LanguageFamilyGenus             Country    Area  \\\n",
       "0      1               asis               Korean        Korea, South    Asia   \n",
       "1      1               yeos            Yeniseian  Russian Federation  Europe   \n",
       "2      1               ncau           Lak-Dargwa  Russian Federation  Europe   \n",
       "3      1               ncau  Northwest Caucasian  Russian Federation  Europe   \n",
       "4      1               kart           Kartvelian             Georgia    Asia   \n",
       "\n",
       "   Population  Latitude  Longitude  Phonemes  Consonants  Tones  Vowels  \n",
       "0    42000000   37.5000   128.0000        40          22      0      18  \n",
       "1         190   63.7551    87.5466        32          18      0      14  \n",
       "2      157000   42.1328    47.0809        69          60      0       9  \n",
       "3      520000   43.5082    43.3918        56          49      0       7  \n",
       "4     3900000   39.3705    45.8066        35          29      0       6  "
      ]
     },
     "execution_count": 15,
     "metadata": {},
     "output_type": "execute_result"
    }
   ],
   "source": [
    "#Recreated for convenience and Converted Population column to numerical values\n",
    "#phoib now only has rows who's population column value was a number\n",
    "\n",
    "phoible_data[\"Population\"] = [x.replace(\",\",\"\") for x in phoible_data[\"Population\"]]\n",
    "phoib = phoible_data[phoible_data[\"Population\"].apply(lambda x: str(x).isdigit())]\n",
    "phoib[\"Population\"] = [int(i) for i in phoib[\"Population\"]]\n",
    "phoib.head()"
   ]
  },
  {
   "cell_type": "markdown",
   "metadata": {},
   "source": [
    "Visualize those same distributions grouped by continent and grouped by genetic affiliation. The continent is called `area` in PHOIBLE. The genetic affiliation is called `Family` in WALS. WALS and PHOIBLE both identify languages with ISO 639-3, so you should be able to match them up. "
   ]
  },
  {
   "cell_type": "code",
   "execution_count": 11,
   "metadata": {
    "collapsed": false
   },
   "outputs": [
    {
     "data": {
      "text/plain": [
       "<matplotlib.axes._subplots.AxesSubplot at 0x11b0a1ef0>"
      ]
     },
     "execution_count": 11,
     "metadata": {},
     "output_type": "execute_result"
    },
    {
     "data": {
      "image/png": "[encoded data removed]",
      "text/plain": [
       "<matplotlib.figure.Figure at 0x11b07c358>"
      ]
     },
     "metadata": {},
     "output_type": "display_data"
    }
   ],
   "source": [
    "#By Continent\n",
    "phoible_data.groupby(by = \"Area\").size().plot.bar()"
   ]
  },
  {
   "cell_type": "markdown",
   "metadata": {},
   "source": [
    "You could try looking at number of phonemes plotted against latitude/longitude, but I doubt anything will come of it."
   ]
  },
  {
   "cell_type": "code",
   "execution_count": null,
   "metadata": {
    "collapsed": true
   },
   "outputs": [],
   "source": []
  },
  {
   "cell_type": "markdown",
   "metadata": {},
   "source": [
    "Visualize the relationship between number of consontants and number of vowels, again by all language, by continent and by genetic affiliation."
   ]
  },
  {
   "cell_type": "code",
   "execution_count": 12,
   "metadata": {
    "collapsed": false
   },
   "outputs": [
    {
     "data": {
      "text/plain": [
       "<matplotlib.axes._subplots.AxesSubplot at 0x11de10940>"
      ]
     },
     "execution_count": 12,
     "metadata": {},
     "output_type": "execute_result"
    },
    {
     "data": {
      "image/png": "[encoded data removed]",
      "text/plain": [
       "<matplotlib.figure.Figure at 0x11b00fcf8>"
      ]
     },
     "metadata": {},
     "output_type": "display_data"
    }
   ],
   "source": [
    "#By Language\n",
    "pho_lang = phoible_data.loc[:,[\"LanguageFamilyRoot\",\"Consonants\", \"Vowels\"]]\n",
    "pho_lang = pho_lang.groupby(by = \"LanguageFamilyRoot\").sum()\n",
    "pho_lang = pho_lang.drop(\"UNCLASSIFIED\")\n",
    "pho_lang.plot(figsize = (12,8))"
   ]
  },
  {
   "cell_type": "code",
   "execution_count": 13,
   "metadata": {
    "collapsed": false
   },
   "outputs": [
    {
     "data": {
      "text/plain": [
       "<matplotlib.axes._subplots.AxesSubplot at 0x11df63fd0>"
      ]
     },
     "execution_count": 13,
     "metadata": {},
     "output_type": "execute_result"
    },
    {
     "data": {
      "image/png": "[encoded data removed]",
      "text/plain": [
       "<matplotlib.figure.Figure at 0x11df685f8>"
      ]
     },
     "metadata": {},
     "output_type": "display_data"
    }
   ],
   "source": [
    "#By Continent\n",
    "pho_cont = phoible_data.loc[:,[\"Area\",\"Consonants\", \"Vowels\"]]\n",
    "pho_cont = pho_cont.groupby(by = \"Area\").sum()\n",
    "pho_cont.plot.bar(figsize = (12,8))"
   ]
  },
  {
   "cell_type": "code",
   "execution_count": 17,
   "metadata": {
    "collapsed": true
   },
   "outputs": [],
   "source": [
    "#By Genetic Affiliation NEED TO COMBINE WITH WALS"
   ]
  },
  {
   "cell_type": "markdown",
   "metadata": {},
   "source": [
    "Visualize the relationship between population size and phoneme inventory size, again by all language, by continent and by genetic affiliation."
   ]
  },
  {
   "cell_type": "code",
   "execution_count": 19,
   "metadata": {
    "collapsed": false
   },
   "outputs": [
    {
     "data": {
      "text/plain": [
       "<matplotlib.axes._subplots.AxesSubplot at 0x11eb9bc18>"
      ]
     },
     "execution_count": 19,
     "metadata": {},
     "output_type": "execute_result"
    },
    {
     "data": {
      "image/png": "[encoded data removed]",
      "text/plain": [
       "<matplotlib.figure.Figure at 0x11eb3ca20>"
      ]
     },
     "metadata": {},
     "output_type": "display_data"
    }
   ],
   "source": [
    "#By Language STILL NEEDS WORK, In Progress - SHUBHAM\n",
    "pho_pop_lang = phoib.loc[:,[\"LanguageFamilyRoot\",\"Population\", \"Phonemes\"]]\n",
    "pho_pop_lang = pho_pop_lang[pho_pop_lang[\"Population\"].apply(lambda x: str(x).isdigit())]\n",
    "pop = pho_pop_lang.groupby(by = \"LanguageFamilyRoot\").sum()\n",
    "pop = pho_pop_lang[pho_pop_lang[\"LanguageFamilyRoot\"] != \"UNCLASSIFIED\"]\n",
    "pop.plot.scatter(x = \"Phonemes\", y = \"Population\")"
   ]
  },
  {
   "cell_type": "markdown",
   "metadata": {},
   "source": [
    "Someone has claimed that phoneme inventory size and distance from Africa are inversely related. You could use the latitude/longitude in PHOIBLE for this. You may have to arbitrarily choose the mid-point of Africa for this."
   ]
  },
  {
   "cell_type": "code",
   "execution_count": 18,
   "metadata": {
    "collapsed": false
   },
   "outputs": [
    {
     "data": {
      "text/html": [
       "<div>\n",
       "<table border=\"1\" class=\"dataframe\">\n",
       "  <thead>\n",
       "    <tr style=\"text-align: right;\">\n",
       "      <th></th>\n",
       "      <th>Population</th>\n",
       "      <th>Phonemes</th>\n",
       "    </tr>\n",
       "    <tr>\n",
       "      <th>Area</th>\n",
       "      <th></th>\n",
       "      <th></th>\n",
       "    </tr>\n",
       "  </thead>\n",
       "  <tbody>\n",
       "    <tr>\n",
       "      <th>Africa</th>\n",
       "      <td>819454490</td>\n",
       "      <td>35493</td>\n",
       "    </tr>\n",
       "    <tr>\n",
       "      <th>America</th>\n",
       "      <td>41731283</td>\n",
       "      <td>17294</td>\n",
       "    </tr>\n",
       "    <tr>\n",
       "      <th>Asia</th>\n",
       "      <td>5986020125</td>\n",
       "      <td>13631</td>\n",
       "    </tr>\n",
       "    <tr>\n",
       "      <th>Europe</th>\n",
       "      <td>933195940</td>\n",
       "      <td>3568</td>\n",
       "    </tr>\n",
       "    <tr>\n",
       "      <th>Pacific</th>\n",
       "      <td>1591955</td>\n",
       "      <td>3490</td>\n",
       "    </tr>\n",
       "  </tbody>\n",
       "</table>\n",
       "</div>"
      ],
      "text/plain": [
       "         Population  Phonemes\n",
       "Area                         \n",
       "Africa    819454490     35493\n",
       "America    41731283     17294\n",
       "Asia     5986020125     13631\n",
       "Europe    933195940      3568\n",
       "Pacific     1591955      3490"
      ]
     },
     "execution_count": 18,
     "metadata": {},
     "output_type": "execute_result"
    },
    {
     "data": {
      "image/png": "[encoded data removed]",
      "text/plain": [
       "<matplotlib.figure.Figure at 0x11ad38f28>"
      ]
     },
     "metadata": {},
     "output_type": "display_data"
    }
   ],
   "source": [
    "#By Continent STILL NEEDS WORK, IN Progress - SHUBHAM\n",
    "pho_pop_cont = phoib.loc[:,[\"Area\",\"Population\", \"Phonemes\"]]\n",
    "pho_pop_cont = pho_pop_cont.groupby(by = \"Area\").sum()\n",
    "pho_pop_cont.plot.bar(figsize = (12,8))\n",
    "pho_pop_cont"
   ]
  },
  {
   "cell_type": "markdown",
   "metadata": {},
   "source": [
    "What are the most common phonemes in the world? What is the distribution of frequency? That is, there are about 2,000 phonemes in PHOIBLE, but only a handful are common and there's a long tail. One problem here is that PHOIBLE is not a random sample of languages. So, you could sample languages from PHOIBLE proportional to their population size and arrive at an estimate that way."
   ]
  },
  {
   "cell_type": "code",
   "execution_count": null,
   "metadata": {
    "collapsed": true
   },
   "outputs": [],
   "source": []
  },
  {
   "cell_type": "markdown",
   "metadata": {},
   "source": [
    "Phonemes can be described by a set of (mostly) binary features. PHOIBLE has this data too. Is the distribution of featue values evenly split for each feature? If not, which features are more prone to being either 0 or 1?\n",
    "Are some phonemes only present in some area of genetic affiliation? (There should be. For example, 'kp' and 'gb' are likely only in Africa.)"
   ]
  },
  {
   "cell_type": "code",
   "execution_count": null,
   "metadata": {
    "collapsed": true
   },
   "outputs": [],
   "source": []
  },
  {
   "cell_type": "markdown",
   "metadata": {},
   "source": [
    "One of the features of phonemes is tone. If a language has a phoneme with tone, it counts as a \"tone language\". Are most language tone? Where are the tone langauges on the map?"
   ]
  },
  {
   "cell_type": "code",
   "execution_count": null,
   "metadata": {
    "collapsed": true
   },
   "outputs": [],
   "source": []
  },
  {
   "cell_type": "markdown",
   "metadata": {},
   "source": [
    "Someone has claimed there is a relationship being a tone language and the altitude. You could use lat/long to call some API to get the altitude and see if there's a relationship."
   ]
  },
  {
   "cell_type": "code",
   "execution_count": null,
   "metadata": {
    "collapsed": true
   },
   "outputs": [],
   "source": []
  },
  {
   "cell_type": "markdown",
   "metadata": {
    "collapsed": true
   },
   "source": [
    "## Relationship between population size and morphological complexity\n",
    "\n",
    "All the data for this will be in WALS. Morphological complexity is a vague term, referring to how complicated the words in a language are. Here are some features that you should look at with respect to their relation to phoneme inventory size:\n",
    "- Feature 30A: Number of Genders\n",
    "- Feature 27A: Reduplication\n",
    "- Feature 20A: Fusion of Selected Inflectional Formatives\n",
    "- Feature 21A: Exponence of Selected Inflectional Formatives\n",
    "- Feature 21B: Exponence of Tense-Aspect-Mood Inflection"
   ]
  },
  {
   "cell_type": "code",
   "execution_count": null,
   "metadata": {
    "collapsed": true
   },
   "outputs": [],
   "source": []
  }
 ],
 "metadata": {
  "anaconda-cloud": {},
  "kernelspec": {
   "display_name": "Python [conda root]",
   "language": "python",
   "name": "conda-root-py"
  },
  "language_info": {
   "codemirror_mode": {
    "name": "ipython",
    "version": 3
   },
   "file_extension": ".py",
   "mimetype": "text/x-python",
   "name": "python",
   "nbconvert_exporter": "python",
   "pygments_lexer": "ipython3",
   "version": "3.5.3"
  }
 },
 "nbformat": 4,
 "nbformat_minor": 1
}
