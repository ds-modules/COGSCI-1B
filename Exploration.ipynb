{
 "cells": [
  {
   "cell_type": "markdown",
   "metadata": {},
   "source": [
    "# Exploration"
   ]
  },
  {
   "cell_type": "code",
   "execution_count": 30,
   "metadata": {
    "collapsed": true
   },
   "outputs": [],
   "source": [
    "import scipy\n",
    "import numpy as np\n",
    "import pandas as pd\n",
    "import seaborn as sns\n",
    "from scipy.stats import mode\n",
    "from ipywidgets import interact\n",
    "from collections import Counter\n",
    "import matplotlib.pyplot as plt\n",
    "from matplotlib.colors import ListedColormap\n",
    "from matplotlib import colors\n",
    "from sklearn.linear_model import LinearRegression\n",
    "import warnings\n",
    "\n",
    "warnings.filterwarnings('ignore')\n",
    "sns.set_style('darkgrid')\n",
    "%matplotlib inline"
   ]
  },
  {
   "cell_type": "code",
   "execution_count": 43,
   "metadata": {},
   "outputs": [
    {
     "data": {
      "text/html": [
       "<div>\n",
       "<table border=\"1\" class=\"dataframe\">\n",
       "  <thead>\n",
       "    <tr style=\"text-align: right;\">\n",
       "      <th></th>\n",
       "      <th>ID</th>\n",
       "      <th>Language_ID</th>\n",
       "      <th>Language_name</th>\n",
       "      <th>Parameter_ID</th>\n",
       "      <th>Parameter_name</th>\n",
       "      <th>Value</th>\n",
       "      <th>Source</th>\n",
       "      <th>Comment</th>\n",
       "    </tr>\n",
       "  </thead>\n",
       "  <tbody>\n",
       "    <tr>\n",
       "      <th>0</th>\n",
       "      <td>1A-kgi</td>\n",
       "      <td>kgi</td>\n",
       "      <td>Konyagi</td>\n",
       "      <td>1A</td>\n",
       "      <td>Consonant Inventories</td>\n",
       "      <td>Large</td>\n",
       "      <td>Santos-1977</td>\n",
       "      <td>NaN</td>\n",
       "    </tr>\n",
       "    <tr>\n",
       "      <th>1</th>\n",
       "      <td>1A-cve</td>\n",
       "      <td>cve</td>\n",
       "      <td>Chuave</td>\n",
       "      <td>1A</td>\n",
       "      <td>Consonant Inventories</td>\n",
       "      <td>Small</td>\n",
       "      <td>Thurman-1970</td>\n",
       "      <td>NaN</td>\n",
       "    </tr>\n",
       "    <tr>\n",
       "      <th>2</th>\n",
       "      <td>1A-nbk</td>\n",
       "      <td>nbk</td>\n",
       "      <td>Natügu</td>\n",
       "      <td>1A</td>\n",
       "      <td>Consonant Inventories</td>\n",
       "      <td>Moderately large</td>\n",
       "      <td>Wurm-1972b</td>\n",
       "      <td>NaN</td>\n",
       "    </tr>\n",
       "    <tr>\n",
       "      <th>3</th>\n",
       "      <td>1A-ach</td>\n",
       "      <td>ach</td>\n",
       "      <td>Aché</td>\n",
       "      <td>1A</td>\n",
       "      <td>Consonant Inventories</td>\n",
       "      <td>Small</td>\n",
       "      <td>Susnik-1974</td>\n",
       "      <td>NaN</td>\n",
       "    </tr>\n",
       "    <tr>\n",
       "      <th>4</th>\n",
       "      <td>1A-aiz</td>\n",
       "      <td>aiz</td>\n",
       "      <td>Aizi</td>\n",
       "      <td>1A</td>\n",
       "      <td>Consonant Inventories</td>\n",
       "      <td>Average</td>\n",
       "      <td>Herault-1971</td>\n",
       "      <td>NaN</td>\n",
       "    </tr>\n",
       "  </tbody>\n",
       "</table>\n",
       "</div>"
      ],
      "text/plain": [
       "       ID Language_ID Language_name Parameter_ID         Parameter_name  \\\n",
       "0  1A-kgi         kgi       Konyagi           1A  Consonant Inventories   \n",
       "1  1A-cve         cve        Chuave           1A  Consonant Inventories   \n",
       "2  1A-nbk         nbk        Natügu           1A  Consonant Inventories   \n",
       "3  1A-ach         ach          Aché           1A  Consonant Inventories   \n",
       "4  1A-aiz         aiz          Aizi           1A  Consonant Inventories   \n",
       "\n",
       "              Value        Source  Comment  \n",
       "0             Large   Santos-1977      NaN  \n",
       "1             Small  Thurman-1970      NaN  \n",
       "2  Moderately large    Wurm-1972b      NaN  \n",
       "3             Small   Susnik-1974      NaN  \n",
       "4           Average  Herault-1971      NaN  "
      ]
     },
     "execution_count": 43,
     "metadata": {},
     "output_type": "execute_result"
    }
   ],
   "source": [
    "file_name = 'data/wals-chapter-1.csv'\n",
    "data = pd.read_csv(file_name)\n",
    "data.head()"
   ]
  },
  {
   "cell_type": "code",
   "execution_count": 61,
   "metadata": {},
   "outputs": [
    {
     "name": "stdout",
     "output_type": "stream",
     "text": [
      "Index(['InventoryID', 'Source', 'LanguageCode', 'LanguageName', 'Glottocode',\n",
      "       'GlottologName', 'Trump', 'LanguageFamilyRoot', 'LanguageFamilyGenus',\n",
      "       'Country', 'Area', 'Population', 'Latitude', 'Longitude', 'Phonemes',\n",
      "       'Consonants', 'Tones', 'Vowels'],\n",
      "      dtype='object')\n"
     ]
    },
    {
     "data": {
      "text/html": [
       "<div>\n",
       "<table border=\"1\" class=\"dataframe\">\n",
       "  <thead>\n",
       "    <tr style=\"text-align: right;\">\n",
       "      <th></th>\n",
       "      <th>InventoryID</th>\n",
       "      <th>Source</th>\n",
       "      <th>LanguageCode</th>\n",
       "      <th>LanguageName</th>\n",
       "      <th>Glottocode</th>\n",
       "      <th>GlottologName</th>\n",
       "      <th>Trump</th>\n",
       "      <th>LanguageFamilyRoot</th>\n",
       "      <th>LanguageFamilyGenus</th>\n",
       "      <th>Country</th>\n",
       "      <th>Area</th>\n",
       "      <th>Population</th>\n",
       "      <th>Latitude</th>\n",
       "      <th>Longitude</th>\n",
       "      <th>Phonemes</th>\n",
       "      <th>Consonants</th>\n",
       "      <th>Tones</th>\n",
       "      <th>Vowels</th>\n",
       "    </tr>\n",
       "  </thead>\n",
       "  <tbody>\n",
       "    <tr>\n",
       "      <th>0</th>\n",
       "      <td>1</td>\n",
       "      <td>SPA</td>\n",
       "      <td>kor</td>\n",
       "      <td>Korean</td>\n",
       "      <td>kore1280</td>\n",
       "      <td>Korean</td>\n",
       "      <td>1</td>\n",
       "      <td>asis</td>\n",
       "      <td>Korean</td>\n",
       "      <td>Korea, South</td>\n",
       "      <td>Asia</td>\n",
       "      <td>42,000,000</td>\n",
       "      <td>37.5000</td>\n",
       "      <td>128.0000</td>\n",
       "      <td>40</td>\n",
       "      <td>22</td>\n",
       "      <td>0</td>\n",
       "      <td>18</td>\n",
       "    </tr>\n",
       "    <tr>\n",
       "      <th>1</th>\n",
       "      <td>2</td>\n",
       "      <td>SPA</td>\n",
       "      <td>ket</td>\n",
       "      <td>Ket</td>\n",
       "      <td>kett1243</td>\n",
       "      <td>Ket</td>\n",
       "      <td>1</td>\n",
       "      <td>yeos</td>\n",
       "      <td>Yeniseian</td>\n",
       "      <td>Russian Federation</td>\n",
       "      <td>Europe</td>\n",
       "      <td>190</td>\n",
       "      <td>63.7551</td>\n",
       "      <td>87.5466</td>\n",
       "      <td>32</td>\n",
       "      <td>18</td>\n",
       "      <td>0</td>\n",
       "      <td>14</td>\n",
       "    </tr>\n",
       "    <tr>\n",
       "      <th>2</th>\n",
       "      <td>3</td>\n",
       "      <td>SPA</td>\n",
       "      <td>lbe</td>\n",
       "      <td>Lak</td>\n",
       "      <td>lakk1252</td>\n",
       "      <td>Lak</td>\n",
       "      <td>1</td>\n",
       "      <td>ncau</td>\n",
       "      <td>Lak-Dargwa</td>\n",
       "      <td>Russian Federation</td>\n",
       "      <td>Europe</td>\n",
       "      <td>157,000</td>\n",
       "      <td>42.1328</td>\n",
       "      <td>47.0809</td>\n",
       "      <td>69</td>\n",
       "      <td>60</td>\n",
       "      <td>0</td>\n",
       "      <td>9</td>\n",
       "    </tr>\n",
       "    <tr>\n",
       "      <th>3</th>\n",
       "      <td>4</td>\n",
       "      <td>SPA</td>\n",
       "      <td>kbd</td>\n",
       "      <td>Kabardian</td>\n",
       "      <td>kaba1278</td>\n",
       "      <td>Kabardian</td>\n",
       "      <td>1</td>\n",
       "      <td>ncau</td>\n",
       "      <td>Northwest Caucasian</td>\n",
       "      <td>Russian Federation</td>\n",
       "      <td>Europe</td>\n",
       "      <td>520,000</td>\n",
       "      <td>43.5082</td>\n",
       "      <td>43.3918</td>\n",
       "      <td>56</td>\n",
       "      <td>49</td>\n",
       "      <td>0</td>\n",
       "      <td>7</td>\n",
       "    </tr>\n",
       "    <tr>\n",
       "      <th>4</th>\n",
       "      <td>5</td>\n",
       "      <td>SPA</td>\n",
       "      <td>kat</td>\n",
       "      <td>Georgian</td>\n",
       "      <td>nucl1302</td>\n",
       "      <td>Nuclear Georgian</td>\n",
       "      <td>1</td>\n",
       "      <td>kart</td>\n",
       "      <td>Kartvelian</td>\n",
       "      <td>Georgia</td>\n",
       "      <td>Asia</td>\n",
       "      <td>3,900,000</td>\n",
       "      <td>39.3705</td>\n",
       "      <td>45.8066</td>\n",
       "      <td>35</td>\n",
       "      <td>29</td>\n",
       "      <td>0</td>\n",
       "      <td>6</td>\n",
       "    </tr>\n",
       "  </tbody>\n",
       "</table>\n",
       "</div>"
      ],
      "text/plain": [
       "   InventoryID Source LanguageCode LanguageName Glottocode     GlottologName  \\\n",
       "0            1    SPA          kor       Korean   kore1280            Korean   \n",
       "1            2    SPA          ket          Ket   kett1243               Ket   \n",
       "2            3    SPA          lbe          Lak   lakk1252               Lak   \n",
       "3            4    SPA          kbd    Kabardian   kaba1278         Kabardian   \n",
       "4            5    SPA          kat     Georgian   nucl1302  Nuclear Georgian   \n",
       "\n",
       "   Trump LanguageFamilyRoot  LanguageFamilyGenus             Country    Area  \\\n",
       "0      1               asis               Korean        Korea, South    Asia   \n",
       "1      1               yeos            Yeniseian  Russian Federation  Europe   \n",
       "2      1               ncau           Lak-Dargwa  Russian Federation  Europe   \n",
       "3      1               ncau  Northwest Caucasian  Russian Federation  Europe   \n",
       "4      1               kart           Kartvelian             Georgia    Asia   \n",
       "\n",
       "   Population  Latitude  Longitude  Phonemes  Consonants  Tones  Vowels  \n",
       "0  42,000,000   37.5000   128.0000        40          22      0      18  \n",
       "1         190   63.7551    87.5466        32          18      0      14  \n",
       "2     157,000   42.1328    47.0809        69          60      0       9  \n",
       "3     520,000   43.5082    43.3918        56          49      0       7  \n",
       "4   3,900,000   39.3705    45.8066        35          29      0       6  "
      ]
     },
     "execution_count": 61,
     "metadata": {},
     "output_type": "execute_result"
    }
   ],
   "source": [
    "phoible_data = pd.read_csv('phoible_data/phoible-aggregated.tsv', delimiter='\\t')\n",
    "print(phoible_data.columns)\n",
    "phoible_data.head()"
   ]
  },
  {
   "cell_type": "code",
   "execution_count": 54,
   "metadata": {},
   "outputs": [
    {
     "data": {
      "text/html": [
       "<div>\n",
       "<table border=\"1\" class=\"dataframe\">\n",
       "  <thead>\n",
       "    <tr style=\"text-align: right;\">\n",
       "      <th></th>\n",
       "      <th>index</th>\n",
       "      <th>0</th>\n",
       "    </tr>\n",
       "  </thead>\n",
       "  <tbody>\n",
       "    <tr>\n",
       "      <th>123</th>\n",
       "      <td>sgw</td>\n",
       "      <td>6</td>\n",
       "    </tr>\n",
       "    <tr>\n",
       "      <th>1012</th>\n",
       "      <td>nyf</td>\n",
       "      <td>6</td>\n",
       "    </tr>\n",
       "    <tr>\n",
       "      <th>717</th>\n",
       "      <td>gwn</td>\n",
       "      <td>6</td>\n",
       "    </tr>\n",
       "    <tr>\n",
       "      <th>547</th>\n",
       "      <td>car</td>\n",
       "      <td>5</td>\n",
       "    </tr>\n",
       "    <tr>\n",
       "      <th>1639</th>\n",
       "      <td>xtc</td>\n",
       "      <td>5</td>\n",
       "    </tr>\n",
       "  </tbody>\n",
       "</table>\n",
       "</div>"
      ],
      "text/plain": [
       "     index  0\n",
       "123    sgw  6\n",
       "1012   nyf  6\n",
       "717    gwn  6\n",
       "547    car  5\n",
       "1639   xtc  5"
      ]
     },
     "execution_count": 54,
     "metadata": {},
     "output_type": "execute_result"
    }
   ],
   "source": [
    "pd.DataFrame.from_dict(Counter(phoible_data['LanguageCode']), orient='index').reset_index().sort_values(0, ascending=False).head()"
   ]
  },
  {
   "cell_type": "code",
   "execution_count": 52,
   "metadata": {},
   "outputs": [
    {
     "data": {
      "text/html": [
       "<div>\n",
       "<table border=\"1\" class=\"dataframe\">\n",
       "  <thead>\n",
       "    <tr style=\"text-align: right;\">\n",
       "      <th></th>\n",
       "      <th></th>\n",
       "      <th>InventoryID</th>\n",
       "      <th>LanguageName</th>\n",
       "      <th>Glottocode</th>\n",
       "      <th>GlottologName</th>\n",
       "      <th>Trump</th>\n",
       "      <th>LanguageFamilyRoot</th>\n",
       "      <th>LanguageFamilyGenus</th>\n",
       "      <th>Country</th>\n",
       "      <th>Area</th>\n",
       "      <th>Population</th>\n",
       "      <th>Latitude</th>\n",
       "      <th>Longitude</th>\n",
       "      <th>Phonemes</th>\n",
       "      <th>Consonants</th>\n",
       "      <th>Tones</th>\n",
       "      <th>Vowels</th>\n",
       "    </tr>\n",
       "    <tr>\n",
       "      <th>Source</th>\n",
       "      <th>LanguageCode</th>\n",
       "      <th></th>\n",
       "      <th></th>\n",
       "      <th></th>\n",
       "      <th></th>\n",
       "      <th></th>\n",
       "      <th></th>\n",
       "      <th></th>\n",
       "      <th></th>\n",
       "      <th></th>\n",
       "      <th></th>\n",
       "      <th></th>\n",
       "      <th></th>\n",
       "      <th></th>\n",
       "      <th></th>\n",
       "      <th></th>\n",
       "      <th></th>\n",
       "    </tr>\n",
       "  </thead>\n",
       "  <tbody>\n",
       "    <tr>\n",
       "      <th rowspan=\"5\" valign=\"top\">GM</th>\n",
       "      <th>sgw</th>\n",
       "      <td>6</td>\n",
       "      <td>6</td>\n",
       "      <td>6</td>\n",
       "      <td>6</td>\n",
       "      <td>6</td>\n",
       "      <td>6</td>\n",
       "      <td>6</td>\n",
       "      <td>6</td>\n",
       "      <td>6</td>\n",
       "      <td>6</td>\n",
       "      <td>6</td>\n",
       "      <td>6</td>\n",
       "      <td>6</td>\n",
       "      <td>6</td>\n",
       "      <td>6</td>\n",
       "      <td>6</td>\n",
       "    </tr>\n",
       "    <tr>\n",
       "      <th>gwn</th>\n",
       "      <td>6</td>\n",
       "      <td>6</td>\n",
       "      <td>6</td>\n",
       "      <td>6</td>\n",
       "      <td>6</td>\n",
       "      <td>6</td>\n",
       "      <td>6</td>\n",
       "      <td>6</td>\n",
       "      <td>6</td>\n",
       "      <td>6</td>\n",
       "      <td>6</td>\n",
       "      <td>6</td>\n",
       "      <td>6</td>\n",
       "      <td>6</td>\n",
       "      <td>6</td>\n",
       "      <td>6</td>\n",
       "    </tr>\n",
       "    <tr>\n",
       "      <th>nyf</th>\n",
       "      <td>6</td>\n",
       "      <td>6</td>\n",
       "      <td>6</td>\n",
       "      <td>6</td>\n",
       "      <td>6</td>\n",
       "      <td>6</td>\n",
       "      <td>6</td>\n",
       "      <td>6</td>\n",
       "      <td>6</td>\n",
       "      <td>6</td>\n",
       "      <td>6</td>\n",
       "      <td>6</td>\n",
       "      <td>6</td>\n",
       "      <td>6</td>\n",
       "      <td>6</td>\n",
       "      <td>6</td>\n",
       "    </tr>\n",
       "    <tr>\n",
       "      <th>bva</th>\n",
       "      <td>4</td>\n",
       "      <td>4</td>\n",
       "      <td>4</td>\n",
       "      <td>4</td>\n",
       "      <td>4</td>\n",
       "      <td>4</td>\n",
       "      <td>4</td>\n",
       "      <td>4</td>\n",
       "      <td>4</td>\n",
       "      <td>4</td>\n",
       "      <td>4</td>\n",
       "      <td>4</td>\n",
       "      <td>4</td>\n",
       "      <td>4</td>\n",
       "      <td>4</td>\n",
       "      <td>4</td>\n",
       "    </tr>\n",
       "    <tr>\n",
       "      <th>ndo</th>\n",
       "      <td>4</td>\n",
       "      <td>4</td>\n",
       "      <td>4</td>\n",
       "      <td>4</td>\n",
       "      <td>4</td>\n",
       "      <td>4</td>\n",
       "      <td>4</td>\n",
       "      <td>4</td>\n",
       "      <td>4</td>\n",
       "      <td>4</td>\n",
       "      <td>4</td>\n",
       "      <td>4</td>\n",
       "      <td>4</td>\n",
       "      <td>4</td>\n",
       "      <td>4</td>\n",
       "      <td>4</td>\n",
       "    </tr>\n",
       "    <tr>\n",
       "      <th rowspan=\"2\" valign=\"top\">SAPHON</th>\n",
       "      <th>wca</th>\n",
       "      <td>3</td>\n",
       "      <td>3</td>\n",
       "      <td>3</td>\n",
       "      <td>3</td>\n",
       "      <td>3</td>\n",
       "      <td>3</td>\n",
       "      <td>3</td>\n",
       "      <td>3</td>\n",
       "      <td>3</td>\n",
       "      <td>3</td>\n",
       "      <td>3</td>\n",
       "      <td>3</td>\n",
       "      <td>3</td>\n",
       "      <td>3</td>\n",
       "      <td>3</td>\n",
       "      <td>3</td>\n",
       "    </tr>\n",
       "    <tr>\n",
       "      <th>cas</th>\n",
       "      <td>3</td>\n",
       "      <td>3</td>\n",
       "      <td>3</td>\n",
       "      <td>3</td>\n",
       "      <td>3</td>\n",
       "      <td>3</td>\n",
       "      <td>3</td>\n",
       "      <td>3</td>\n",
       "      <td>3</td>\n",
       "      <td>3</td>\n",
       "      <td>3</td>\n",
       "      <td>3</td>\n",
       "      <td>3</td>\n",
       "      <td>3</td>\n",
       "      <td>3</td>\n",
       "      <td>3</td>\n",
       "    </tr>\n",
       "    <tr>\n",
       "      <th rowspan=\"2\" valign=\"top\">GM</th>\n",
       "      <th>lmp</th>\n",
       "      <td>3</td>\n",
       "      <td>3</td>\n",
       "      <td>3</td>\n",
       "      <td>3</td>\n",
       "      <td>3</td>\n",
       "      <td>3</td>\n",
       "      <td>3</td>\n",
       "      <td>3</td>\n",
       "      <td>3</td>\n",
       "      <td>3</td>\n",
       "      <td>3</td>\n",
       "      <td>3</td>\n",
       "      <td>3</td>\n",
       "      <td>3</td>\n",
       "      <td>3</td>\n",
       "      <td>3</td>\n",
       "    </tr>\n",
       "    <tr>\n",
       "      <th>xtc</th>\n",
       "      <td>3</td>\n",
       "      <td>3</td>\n",
       "      <td>3</td>\n",
       "      <td>3</td>\n",
       "      <td>3</td>\n",
       "      <td>3</td>\n",
       "      <td>3</td>\n",
       "      <td>3</td>\n",
       "      <td>3</td>\n",
       "      <td>3</td>\n",
       "      <td>3</td>\n",
       "      <td>3</td>\n",
       "      <td>3</td>\n",
       "      <td>3</td>\n",
       "      <td>3</td>\n",
       "      <td>3</td>\n",
       "    </tr>\n",
       "    <tr>\n",
       "      <th>SAPHON</th>\n",
       "      <th>qvn</th>\n",
       "      <td>3</td>\n",
       "      <td>3</td>\n",
       "      <td>3</td>\n",
       "      <td>3</td>\n",
       "      <td>3</td>\n",
       "      <td>3</td>\n",
       "      <td>3</td>\n",
       "      <td>3</td>\n",
       "      <td>3</td>\n",
       "      <td>3</td>\n",
       "      <td>3</td>\n",
       "      <td>3</td>\n",
       "      <td>3</td>\n",
       "      <td>3</td>\n",
       "      <td>3</td>\n",
       "      <td>3</td>\n",
       "    </tr>\n",
       "  </tbody>\n",
       "</table>\n",
       "</div>"
      ],
      "text/plain": [
       "                     InventoryID  LanguageName  Glottocode  GlottologName  \\\n",
       "Source LanguageCode                                                         \n",
       "GM     sgw                     6             6           6              6   \n",
       "       gwn                     6             6           6              6   \n",
       "       nyf                     6             6           6              6   \n",
       "       bva                     4             4           4              4   \n",
       "       ndo                     4             4           4              4   \n",
       "SAPHON wca                     3             3           3              3   \n",
       "       cas                     3             3           3              3   \n",
       "GM     lmp                     3             3           3              3   \n",
       "       xtc                     3             3           3              3   \n",
       "SAPHON qvn                     3             3           3              3   \n",
       "\n",
       "                     Trump  LanguageFamilyRoot  LanguageFamilyGenus  Country  \\\n",
       "Source LanguageCode                                                            \n",
       "GM     sgw               6                   6                    6        6   \n",
       "       gwn               6                   6                    6        6   \n",
       "       nyf               6                   6                    6        6   \n",
       "       bva               4                   4                    4        4   \n",
       "       ndo               4                   4                    4        4   \n",
       "SAPHON wca               3                   3                    3        3   \n",
       "       cas               3                   3                    3        3   \n",
       "GM     lmp               3                   3                    3        3   \n",
       "       xtc               3                   3                    3        3   \n",
       "SAPHON qvn               3                   3                    3        3   \n",
       "\n",
       "                     Area  Population  Latitude  Longitude  Phonemes  \\\n",
       "Source LanguageCode                                                    \n",
       "GM     sgw              6           6         6          6         6   \n",
       "       gwn              6           6         6          6         6   \n",
       "       nyf              6           6         6          6         6   \n",
       "       bva              4           4         4          4         4   \n",
       "       ndo              4           4         4          4         4   \n",
       "SAPHON wca              3           3         3          3         3   \n",
       "       cas              3           3         3          3         3   \n",
       "GM     lmp              3           3         3          3         3   \n",
       "       xtc              3           3         3          3         3   \n",
       "SAPHON qvn              3           3         3          3         3   \n",
       "\n",
       "                     Consonants  Tones  Vowels  \n",
       "Source LanguageCode                             \n",
       "GM     sgw                    6      6       6  \n",
       "       gwn                    6      6       6  \n",
       "       nyf                    6      6       6  \n",
       "       bva                    4      4       4  \n",
       "       ndo                    4      4       4  \n",
       "SAPHON wca                    3      3       3  \n",
       "       cas                    3      3       3  \n",
       "GM     lmp                    3      3       3  \n",
       "       xtc                    3      3       3  \n",
       "SAPHON qvn                    3      3       3  "
      ]
     },
     "execution_count": 52,
     "metadata": {},
     "output_type": "execute_result"
    }
   ],
   "source": [
    "phoible_data.groupby(['Source', 'LanguageCode']).count().sort_values('LanguageName', ascending=False).head(10)"
   ]
  },
  {
   "cell_type": "code",
   "execution_count": 53,
   "metadata": {},
   "outputs": [
    {
     "data": {
      "text/html": [
       "<div>\n",
       "<table border=\"1\" class=\"dataframe\">\n",
       "  <thead>\n",
       "    <tr style=\"text-align: right;\">\n",
       "      <th></th>\n",
       "      <th>InventoryID</th>\n",
       "      <th>Source</th>\n",
       "      <th>LanguageCode</th>\n",
       "      <th>LanguageName</th>\n",
       "      <th>Glottocode</th>\n",
       "      <th>GlottologName</th>\n",
       "      <th>Trump</th>\n",
       "      <th>LanguageFamilyRoot</th>\n",
       "      <th>LanguageFamilyGenus</th>\n",
       "      <th>Country</th>\n",
       "      <th>Area</th>\n",
       "      <th>Population</th>\n",
       "      <th>Latitude</th>\n",
       "      <th>Longitude</th>\n",
       "      <th>Phonemes</th>\n",
       "      <th>Consonants</th>\n",
       "      <th>Tones</th>\n",
       "      <th>Vowels</th>\n",
       "    </tr>\n",
       "  </thead>\n",
       "  <tbody>\n",
       "    <tr>\n",
       "      <th>1458</th>\n",
       "      <td>1459</td>\n",
       "      <td>GM</td>\n",
       "      <td>sgw</td>\n",
       "      <td>Muher</td>\n",
       "      <td>seba1251</td>\n",
       "      <td>Sebat Bet Gurage</td>\n",
       "      <td>1</td>\n",
       "      <td>afas</td>\n",
       "      <td>Semitic</td>\n",
       "      <td>Ethiopia</td>\n",
       "      <td>Africa</td>\n",
       "      <td>2,320,000</td>\n",
       "      <td>8.11879</td>\n",
       "      <td>37.9891</td>\n",
       "      <td>42</td>\n",
       "      <td>34</td>\n",
       "      <td>0</td>\n",
       "      <td>8</td>\n",
       "    </tr>\n",
       "    <tr>\n",
       "      <th>1459</th>\n",
       "      <td>1460</td>\n",
       "      <td>GM</td>\n",
       "      <td>sgw</td>\n",
       "      <td>Ezha</td>\n",
       "      <td>seba1251</td>\n",
       "      <td>Sebat Bet Gurage</td>\n",
       "      <td>2</td>\n",
       "      <td>afas</td>\n",
       "      <td>Semitic</td>\n",
       "      <td>Ethiopia</td>\n",
       "      <td>Africa</td>\n",
       "      <td>2,320,000</td>\n",
       "      <td>8.11879</td>\n",
       "      <td>37.9891</td>\n",
       "      <td>39</td>\n",
       "      <td>33</td>\n",
       "      <td>0</td>\n",
       "      <td>6</td>\n",
       "    </tr>\n",
       "    <tr>\n",
       "      <th>1460</th>\n",
       "      <td>1461</td>\n",
       "      <td>GM</td>\n",
       "      <td>sgw</td>\n",
       "      <td>Chaha</td>\n",
       "      <td>seba1251</td>\n",
       "      <td>Sebat Bet Gurage</td>\n",
       "      <td>3</td>\n",
       "      <td>afas</td>\n",
       "      <td>Semitic</td>\n",
       "      <td>Ethiopia</td>\n",
       "      <td>Africa</td>\n",
       "      <td>2,320,000</td>\n",
       "      <td>8.11879</td>\n",
       "      <td>37.9891</td>\n",
       "      <td>44</td>\n",
       "      <td>36</td>\n",
       "      <td>0</td>\n",
       "      <td>8</td>\n",
       "    </tr>\n",
       "    <tr>\n",
       "      <th>1461</th>\n",
       "      <td>1462</td>\n",
       "      <td>GM</td>\n",
       "      <td>sgw</td>\n",
       "      <td>Gumer</td>\n",
       "      <td>seba1251</td>\n",
       "      <td>Sebat Bet Gurage</td>\n",
       "      <td>4</td>\n",
       "      <td>afas</td>\n",
       "      <td>Semitic</td>\n",
       "      <td>Ethiopia</td>\n",
       "      <td>Africa</td>\n",
       "      <td>2,320,000</td>\n",
       "      <td>8.11879</td>\n",
       "      <td>37.9891</td>\n",
       "      <td>42</td>\n",
       "      <td>35</td>\n",
       "      <td>0</td>\n",
       "      <td>7</td>\n",
       "    </tr>\n",
       "    <tr>\n",
       "      <th>1462</th>\n",
       "      <td>1463</td>\n",
       "      <td>GM</td>\n",
       "      <td>sgw</td>\n",
       "      <td>Gura</td>\n",
       "      <td>seba1251</td>\n",
       "      <td>Sebat Bet Gurage</td>\n",
       "      <td>5</td>\n",
       "      <td>afas</td>\n",
       "      <td>Semitic</td>\n",
       "      <td>Ethiopia</td>\n",
       "      <td>Africa</td>\n",
       "      <td>2,320,000</td>\n",
       "      <td>8.11879</td>\n",
       "      <td>37.9891</td>\n",
       "      <td>42</td>\n",
       "      <td>36</td>\n",
       "      <td>0</td>\n",
       "      <td>6</td>\n",
       "    </tr>\n",
       "    <tr>\n",
       "      <th>1463</th>\n",
       "      <td>1464</td>\n",
       "      <td>GM</td>\n",
       "      <td>sgw</td>\n",
       "      <td>Gyeto</td>\n",
       "      <td>seba1251</td>\n",
       "      <td>Sebat Bet Gurage</td>\n",
       "      <td>6</td>\n",
       "      <td>afas</td>\n",
       "      <td>Semitic</td>\n",
       "      <td>Ethiopia</td>\n",
       "      <td>Africa</td>\n",
       "      <td>2,320,000</td>\n",
       "      <td>8.11879</td>\n",
       "      <td>37.9891</td>\n",
       "      <td>45</td>\n",
       "      <td>39</td>\n",
       "      <td>0</td>\n",
       "      <td>6</td>\n",
       "    </tr>\n",
       "  </tbody>\n",
       "</table>\n",
       "</div>"
      ],
      "text/plain": [
       "      InventoryID Source LanguageCode LanguageName Glottocode  \\\n",
       "1458         1459     GM          sgw        Muher   seba1251   \n",
       "1459         1460     GM          sgw         Ezha   seba1251   \n",
       "1460         1461     GM          sgw        Chaha   seba1251   \n",
       "1461         1462     GM          sgw        Gumer   seba1251   \n",
       "1462         1463     GM          sgw         Gura   seba1251   \n",
       "1463         1464     GM          sgw        Gyeto   seba1251   \n",
       "\n",
       "         GlottologName  Trump LanguageFamilyRoot LanguageFamilyGenus  \\\n",
       "1458  Sebat Bet Gurage      1               afas             Semitic   \n",
       "1459  Sebat Bet Gurage      2               afas             Semitic   \n",
       "1460  Sebat Bet Gurage      3               afas             Semitic   \n",
       "1461  Sebat Bet Gurage      4               afas             Semitic   \n",
       "1462  Sebat Bet Gurage      5               afas             Semitic   \n",
       "1463  Sebat Bet Gurage      6               afas             Semitic   \n",
       "\n",
       "       Country    Area Population  Latitude  Longitude  Phonemes  Consonants  \\\n",
       "1458  Ethiopia  Africa  2,320,000   8.11879    37.9891        42          34   \n",
       "1459  Ethiopia  Africa  2,320,000   8.11879    37.9891        39          33   \n",
       "1460  Ethiopia  Africa  2,320,000   8.11879    37.9891        44          36   \n",
       "1461  Ethiopia  Africa  2,320,000   8.11879    37.9891        42          35   \n",
       "1462  Ethiopia  Africa  2,320,000   8.11879    37.9891        42          36   \n",
       "1463  Ethiopia  Africa  2,320,000   8.11879    37.9891        45          39   \n",
       "\n",
       "      Tones  Vowels  \n",
       "1458      0       8  \n",
       "1459      0       6  \n",
       "1460      0       8  \n",
       "1461      0       7  \n",
       "1462      0       6  \n",
       "1463      0       6  "
      ]
     },
     "execution_count": 53,
     "metadata": {},
     "output_type": "execute_result"
    }
   ],
   "source": [
    "cond = np.logical_and(phoible_data['Source'] == 'GM', phoible_data['LanguageCode'] == 'sgw')\n",
    "phoible_data[cond]"
   ]
  },
  {
   "cell_type": "markdown",
   "metadata": {},
   "source": [
    "# Start of Assignment"
   ]
  },
  {
   "cell_type": "markdown",
   "metadata": {},
   "source": [
    "## Background\n",
    "\n",
    "One big question in cognitive science is the relationship between linguistic features (e.g. number of vowels, word order and number of tense categories) and non-linguistic features (e.g. population size, altitude and climate). In particular, a lot of attention has been paid to the relationship between population size and various linguistic features. People have looked at the relationship between population size and:"
   ]
  },
  {
   "cell_type": "markdown",
   "metadata": {},
   "source": [
    "- size of the phoneme inventory"
   ]
  },
  {
   "cell_type": "code",
   "execution_count": null,
   "metadata": {
    "collapsed": true
   },
   "outputs": [],
   "source": []
  },
  {
   "cell_type": "markdown",
   "metadata": {},
   "source": [
    "- morphological complexity"
   ]
  },
  {
   "cell_type": "code",
   "execution_count": null,
   "metadata": {
    "collapsed": true
   },
   "outputs": [],
   "source": []
  },
  {
   "cell_type": "markdown",
   "metadata": {},
   "source": [
    "- Relationship between population size and phonemic inventory"
   ]
  },
  {
   "cell_type": "code",
   "execution_count": null,
   "metadata": {
    "collapsed": true
   },
   "outputs": [],
   "source": []
  },
  {
   "cell_type": "markdown",
   "metadata": {},
   "source": [
    "Phonemes are individual sounds. They come from the IPA, which is the phonetic alphabet. Phonemes can either be consonants or vowels. Languages have a fixed number of phonemes. The best data source for this is PHOIBLE. \n",
    "Visualize the following univariate distributions both as a histogram and on a map:\n",
    "- Number of consonants"
   ]
  },
  {
   "cell_type": "code",
   "execution_count": 58,
   "metadata": {},
   "outputs": [
    {
     "data": {
      "text/plain": [
       "<matplotlib.axes._subplots.AxesSubplot at 0x116c72908>"
      ]
     },
     "execution_count": 58,
     "metadata": {},
     "output_type": "execute_result"
    },
    {
     "data": {
      "image/png": "[encoded data removed]",
      "text/plain": [
       "<matplotlib.figure.Figure at 0x116c9ff98>"
      ]
     },
     "metadata": {},
     "output_type": "display_data"
    }
   ],
   "source": [
    "sns.distplot(phoible_data['Consonants'])"
   ]
  },
  {
   "cell_type": "code",
   "execution_count": null,
   "metadata": {
    "collapsed": true
   },
   "outputs": [],
   "source": []
  },
  {
   "cell_type": "markdown",
   "metadata": {},
   "source": [
    "- Number of vowels"
   ]
  },
  {
   "cell_type": "code",
   "execution_count": 59,
   "metadata": {},
   "outputs": [
    {
     "data": {
      "text/plain": [
       "<matplotlib.axes._subplots.AxesSubplot at 0x11578dcc0>"
      ]
     },
     "execution_count": 59,
     "metadata": {},
     "output_type": "execute_result"
    },
    {
     "data": {
      "image/png": "[encoded data removed]",
      "text/plain": [
       "<matplotlib.figure.Figure at 0x1157905c0>"
      ]
     },
     "metadata": {},
     "output_type": "display_data"
    }
   ],
   "source": [
    "sns.distplot(phoible_data['Vowels'])"
   ]
  },
  {
   "cell_type": "code",
   "execution_count": null,
   "metadata": {
    "collapsed": true
   },
   "outputs": [],
   "source": []
  },
  {
   "cell_type": "markdown",
   "metadata": {},
   "source": [
    "- Number of phonemes"
   ]
  },
  {
   "cell_type": "code",
   "execution_count": 60,
   "metadata": {},
   "outputs": [
    {
     "data": {
      "text/plain": [
       "<matplotlib.axes._subplots.AxesSubplot at 0x1173194e0>"
      ]
     },
     "execution_count": 60,
     "metadata": {},
     "output_type": "execute_result"
    },
    {
     "data": {
      "image/png": "[encoded data removed]",
      "text/plain": [
       "<matplotlib.figure.Figure at 0x116ca4ba8>"
      ]
     },
     "metadata": {},
     "output_type": "display_data"
    }
   ],
   "source": [
    "sns.distplot(phoible_data['Phonemes'])"
   ]
  },
  {
   "cell_type": "code",
   "execution_count": null,
   "metadata": {
    "collapsed": true
   },
   "outputs": [],
   "source": []
  },
  {
   "cell_type": "markdown",
   "metadata": {},
   "source": [
    "Visualize those same distributions grouped by continent and grouped by genetic affiliation. The continent is called `area` in PHOIBLE. The genetic affiliation is called `Family` in WALS. WALS and PHOIBLE both identify languages with ISO 639-3, so you should be able to match them up. "
   ]
  },
  {
   "cell_type": "code",
   "execution_count": null,
   "metadata": {
    "collapsed": true
   },
   "outputs": [],
   "source": []
  },
  {
   "cell_type": "markdown",
   "metadata": {},
   "source": [
    "You could try looking at number of phonemes plotted against latitude/longitude, but I doubt anything will come of it."
   ]
  },
  {
   "cell_type": "code",
   "execution_count": null,
   "metadata": {
    "collapsed": true
   },
   "outputs": [],
   "source": []
  },
  {
   "cell_type": "markdown",
   "metadata": {},
   "source": [
    "Visualize the relationship between number of consontants and number of vowels, again by all language, by continent and by genetic affiliation."
   ]
  },
  {
   "cell_type": "code",
   "execution_count": null,
   "metadata": {
    "collapsed": true
   },
   "outputs": [],
   "source": []
  },
  {
   "cell_type": "markdown",
   "metadata": {},
   "source": [
    "Visualize the relationship between population size and phoneme inventory size, again by all language, by continent and by genetic affiliation."
   ]
  },
  {
   "cell_type": "code",
   "execution_count": null,
   "metadata": {
    "collapsed": true
   },
   "outputs": [],
   "source": []
  },
  {
   "cell_type": "markdown",
   "metadata": {},
   "source": [
    "Someone has claimed that phoneme inventory size and distance from Africa are inversely related. You could use the latitude/longitude in PHOIBLE for this. You may have to arbitrarily choose the mid-point of Africa for this."
   ]
  },
  {
   "cell_type": "code",
   "execution_count": null,
   "metadata": {
    "collapsed": true
   },
   "outputs": [],
   "source": []
  },
  {
   "cell_type": "markdown",
   "metadata": {},
   "source": [
    "What are the most common phonemes in the world? What is the distribution of frequency? That is, there are about 2,000 phonemes in PHOIBLE, but only a handful are common and there's a long tail. One problem here is that PHOIBLE is not a random sample of languages. So, you could sample languages from PHOIBLE proportional to their population size and arrive at an estimate that way."
   ]
  },
  {
   "cell_type": "code",
   "execution_count": null,
   "metadata": {
    "collapsed": true
   },
   "outputs": [],
   "source": []
  },
  {
   "cell_type": "markdown",
   "metadata": {},
   "source": [
    "Phonemes can be described by a set of (mostly) binary features. PHOIBLE has this data too. Is the distribution of featue values evenly split for each feature? If not, which features are more prone to being either 0 or 1?\n",
    "Are some phonemes only present in some area of genetic affiliation? (There should be. For example, 'kp' and 'gb' are likely only in Africa.)"
   ]
  },
  {
   "cell_type": "code",
   "execution_count": null,
   "metadata": {
    "collapsed": true
   },
   "outputs": [],
   "source": []
  },
  {
   "cell_type": "markdown",
   "metadata": {},
   "source": [
    "One of the features of phonemes is tone. If a language has a phoneme with tone, it counts as a \"tone language\". Are most language tone? Where are the tone langauges on the map?"
   ]
  },
  {
   "cell_type": "code",
   "execution_count": null,
   "metadata": {
    "collapsed": true
   },
   "outputs": [],
   "source": []
  },
  {
   "cell_type": "markdown",
   "metadata": {},
   "source": [
    "Someone has claimed there is a relationship being a tone language and the altitude. You could use lat/long to call some API to get the altitude and see if there's a relationship."
   ]
  },
  {
   "cell_type": "code",
   "execution_count": null,
   "metadata": {
    "collapsed": true
   },
   "outputs": [],
   "source": []
  },
  {
   "cell_type": "markdown",
   "metadata": {
    "collapsed": true
   },
   "source": [
    "## Relationship between population size and morphological complexity\n",
    "\n",
    "All the data for this will be in WALS. Morphological complexity is a vague term, referring to how complicated the words in a language are. Here are some features that you should look at with respect to their relation to phoneme inventory size:\n",
    "- Feature 30A: Number of Genders\n",
    "- Feature 27A: Reduplication\n",
    "- Feature 20A: Fusion of Selected Inflectional Formatives\n",
    "- Feature 21A: Exponence of Selected Inflectional Formatives\n",
    "- Feature 21B: Exponence of Tense-Aspect-Mood Inflection"
   ]
  },
  {
   "cell_type": "code",
   "execution_count": null,
   "metadata": {
    "collapsed": true
   },
   "outputs": [],
   "source": []
  }
 ],
 "metadata": {
  "anaconda-cloud": {},
  "kernelspec": {
   "display_name": "Python [Root]",
   "language": "python",
   "name": "Python [Root]"
  },
  "language_info": {
   "codemirror_mode": {
    "name": "ipython",
    "version": 3
   },
   "file_extension": ".py",
   "mimetype": "text/x-python",
   "name": "python",
   "nbconvert_exporter": "python",
   "pygments_lexer": "ipython3",
   "version": "3.5.2"
  }
 },
 "nbformat": 4,
 "nbformat_minor": 1
}
