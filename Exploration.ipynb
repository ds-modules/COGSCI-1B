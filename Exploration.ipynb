{
 "cells": [
  {
   "cell_type": "markdown",
   "metadata": {},
   "source": [
    "# [COGSCI 1B] Typology\n",
    "---\n",
    "### Professor Terry Regier\n",
    "\n",
    "This module explores a central question in cognitive science and linguistics: how do languages vary from one another? We will explore datasets of linguistic features (WALS and Phoible) to come to tentative answers to this question in a data-driven way. Example problems include visualizing the distribution of phonemes, the relationship between geography and the development of languages, and the genetic relationships of languages.\n",
    "\n",
    "---\n",
    "\n",
    "### Table of Contents\n",
    "\n",
    "0 - [The Data](#section data)\n",
    "\n",
    "1 - [Phoneme Distributions](#phoneme dist)\n",
    "\n",
    "&nbsp;&nbsp;&nbsp;&nbsp;&nbsp;&nbsp; 1.1 - [Consonants](#consonants)\n",
    "\n",
    "&nbsp;&nbsp;&nbsp;&nbsp;&nbsp;&nbsp; 1.2 - [Vowels](#vowels)\n",
    "\n",
    "&nbsp;&nbsp;&nbsp;&nbsp;&nbsp;&nbsp; 1.3 - [Phonemes](#phonemes)\n",
    "\n",
    "&nbsp;&nbsp;&nbsp;&nbsp;&nbsp;&nbsp; 1.4 - [Consonants vs Vowels](#cons vs vows)<br>\n",
    "\n",
    "2 - [Phonemes Metadata](#metadata)\n",
    "\n",
    "&nbsp;&nbsp;&nbsp;&nbsp;&nbsp;&nbsp; 2.1 - [Family](#phoneme fam)\n",
    "\n",
    "&nbsp;&nbsp;&nbsp;&nbsp;&nbsp;&nbsp; 2.2 - [Continent](#phoneme cont)\n",
    "\n",
    "&nbsp;&nbsp;&nbsp;&nbsp;&nbsp;&nbsp; 2.3 - [Latitude and Longitude](#lat lons)\n",
    "\n",
    "&nbsp;&nbsp;&nbsp;&nbsp;&nbsp;&nbsp; 2.4 - [Population Size vs Phoneme Inventory Size](#pop v foam)\n",
    "\n",
    "&nbsp;&nbsp;&nbsp;&nbsp;&nbsp;&nbsp; 2.5 - [Distance from Africa](#africa distance)\n",
    "\n",
    "3 - [Common Phonemes](#common)\n",
    "\n",
    "4 - [Tone](#tone)\n",
    "\n",
    "&nbsp;&nbsp;&nbsp;&nbsp;&nbsp;&nbsp; 4.1 - [Altitude](#altitude)\n",
    "\n",
    "5 - [Morphological Complexity](#morph complex)\n",
    "\n",
    "**Dependencies:**"
   ]
  },
  {
   "cell_type": "code",
   "execution_count": 1,
   "metadata": {
    "collapsed": true
   },
   "outputs": [],
   "source": [
    "!pip install -U -q folium\n",
    "\n",
    "import folium\n",
    "import numpy as np\n",
    "import pandas as pd\n",
    "import seaborn as sns\n",
    "import geopy.distance\n",
    "from collections import Counter\n",
    "import matplotlib.pyplot as plt\n",
    "from IPython.display import display\n",
    "from scripts.cogsci_module import *\n",
    "import warnings\n",
    "\n",
    "warnings.filterwarnings('ignore')\n",
    "sns.set_style('darkgrid')\n",
    "%matplotlib inline"
   ]
  },
  {
   "cell_type": "markdown",
   "metadata": {},
   "source": [
    "## The Data <a id='section data'></a>"
   ]
  },
  {
   "cell_type": "markdown",
   "metadata": {},
   "source": [
    "We will start by familiarizing ourselves with the data, and in order to do that, we need to load them into our notebook. \n",
    "\n",
    "First, we'll start by loading in our data from Phoible. In the code cell below, we create a variable called `file_name` that we assign to the name of our file in quotations, which lets Python know that the data is text, or a *string*. Note that we have `data/` in front of the file name, which means that our file `phoible_elevation.csv` is in the `data` directory (folder). We turn this file into what is called a **DataFrame**, which can be thought of as a slightly more rigid Excel sheet. It allows us to easily access, manipulate, and visualize our data.\n",
    "\n",
    "A code cell will display what is written in the last line of the cell (if it is not a variable assignment statement). So in the cell below, the last line says `phoible_data.head()`, which means that it will display our dataframe, but adding `.head()` at the end of it allows us to show only the first 5 rows."
   ]
  },
  {
   "cell_type": "code",
   "execution_count": 2,
   "metadata": {},
   "outputs": [
    {
     "data": {
      "text/html": [
       "<div>\n",
       "<table border=\"1\" class=\"dataframe\">\n",
       "  <thead>\n",
       "    <tr style=\"text-align: right;\">\n",
       "      <th></th>\n",
       "      <th>InventoryID</th>\n",
       "      <th>Source</th>\n",
       "      <th>LanguageCode</th>\n",
       "      <th>LanguageName</th>\n",
       "      <th>Glottocode</th>\n",
       "      <th>GlottologName</th>\n",
       "      <th>Trump</th>\n",
       "      <th>LanguageFamilyRoot</th>\n",
       "      <th>LanguageFamilyGenus</th>\n",
       "      <th>Country</th>\n",
       "      <th>Area</th>\n",
       "      <th>Population</th>\n",
       "      <th>Latitude</th>\n",
       "      <th>Longitude</th>\n",
       "      <th>Phonemes</th>\n",
       "      <th>Consonants</th>\n",
       "      <th>Tones</th>\n",
       "      <th>Vowels</th>\n",
       "      <th>elevation</th>\n",
       "    </tr>\n",
       "  </thead>\n",
       "  <tbody>\n",
       "    <tr>\n",
       "      <th>0</th>\n",
       "      <td>1</td>\n",
       "      <td>SPA</td>\n",
       "      <td>kor</td>\n",
       "      <td>Korean</td>\n",
       "      <td>kore1280</td>\n",
       "      <td>Korean</td>\n",
       "      <td>1</td>\n",
       "      <td>asis</td>\n",
       "      <td>Korean</td>\n",
       "      <td>Korea, South</td>\n",
       "      <td>Asia</td>\n",
       "      <td>42000000</td>\n",
       "      <td>37.5000</td>\n",
       "      <td>128.0000</td>\n",
       "      <td>40</td>\n",
       "      <td>22</td>\n",
       "      <td>0</td>\n",
       "      <td>18</td>\n",
       "      <td>330.066681</td>\n",
       "    </tr>\n",
       "    <tr>\n",
       "      <th>1</th>\n",
       "      <td>2</td>\n",
       "      <td>SPA</td>\n",
       "      <td>ket</td>\n",
       "      <td>Ket</td>\n",
       "      <td>kett1243</td>\n",
       "      <td>Ket</td>\n",
       "      <td>1</td>\n",
       "      <td>yeos</td>\n",
       "      <td>Yeniseian</td>\n",
       "      <td>Russian Federation</td>\n",
       "      <td>Europe</td>\n",
       "      <td>190</td>\n",
       "      <td>63.7551</td>\n",
       "      <td>87.5466</td>\n",
       "      <td>32</td>\n",
       "      <td>18</td>\n",
       "      <td>0</td>\n",
       "      <td>14</td>\n",
       "      <td>25.690624</td>\n",
       "    </tr>\n",
       "    <tr>\n",
       "      <th>2</th>\n",
       "      <td>3</td>\n",
       "      <td>SPA</td>\n",
       "      <td>lbe</td>\n",
       "      <td>Lak</td>\n",
       "      <td>lakk1252</td>\n",
       "      <td>Lak</td>\n",
       "      <td>1</td>\n",
       "      <td>ncau</td>\n",
       "      <td>Lak-Dargwa</td>\n",
       "      <td>Russian Federation</td>\n",
       "      <td>Europe</td>\n",
       "      <td>157000</td>\n",
       "      <td>42.1328</td>\n",
       "      <td>47.0809</td>\n",
       "      <td>69</td>\n",
       "      <td>60</td>\n",
       "      <td>0</td>\n",
       "      <td>9</td>\n",
       "      <td>2169.640625</td>\n",
       "    </tr>\n",
       "    <tr>\n",
       "      <th>3</th>\n",
       "      <td>4</td>\n",
       "      <td>SPA</td>\n",
       "      <td>kbd</td>\n",
       "      <td>Kabardian</td>\n",
       "      <td>kaba1278</td>\n",
       "      <td>Kabardian</td>\n",
       "      <td>1</td>\n",
       "      <td>ncau</td>\n",
       "      <td>Northwest Caucasian</td>\n",
       "      <td>Russian Federation</td>\n",
       "      <td>Europe</td>\n",
       "      <td>520000</td>\n",
       "      <td>43.5082</td>\n",
       "      <td>43.3918</td>\n",
       "      <td>56</td>\n",
       "      <td>49</td>\n",
       "      <td>0</td>\n",
       "      <td>7</td>\n",
       "      <td>943.938354</td>\n",
       "    </tr>\n",
       "    <tr>\n",
       "      <th>4</th>\n",
       "      <td>5</td>\n",
       "      <td>SPA</td>\n",
       "      <td>kat</td>\n",
       "      <td>Georgian</td>\n",
       "      <td>nucl1302</td>\n",
       "      <td>Nuclear Georgian</td>\n",
       "      <td>1</td>\n",
       "      <td>kart</td>\n",
       "      <td>Kartvelian</td>\n",
       "      <td>Georgia</td>\n",
       "      <td>Asia</td>\n",
       "      <td>3900000</td>\n",
       "      <td>39.3705</td>\n",
       "      <td>45.8066</td>\n",
       "      <td>35</td>\n",
       "      <td>29</td>\n",
       "      <td>0</td>\n",
       "      <td>6</td>\n",
       "      <td>2204.326416</td>\n",
       "    </tr>\n",
       "  </tbody>\n",
       "</table>\n",
       "</div>"
      ],
      "text/plain": [
       "   InventoryID Source LanguageCode LanguageName Glottocode     GlottologName  \\\n",
       "0            1    SPA          kor       Korean   kore1280            Korean   \n",
       "1            2    SPA          ket          Ket   kett1243               Ket   \n",
       "2            3    SPA          lbe          Lak   lakk1252               Lak   \n",
       "3            4    SPA          kbd    Kabardian   kaba1278         Kabardian   \n",
       "4            5    SPA          kat     Georgian   nucl1302  Nuclear Georgian   \n",
       "\n",
       "   Trump LanguageFamilyRoot  LanguageFamilyGenus             Country    Area  \\\n",
       "0      1               asis               Korean        Korea, South    Asia   \n",
       "1      1               yeos            Yeniseian  Russian Federation  Europe   \n",
       "2      1               ncau           Lak-Dargwa  Russian Federation  Europe   \n",
       "3      1               ncau  Northwest Caucasian  Russian Federation  Europe   \n",
       "4      1               kart           Kartvelian             Georgia    Asia   \n",
       "\n",
       "  Population  Latitude  Longitude  Phonemes  Consonants  Tones  Vowels  \\\n",
       "0   42000000   37.5000   128.0000        40          22      0      18   \n",
       "1        190   63.7551    87.5466        32          18      0      14   \n",
       "2     157000   42.1328    47.0809        69          60      0       9   \n",
       "3     520000   43.5082    43.3918        56          49      0       7   \n",
       "4    3900000   39.3705    45.8066        35          29      0       6   \n",
       "\n",
       "     elevation  \n",
       "0   330.066681  \n",
       "1    25.690624  \n",
       "2  2169.640625  \n",
       "3   943.938354  \n",
       "4  2204.326416  "
      ]
     },
     "execution_count": 2,
     "metadata": {},
     "output_type": "execute_result"
    }
   ],
   "source": [
    "file_name = 'phoible_elevation.csv'\n",
    "phoible_data = pd.read_csv(file_name)\n",
    "phoible_data.head()"
   ]
  },
  {
   "cell_type": "markdown",
   "metadata": {},
   "source": [
    "In our dataframe, the column `Population` was stored as *strings*, not numbers, because some values in the column are words. The possible text entries for those rows are shown below."
   ]
  },
  {
   "cell_type": "code",
   "execution_count": 3,
   "metadata": {},
   "outputs": [
    {
     "data": {
      "text/plain": [
       "['Ancient',\n",
       " 'Extinct',\n",
       " 'Missing E16 page',\n",
       " 'No_estimate_available',\n",
       " 'No_known_speakers']"
      ]
     },
     "execution_count": 3,
     "metadata": {},
     "output_type": "execute_result"
    }
   ],
   "source": [
    "sorted(list(set(phoible_data.Population)))[-5:]"
   ]
  },
  {
   "cell_type": "markdown",
   "metadata": {},
   "source": [
    "In order to use the numerical values of `Population` for further analysis, we are going to drop rows where the values are words, and convert the numbers to be represented as `ints`, or the Python representation of integers, and create a new dataframe called `phoib` with this new data. Reasons like this emphasize the importance of being aware how your data is represented and how you store data."
   ]
  },
  {
   "cell_type": "code",
   "execution_count": 4,
   "metadata": {},
   "outputs": [
    {
     "name": "stdout",
     "output_type": "stream",
     "text": [
      "When we remove those rows with text, we lose 67 rows.\n"
     ]
    },
    {
     "data": {
      "text/html": [
       "<div>\n",
       "<table border=\"1\" class=\"dataframe\">\n",
       "  <thead>\n",
       "    <tr style=\"text-align: right;\">\n",
       "      <th></th>\n",
       "      <th>InventoryID</th>\n",
       "      <th>Source</th>\n",
       "      <th>LanguageCode</th>\n",
       "      <th>LanguageName</th>\n",
       "      <th>Glottocode</th>\n",
       "      <th>GlottologName</th>\n",
       "      <th>Trump</th>\n",
       "      <th>LanguageFamilyRoot</th>\n",
       "      <th>LanguageFamilyGenus</th>\n",
       "      <th>Country</th>\n",
       "      <th>Area</th>\n",
       "      <th>Population</th>\n",
       "      <th>Latitude</th>\n",
       "      <th>Longitude</th>\n",
       "      <th>Phonemes</th>\n",
       "      <th>Consonants</th>\n",
       "      <th>Tones</th>\n",
       "      <th>Vowels</th>\n",
       "      <th>elevation</th>\n",
       "    </tr>\n",
       "  </thead>\n",
       "  <tbody>\n",
       "    <tr>\n",
       "      <th>0</th>\n",
       "      <td>1</td>\n",
       "      <td>SPA</td>\n",
       "      <td>kor</td>\n",
       "      <td>Korean</td>\n",
       "      <td>kore1280</td>\n",
       "      <td>Korean</td>\n",
       "      <td>1</td>\n",
       "      <td>asis</td>\n",
       "      <td>Korean</td>\n",
       "      <td>Korea, South</td>\n",
       "      <td>Asia</td>\n",
       "      <td>42000000.0</td>\n",
       "      <td>37.5000</td>\n",
       "      <td>128.0000</td>\n",
       "      <td>40</td>\n",
       "      <td>22</td>\n",
       "      <td>0</td>\n",
       "      <td>18</td>\n",
       "      <td>330.066681</td>\n",
       "    </tr>\n",
       "    <tr>\n",
       "      <th>1</th>\n",
       "      <td>2</td>\n",
       "      <td>SPA</td>\n",
       "      <td>ket</td>\n",
       "      <td>Ket</td>\n",
       "      <td>kett1243</td>\n",
       "      <td>Ket</td>\n",
       "      <td>1</td>\n",
       "      <td>yeos</td>\n",
       "      <td>Yeniseian</td>\n",
       "      <td>Russian Federation</td>\n",
       "      <td>Europe</td>\n",
       "      <td>190.0</td>\n",
       "      <td>63.7551</td>\n",
       "      <td>87.5466</td>\n",
       "      <td>32</td>\n",
       "      <td>18</td>\n",
       "      <td>0</td>\n",
       "      <td>14</td>\n",
       "      <td>25.690624</td>\n",
       "    </tr>\n",
       "    <tr>\n",
       "      <th>2</th>\n",
       "      <td>3</td>\n",
       "      <td>SPA</td>\n",
       "      <td>lbe</td>\n",
       "      <td>Lak</td>\n",
       "      <td>lakk1252</td>\n",
       "      <td>Lak</td>\n",
       "      <td>1</td>\n",
       "      <td>ncau</td>\n",
       "      <td>Lak-Dargwa</td>\n",
       "      <td>Russian Federation</td>\n",
       "      <td>Europe</td>\n",
       "      <td>157000.0</td>\n",
       "      <td>42.1328</td>\n",
       "      <td>47.0809</td>\n",
       "      <td>69</td>\n",
       "      <td>60</td>\n",
       "      <td>0</td>\n",
       "      <td>9</td>\n",
       "      <td>2169.640625</td>\n",
       "    </tr>\n",
       "    <tr>\n",
       "      <th>3</th>\n",
       "      <td>4</td>\n",
       "      <td>SPA</td>\n",
       "      <td>kbd</td>\n",
       "      <td>Kabardian</td>\n",
       "      <td>kaba1278</td>\n",
       "      <td>Kabardian</td>\n",
       "      <td>1</td>\n",
       "      <td>ncau</td>\n",
       "      <td>Northwest Caucasian</td>\n",
       "      <td>Russian Federation</td>\n",
       "      <td>Europe</td>\n",
       "      <td>520000.0</td>\n",
       "      <td>43.5082</td>\n",
       "      <td>43.3918</td>\n",
       "      <td>56</td>\n",
       "      <td>49</td>\n",
       "      <td>0</td>\n",
       "      <td>7</td>\n",
       "      <td>943.938354</td>\n",
       "    </tr>\n",
       "    <tr>\n",
       "      <th>4</th>\n",
       "      <td>5</td>\n",
       "      <td>SPA</td>\n",
       "      <td>kat</td>\n",
       "      <td>Georgian</td>\n",
       "      <td>nucl1302</td>\n",
       "      <td>Nuclear Georgian</td>\n",
       "      <td>1</td>\n",
       "      <td>kart</td>\n",
       "      <td>Kartvelian</td>\n",
       "      <td>Georgia</td>\n",
       "      <td>Asia</td>\n",
       "      <td>3900000.0</td>\n",
       "      <td>39.3705</td>\n",
       "      <td>45.8066</td>\n",
       "      <td>35</td>\n",
       "      <td>29</td>\n",
       "      <td>0</td>\n",
       "      <td>6</td>\n",
       "      <td>2204.326416</td>\n",
       "    </tr>\n",
       "  </tbody>\n",
       "</table>\n",
       "</div>"
      ],
      "text/plain": [
       "   InventoryID Source LanguageCode LanguageName Glottocode     GlottologName  \\\n",
       "0            1    SPA          kor       Korean   kore1280            Korean   \n",
       "1            2    SPA          ket          Ket   kett1243               Ket   \n",
       "2            3    SPA          lbe          Lak   lakk1252               Lak   \n",
       "3            4    SPA          kbd    Kabardian   kaba1278         Kabardian   \n",
       "4            5    SPA          kat     Georgian   nucl1302  Nuclear Georgian   \n",
       "\n",
       "   Trump LanguageFamilyRoot  LanguageFamilyGenus             Country    Area  \\\n",
       "0      1               asis               Korean        Korea, South    Asia   \n",
       "1      1               yeos            Yeniseian  Russian Federation  Europe   \n",
       "2      1               ncau           Lak-Dargwa  Russian Federation  Europe   \n",
       "3      1               ncau  Northwest Caucasian  Russian Federation  Europe   \n",
       "4      1               kart           Kartvelian             Georgia    Asia   \n",
       "\n",
       "   Population  Latitude  Longitude  Phonemes  Consonants  Tones  Vowels  \\\n",
       "0  42000000.0   37.5000   128.0000        40          22      0      18   \n",
       "1       190.0   63.7551    87.5466        32          18      0      14   \n",
       "2    157000.0   42.1328    47.0809        69          60      0       9   \n",
       "3    520000.0   43.5082    43.3918        56          49      0       7   \n",
       "4   3900000.0   39.3705    45.8066        35          29      0       6   \n",
       "\n",
       "     elevation  \n",
       "0   330.066681  \n",
       "1    25.690624  \n",
       "2  2169.640625  \n",
       "3   943.938354  \n",
       "4  2204.326416  "
      ]
     },
     "execution_count": 4,
     "metadata": {},
     "output_type": "execute_result"
    }
   ],
   "source": [
    "# phoib contains rows where population is a number\n",
    "phoib = phoible_data.copy()\n",
    "phoib[\"Population\"] = pd.to_numeric(phoib['Population'], errors='coerce')\n",
    "phoib = phoib.dropna(subset=['Population'])\n",
    "\n",
    "# stands for good phoib / use for mapping\n",
    "phoib_mapping = phoib.dropna()\n",
    "\n",
    "length_difference = len(phoible_data) - len(phoib)\n",
    "print(\"When we remove those rows with text, we lose {} rows.\".format(length_difference))\n",
    "\n",
    "phoib.head()"
   ]
  },
  {
   "cell_type": "markdown",
   "metadata": {},
   "source": [
    "The next thing that we'll notice is that there are multiple rows for some of the languages."
   ]
  },
  {
   "cell_type": "code",
   "execution_count": 15,
   "metadata": {},
   "outputs": [
    {
     "data": {
      "text/plain": [
       "nyf    6\n",
       "sgw    6\n",
       "gwn    6\n",
       "xtc    5\n",
       "car    5\n",
       "fub    4\n",
       "bva    4\n",
       "hau    4\n",
       "khr    4\n",
       "aka    4\n",
       "Name: LanguageCode, dtype: int64"
      ]
     },
     "execution_count": 15,
     "metadata": {},
     "output_type": "execute_result"
    }
   ],
   "source": [
    "phoible_data['LanguageCode'].value_counts().head(10)"
   ]
  },
  {
   "cell_type": "code",
   "execution_count": 8,
   "metadata": {},
   "outputs": [
    {
     "data": {
      "text/plain": [
       "1672"
      ]
     },
     "execution_count": 8,
     "metadata": {},
     "output_type": "execute_result"
    }
   ],
   "source": [
    "len(list(set(phoible_data['LanguageCode'])))"
   ]
  },
  {
   "cell_type": "code",
   "execution_count": 9,
   "metadata": {
    "scrolled": true
   },
   "outputs": [
    {
     "data": {
      "text/html": [
       "<div>\n",
       "<table border=\"1\" class=\"dataframe\">\n",
       "  <thead>\n",
       "    <tr style=\"text-align: right;\">\n",
       "      <th></th>\n",
       "      <th>InventoryID</th>\n",
       "      <th>Source</th>\n",
       "      <th>LanguageCode</th>\n",
       "      <th>LanguageName</th>\n",
       "      <th>Glottocode</th>\n",
       "      <th>GlottologName</th>\n",
       "      <th>Trump</th>\n",
       "      <th>LanguageFamilyRoot</th>\n",
       "      <th>LanguageFamilyGenus</th>\n",
       "      <th>Country</th>\n",
       "      <th>Area</th>\n",
       "      <th>Population</th>\n",
       "      <th>Latitude</th>\n",
       "      <th>Longitude</th>\n",
       "      <th>Phonemes</th>\n",
       "      <th>Consonants</th>\n",
       "      <th>Tones</th>\n",
       "      <th>Vowels</th>\n",
       "      <th>elevation</th>\n",
       "    </tr>\n",
       "  </thead>\n",
       "  <tbody>\n",
       "    <tr>\n",
       "      <th>1458</th>\n",
       "      <td>1459</td>\n",
       "      <td>GM</td>\n",
       "      <td>sgw</td>\n",
       "      <td>Muher</td>\n",
       "      <td>seba1251</td>\n",
       "      <td>Sebat Bet Gurage</td>\n",
       "      <td>1</td>\n",
       "      <td>afas</td>\n",
       "      <td>Semitic</td>\n",
       "      <td>Ethiopia</td>\n",
       "      <td>Africa</td>\n",
       "      <td>2320000</td>\n",
       "      <td>8.11879</td>\n",
       "      <td>37.9891</td>\n",
       "      <td>42</td>\n",
       "      <td>34</td>\n",
       "      <td>0</td>\n",
       "      <td>8</td>\n",
       "      <td>2262.824463</td>\n",
       "    </tr>\n",
       "    <tr>\n",
       "      <th>1459</th>\n",
       "      <td>1460</td>\n",
       "      <td>GM</td>\n",
       "      <td>sgw</td>\n",
       "      <td>Ezha</td>\n",
       "      <td>seba1251</td>\n",
       "      <td>Sebat Bet Gurage</td>\n",
       "      <td>2</td>\n",
       "      <td>afas</td>\n",
       "      <td>Semitic</td>\n",
       "      <td>Ethiopia</td>\n",
       "      <td>Africa</td>\n",
       "      <td>2320000</td>\n",
       "      <td>8.11879</td>\n",
       "      <td>37.9891</td>\n",
       "      <td>39</td>\n",
       "      <td>33</td>\n",
       "      <td>0</td>\n",
       "      <td>6</td>\n",
       "      <td>2262.824463</td>\n",
       "    </tr>\n",
       "    <tr>\n",
       "      <th>1460</th>\n",
       "      <td>1461</td>\n",
       "      <td>GM</td>\n",
       "      <td>sgw</td>\n",
       "      <td>Chaha</td>\n",
       "      <td>seba1251</td>\n",
       "      <td>Sebat Bet Gurage</td>\n",
       "      <td>3</td>\n",
       "      <td>afas</td>\n",
       "      <td>Semitic</td>\n",
       "      <td>Ethiopia</td>\n",
       "      <td>Africa</td>\n",
       "      <td>2320000</td>\n",
       "      <td>8.11879</td>\n",
       "      <td>37.9891</td>\n",
       "      <td>44</td>\n",
       "      <td>36</td>\n",
       "      <td>0</td>\n",
       "      <td>8</td>\n",
       "      <td>2262.824463</td>\n",
       "    </tr>\n",
       "    <tr>\n",
       "      <th>1461</th>\n",
       "      <td>1462</td>\n",
       "      <td>GM</td>\n",
       "      <td>sgw</td>\n",
       "      <td>Gumer</td>\n",
       "      <td>seba1251</td>\n",
       "      <td>Sebat Bet Gurage</td>\n",
       "      <td>4</td>\n",
       "      <td>afas</td>\n",
       "      <td>Semitic</td>\n",
       "      <td>Ethiopia</td>\n",
       "      <td>Africa</td>\n",
       "      <td>2320000</td>\n",
       "      <td>8.11879</td>\n",
       "      <td>37.9891</td>\n",
       "      <td>42</td>\n",
       "      <td>35</td>\n",
       "      <td>0</td>\n",
       "      <td>7</td>\n",
       "      <td>2262.824463</td>\n",
       "    </tr>\n",
       "    <tr>\n",
       "      <th>1462</th>\n",
       "      <td>1463</td>\n",
       "      <td>GM</td>\n",
       "      <td>sgw</td>\n",
       "      <td>Gura</td>\n",
       "      <td>seba1251</td>\n",
       "      <td>Sebat Bet Gurage</td>\n",
       "      <td>5</td>\n",
       "      <td>afas</td>\n",
       "      <td>Semitic</td>\n",
       "      <td>Ethiopia</td>\n",
       "      <td>Africa</td>\n",
       "      <td>2320000</td>\n",
       "      <td>8.11879</td>\n",
       "      <td>37.9891</td>\n",
       "      <td>42</td>\n",
       "      <td>36</td>\n",
       "      <td>0</td>\n",
       "      <td>6</td>\n",
       "      <td>2262.824463</td>\n",
       "    </tr>\n",
       "    <tr>\n",
       "      <th>1463</th>\n",
       "      <td>1464</td>\n",
       "      <td>GM</td>\n",
       "      <td>sgw</td>\n",
       "      <td>Gyeto</td>\n",
       "      <td>seba1251</td>\n",
       "      <td>Sebat Bet Gurage</td>\n",
       "      <td>6</td>\n",
       "      <td>afas</td>\n",
       "      <td>Semitic</td>\n",
       "      <td>Ethiopia</td>\n",
       "      <td>Africa</td>\n",
       "      <td>2320000</td>\n",
       "      <td>8.11879</td>\n",
       "      <td>37.9891</td>\n",
       "      <td>45</td>\n",
       "      <td>39</td>\n",
       "      <td>0</td>\n",
       "      <td>6</td>\n",
       "      <td>2262.824463</td>\n",
       "    </tr>\n",
       "  </tbody>\n",
       "</table>\n",
       "</div>"
      ],
      "text/plain": [
       "      InventoryID Source LanguageCode LanguageName Glottocode  \\\n",
       "1458         1459     GM          sgw        Muher   seba1251   \n",
       "1459         1460     GM          sgw         Ezha   seba1251   \n",
       "1460         1461     GM          sgw        Chaha   seba1251   \n",
       "1461         1462     GM          sgw        Gumer   seba1251   \n",
       "1462         1463     GM          sgw         Gura   seba1251   \n",
       "1463         1464     GM          sgw        Gyeto   seba1251   \n",
       "\n",
       "         GlottologName  Trump LanguageFamilyRoot LanguageFamilyGenus  \\\n",
       "1458  Sebat Bet Gurage      1               afas             Semitic   \n",
       "1459  Sebat Bet Gurage      2               afas             Semitic   \n",
       "1460  Sebat Bet Gurage      3               afas             Semitic   \n",
       "1461  Sebat Bet Gurage      4               afas             Semitic   \n",
       "1462  Sebat Bet Gurage      5               afas             Semitic   \n",
       "1463  Sebat Bet Gurage      6               afas             Semitic   \n",
       "\n",
       "       Country    Area Population  Latitude  Longitude  Phonemes  Consonants  \\\n",
       "1458  Ethiopia  Africa    2320000   8.11879    37.9891        42          34   \n",
       "1459  Ethiopia  Africa    2320000   8.11879    37.9891        39          33   \n",
       "1460  Ethiopia  Africa    2320000   8.11879    37.9891        44          36   \n",
       "1461  Ethiopia  Africa    2320000   8.11879    37.9891        42          35   \n",
       "1462  Ethiopia  Africa    2320000   8.11879    37.9891        42          36   \n",
       "1463  Ethiopia  Africa    2320000   8.11879    37.9891        45          39   \n",
       "\n",
       "      Tones  Vowels    elevation  \n",
       "1458      0       8  2262.824463  \n",
       "1459      0       6  2262.824463  \n",
       "1460      0       8  2262.824463  \n",
       "1461      0       7  2262.824463  \n",
       "1462      0       6  2262.824463  \n",
       "1463      0       6  2262.824463  "
      ]
     },
     "execution_count": 9,
     "metadata": {},
     "output_type": "execute_result"
    }
   ],
   "source": [
    "# same language code, but different language name? What is `Trump`?\n",
    "cond = np.logical_and(phoible_data['Source'] == 'GM', phoible_data['LanguageCode'] == 'sgw')\n",
    "phoible_data[cond]"
   ]
  },
  {
   "cell_type": "markdown",
   "metadata": {},
   "source": [
    "In the next cell, we imoport our WALS data."
   ]
  },
  {
   "cell_type": "code",
   "execution_count": 5,
   "metadata": {},
   "outputs": [
    {
     "data": {
      "text/html": [
       "<div>\n",
       "<table border=\"1\" class=\"dataframe\">\n",
       "  <thead>\n",
       "    <tr style=\"text-align: right;\">\n",
       "      <th></th>\n",
       "      <th>wals_code</th>\n",
       "      <th>iso_code</th>\n",
       "      <th>glottocode</th>\n",
       "      <th>Name</th>\n",
       "      <th>latitude</th>\n",
       "      <th>longitude</th>\n",
       "      <th>genus</th>\n",
       "      <th>family</th>\n",
       "      <th>macroarea</th>\n",
       "      <th>countrycodes</th>\n",
       "      <th>...</th>\n",
       "      <th>137B M in Second Person Singular</th>\n",
       "      <th>136B M in First Person Singular</th>\n",
       "      <th>109B Other Roles of Applied Objects</th>\n",
       "      <th>10B Nasal Vowels in West Africa</th>\n",
       "      <th>25B Zero Marking of A and P Arguments</th>\n",
       "      <th>21B Exponence of Tense-Aspect-Mood Inflection</th>\n",
       "      <th>108B Productivity of the Antipassive Construction</th>\n",
       "      <th>130B Cultural Categories of Languages with Identity of 'Finger' and 'Hand'</th>\n",
       "      <th>58B Number of Possessive Nouns</th>\n",
       "      <th>79B Suppletion in Imperatives and Hortatives</th>\n",
       "    </tr>\n",
       "  </thead>\n",
       "  <tbody>\n",
       "    <tr>\n",
       "      <th>0</th>\n",
       "      <td>aab</td>\n",
       "      <td>NaN</td>\n",
       "      <td>NaN</td>\n",
       "      <td>Arapesh (Abu)</td>\n",
       "      <td>-3.450000</td>\n",
       "      <td>142.950000</td>\n",
       "      <td>Kombio-Arapesh</td>\n",
       "      <td>Torricelli</td>\n",
       "      <td>NaN</td>\n",
       "      <td>PG</td>\n",
       "      <td>...</td>\n",
       "      <td>NaN</td>\n",
       "      <td>NaN</td>\n",
       "      <td>NaN</td>\n",
       "      <td>NaN</td>\n",
       "      <td>NaN</td>\n",
       "      <td>NaN</td>\n",
       "      <td>NaN</td>\n",
       "      <td>NaN</td>\n",
       "      <td>NaN</td>\n",
       "      <td>NaN</td>\n",
       "    </tr>\n",
       "    <tr>\n",
       "      <th>1</th>\n",
       "      <td>aar</td>\n",
       "      <td>aiw</td>\n",
       "      <td>aari1239</td>\n",
       "      <td>Aari</td>\n",
       "      <td>6.000000</td>\n",
       "      <td>36.583333</td>\n",
       "      <td>South Omotic</td>\n",
       "      <td>Afro-Asiatic</td>\n",
       "      <td>Africa</td>\n",
       "      <td>ET</td>\n",
       "      <td>...</td>\n",
       "      <td>NaN</td>\n",
       "      <td>NaN</td>\n",
       "      <td>NaN</td>\n",
       "      <td>NaN</td>\n",
       "      <td>NaN</td>\n",
       "      <td>NaN</td>\n",
       "      <td>NaN</td>\n",
       "      <td>NaN</td>\n",
       "      <td>NaN</td>\n",
       "      <td>NaN</td>\n",
       "    </tr>\n",
       "    <tr>\n",
       "      <th>2</th>\n",
       "      <td>aba</td>\n",
       "      <td>aau</td>\n",
       "      <td>abau1245</td>\n",
       "      <td>Abau</td>\n",
       "      <td>-4.000000</td>\n",
       "      <td>141.250000</td>\n",
       "      <td>Upper Sepik</td>\n",
       "      <td>Sepik</td>\n",
       "      <td>Papunesia</td>\n",
       "      <td>PG</td>\n",
       "      <td>...</td>\n",
       "      <td>NaN</td>\n",
       "      <td>NaN</td>\n",
       "      <td>NaN</td>\n",
       "      <td>NaN</td>\n",
       "      <td>NaN</td>\n",
       "      <td>NaN</td>\n",
       "      <td>NaN</td>\n",
       "      <td>NaN</td>\n",
       "      <td>NaN</td>\n",
       "      <td>NaN</td>\n",
       "    </tr>\n",
       "    <tr>\n",
       "      <th>3</th>\n",
       "      <td>abb</td>\n",
       "      <td>shu</td>\n",
       "      <td>chad1249</td>\n",
       "      <td>Arabic (Abbéché Chad)</td>\n",
       "      <td>13.833333</td>\n",
       "      <td>20.833333</td>\n",
       "      <td>Semitic</td>\n",
       "      <td>Afro-Asiatic</td>\n",
       "      <td>Africa</td>\n",
       "      <td>TD</td>\n",
       "      <td>...</td>\n",
       "      <td>NaN</td>\n",
       "      <td>NaN</td>\n",
       "      <td>NaN</td>\n",
       "      <td>NaN</td>\n",
       "      <td>NaN</td>\n",
       "      <td>NaN</td>\n",
       "      <td>NaN</td>\n",
       "      <td>NaN</td>\n",
       "      <td>NaN</td>\n",
       "      <td>NaN</td>\n",
       "    </tr>\n",
       "    <tr>\n",
       "      <th>4</th>\n",
       "      <td>abd</td>\n",
       "      <td>abi</td>\n",
       "      <td>abid1235</td>\n",
       "      <td>Abidji</td>\n",
       "      <td>5.666667</td>\n",
       "      <td>-4.583333</td>\n",
       "      <td>Kwa</td>\n",
       "      <td>Niger-Congo</td>\n",
       "      <td>Africa</td>\n",
       "      <td>CI</td>\n",
       "      <td>...</td>\n",
       "      <td>NaN</td>\n",
       "      <td>NaN</td>\n",
       "      <td>NaN</td>\n",
       "      <td>NaN</td>\n",
       "      <td>NaN</td>\n",
       "      <td>NaN</td>\n",
       "      <td>NaN</td>\n",
       "      <td>NaN</td>\n",
       "      <td>NaN</td>\n",
       "      <td>NaN</td>\n",
       "    </tr>\n",
       "  </tbody>\n",
       "</table>\n",
       "<p>5 rows × 202 columns</p>\n",
       "</div>"
      ],
      "text/plain": [
       "  wals_code iso_code glottocode                   Name   latitude   longitude  \\\n",
       "0       aab      NaN        NaN          Arapesh (Abu)  -3.450000  142.950000   \n",
       "1       aar      aiw   aari1239                   Aari   6.000000   36.583333   \n",
       "2       aba      aau   abau1245                   Abau  -4.000000  141.250000   \n",
       "3       abb      shu   chad1249  Arabic (Abbéché Chad)  13.833333   20.833333   \n",
       "4       abd      abi   abid1235                 Abidji   5.666667   -4.583333   \n",
       "\n",
       "            genus        family  macroarea countrycodes  \\\n",
       "0  Kombio-Arapesh    Torricelli        NaN           PG   \n",
       "1    South Omotic  Afro-Asiatic     Africa           ET   \n",
       "2     Upper Sepik         Sepik  Papunesia           PG   \n",
       "3         Semitic  Afro-Asiatic     Africa           TD   \n",
       "4             Kwa   Niger-Congo     Africa           CI   \n",
       "\n",
       "                      ...                       \\\n",
       "0                     ...                        \n",
       "1                     ...                        \n",
       "2                     ...                        \n",
       "3                     ...                        \n",
       "4                     ...                        \n",
       "\n",
       "  137B M in Second Person Singular 136B M in First Person Singular  \\\n",
       "0                              NaN                             NaN   \n",
       "1                              NaN                             NaN   \n",
       "2                              NaN                             NaN   \n",
       "3                              NaN                             NaN   \n",
       "4                              NaN                             NaN   \n",
       "\n",
       "  109B Other Roles of Applied Objects 10B Nasal Vowels in West Africa  \\\n",
       "0                                 NaN                             NaN   \n",
       "1                                 NaN                             NaN   \n",
       "2                                 NaN                             NaN   \n",
       "3                                 NaN                             NaN   \n",
       "4                                 NaN                             NaN   \n",
       "\n",
       "  25B Zero Marking of A and P Arguments  \\\n",
       "0                                   NaN   \n",
       "1                                   NaN   \n",
       "2                                   NaN   \n",
       "3                                   NaN   \n",
       "4                                   NaN   \n",
       "\n",
       "  21B Exponence of Tense-Aspect-Mood Inflection  \\\n",
       "0                                           NaN   \n",
       "1                                           NaN   \n",
       "2                                           NaN   \n",
       "3                                           NaN   \n",
       "4                                           NaN   \n",
       "\n",
       "  108B Productivity of the Antipassive Construction  \\\n",
       "0                                               NaN   \n",
       "1                                               NaN   \n",
       "2                                               NaN   \n",
       "3                                               NaN   \n",
       "4                                               NaN   \n",
       "\n",
       "  130B Cultural Categories of Languages with Identity of 'Finger' and 'Hand'  \\\n",
       "0                                                NaN                           \n",
       "1                                                NaN                           \n",
       "2                                                NaN                           \n",
       "3                                                NaN                           \n",
       "4                                                NaN                           \n",
       "\n",
       "  58B Number of Possessive Nouns 79B Suppletion in Imperatives and Hortatives  \n",
       "0                            NaN                                          NaN  \n",
       "1                            NaN                                          NaN  \n",
       "2                            NaN                                          NaN  \n",
       "3                            NaN                                          NaN  \n",
       "4                            NaN                                          NaN  \n",
       "\n",
       "[5 rows x 202 columns]"
      ]
     },
     "execution_count": 5,
     "metadata": {},
     "output_type": "execute_result"
    }
   ],
   "source": [
    "wals = pd.read_csv('wals_data/language.csv')\n",
    "wals.head()"
   ]
  },
  {
   "cell_type": "markdown",
   "metadata": {},
   "source": [
    "Something that we notice about our data is that there are multiple rows for the same languages. We'll show"
   ]
  },
  {
   "cell_type": "code",
   "execution_count": null,
   "metadata": {
    "collapsed": true
   },
   "outputs": [],
   "source": [
    "mp = folium.Map(zoom_start=12)\n",
    "phoib_coords = phoib.dropna(subset=['Latitude', 'Longitude'])\n",
    "for coords in list(zip(phoib_coords['Latitude'], phoib_coords['Longitude'])):\n",
    "    folium.Circle(\n",
    "        radius=100,\n",
    "        location=coords,\n",
    "        color='crimson',\n",
    "        fill=False,).add_to(mp)\n",
    "mp"
   ]
  },
  {
   "cell_type": "code",
   "execution_count": null,
   "metadata": {
    "collapsed": true,
    "scrolled": true
   },
   "outputs": [],
   "source": [
    "combined = wals.dropna(subset=['iso_code']).merge(phoib.dropna(), left_on='iso_code', right_on='LanguageCode', how='inner')\n",
    "combined.head()"
   ]
  },
  {
   "cell_type": "markdown",
   "metadata": {},
   "source": [
    "## Background\n",
    "\n",
    "One big question in cognitive science is the relationship between linguistic features (e.g. number of vowels, word order and number of tense categories) and non-linguistic features (e.g. population size, altitude and climate). In particular, a lot of attention has been paid to the relationship between population size and various linguistic features. People have looked at the relationship between population size and:\n",
    "- size of the phoneme inventory\n",
    "- morphological complexity\n",
    "- Relationship between population size and phonemic inventory"
   ]
  },
  {
   "cell_type": "markdown",
   "metadata": {},
   "source": [
    "Phonemes are individual sounds. They come from the IPA, which is the phonetic alphabet. Phonemes can either be consonants or vowels. Languages have a fixed number of phonemes. The best data source for this is PHOIBLE. \n",
    "Visualize the following univariate distributions both as a histogram and on a map:"
   ]
  },
  {
   "cell_type": "markdown",
   "metadata": {},
   "source": [
    "## Phoneme Distributions <a id='phoneme dist'></a>\n",
    "\n",
    "both geographic and numeric distributions"
   ]
  },
  {
   "cell_type": "markdown",
   "metadata": {},
   "source": [
    "### Consonants <a id='consonants'></a>"
   ]
  },
  {
   "cell_type": "code",
   "execution_count": null,
   "metadata": {
    "collapsed": true
   },
   "outputs": [],
   "source": [
    "sns.distplot(phoib['Consonants'])"
   ]
  },
  {
   "cell_type": "code",
   "execution_count": null,
   "metadata": {
    "collapsed": true
   },
   "outputs": [],
   "source": [
    "map_with_bins('Consonants', phoib_mapping)"
   ]
  },
  {
   "cell_type": "code",
   "execution_count": null,
   "metadata": {
    "collapsed": true
   },
   "outputs": [],
   "source": [
    "# plotting with bins set on quantiles instead\n",
    "map_with_bins('Consonants', phoib_mapping, quantiles=True)"
   ]
  },
  {
   "cell_type": "markdown",
   "metadata": {},
   "source": [
    "### Vowels <a id='vowels'></a>"
   ]
  },
  {
   "cell_type": "code",
   "execution_count": null,
   "metadata": {
    "collapsed": true,
    "scrolled": true
   },
   "outputs": [],
   "source": [
    "sns.distplot(phoib['Vowels'])"
   ]
  },
  {
   "cell_type": "code",
   "execution_count": null,
   "metadata": {
    "collapsed": true,
    "scrolled": false
   },
   "outputs": [],
   "source": [
    "map_with_bins('Vowels', phoib_mapping, quantiles=True)"
   ]
  },
  {
   "cell_type": "markdown",
   "metadata": {},
   "source": [
    "### Phonemes <a id='phonemes'></a>"
   ]
  },
  {
   "cell_type": "code",
   "execution_count": null,
   "metadata": {
    "collapsed": true
   },
   "outputs": [],
   "source": [
    "sns.distplot(phoib['Phonemes'])"
   ]
  },
  {
   "cell_type": "code",
   "execution_count": null,
   "metadata": {
    "collapsed": true,
    "scrolled": false
   },
   "outputs": [],
   "source": [
    "map_with_bins('Phonemes', phoib_mapping, quantiles=True)"
   ]
  },
  {
   "cell_type": "markdown",
   "metadata": {},
   "source": [
    "### Consonants vs Vowels <a id='cons vs vows'></a>"
   ]
  },
  {
   "cell_type": "markdown",
   "metadata": {},
   "source": [
    "Visualize the relationship between number of consontants and number of vowels, again by all language, by continent and by genetic affiliation."
   ]
  },
  {
   "cell_type": "code",
   "execution_count": null,
   "metadata": {
    "collapsed": true
   },
   "outputs": [],
   "source": [
    "# note to self: check out consonant to vowel ratio as number of cons / vowels increase"
   ]
  },
  {
   "cell_type": "code",
   "execution_count": null,
   "metadata": {
    "collapsed": true
   },
   "outputs": [],
   "source": [
    "overlay_hex(phoib[\"Consonants\"], phoib[\"Vowels\"])"
   ]
  },
  {
   "cell_type": "code",
   "execution_count": null,
   "metadata": {
    "collapsed": true
   },
   "outputs": [],
   "source": [
    "pho_cont = phoib[[\"Area\",\"Consonants\", \"Vowels\"]].copy()\n",
    "pho_cont = pho_cont.groupby(by=\"Area\").mean()\n",
    "pho_cont['Ratio'] = pho_cont['Consonants'] / pho_cont['Vowels']\n",
    "pho_cont[['Ratio']].plot.bar(figsize = (12,8))\n",
    "plt.title('Average Consonants per Vowel')"
   ]
  },
  {
   "cell_type": "markdown",
   "metadata": {},
   "source": [
    "## Phoneme Metadata <a id='metadata'></a>"
   ]
  },
  {
   "cell_type": "markdown",
   "metadata": {},
   "source": [
    "### By Family  <a id='phoneme fam'></a>"
   ]
  },
  {
   "cell_type": "markdown",
   "metadata": {},
   "source": [
    "Visualize those same distributions grouped by continent and grouped by genetic affiliation. The continent is called `area` in PHOIBLE. The genetic affiliation is called `Family` in WALS. WALS and PHOIBLE both identify languages with ISO 639-3, so you should be able to match them up. "
   ]
  },
  {
   "cell_type": "code",
   "execution_count": null,
   "metadata": {
    "collapsed": true
   },
   "outputs": [],
   "source": [
    "# double click on the image to zoom in (then you can scroll left or right)\n",
    "combined.groupby(by=\"family\")[['Phonemes', 'Consonants', 'Vowels']].mean().plot.bar(figsize=(50,8))"
   ]
  },
  {
   "cell_type": "markdown",
   "metadata": {},
   "source": [
    "### By Continent  <a id='phoneme cont'></a>"
   ]
  },
  {
   "cell_type": "code",
   "execution_count": null,
   "metadata": {
    "collapsed": true,
    "scrolled": false
   },
   "outputs": [],
   "source": [
    "phoib.groupby(by=\"Area\")[['Phonemes', 'Consonants', 'Vowels']].mean().plot.bar(figsize=(12,6))"
   ]
  },
  {
   "cell_type": "markdown",
   "metadata": {},
   "source": [
    "### Latitude and Longitude <a id='lat lons'></a>\n",
    "\n",
    "You could try looking at number of phonemes plotted against latitude/longitude, but I doubt anything will come of it."
   ]
  },
  {
   "cell_type": "code",
   "execution_count": null,
   "metadata": {
    "collapsed": true,
    "scrolled": false
   },
   "outputs": [],
   "source": [
    "sns.jointplot('Phonemes', 'Latitude', data=phoib, kind='hex')"
   ]
  },
  {
   "cell_type": "code",
   "execution_count": null,
   "metadata": {
    "collapsed": true
   },
   "outputs": [],
   "source": [
    "sns.jointplot('Phonemes', 'Longitude', data=phoib, kind='hex')"
   ]
  },
  {
   "cell_type": "markdown",
   "metadata": {},
   "source": [
    "### Population Size vs Phoneme Inventory Size <a id='pop v foam'></a>"
   ]
  },
  {
   "cell_type": "markdown",
   "metadata": {},
   "source": [
    "Visualize the relationship between population size and phoneme inventory size, again by all language, by continent and by genetic affiliation."
   ]
  },
  {
   "cell_type": "code",
   "execution_count": null,
   "metadata": {
    "collapsed": true
   },
   "outputs": [],
   "source": [
    "# log population\n",
    "overlay_hex(phoib[\"Phonemes\"], np.log(phoib[\"Population\"]))"
   ]
  },
  {
   "cell_type": "markdown",
   "metadata": {},
   "source": [
    "### Distance from Africa <a id='africa distance'></a>"
   ]
  },
  {
   "cell_type": "markdown",
   "metadata": {},
   "source": [
    "Someone has claimed that phoneme inventory size and distance from Africa are inversely related. You could use the latitude/longitude in PHOIBLE for this. You may have to arbitrarily choose the mid-point of Africa for this.\n",
    "\n",
    "We start by refering back to a graph we previously created."
   ]
  },
  {
   "cell_type": "code",
   "execution_count": null,
   "metadata": {
    "collapsed": true
   },
   "outputs": [],
   "source": [
    "pho_pop_cont = phoib.loc[:,[\"Area\", \"Phonemes\"]]\n",
    "pho_pop_cont = pho_pop_cont.groupby(by = \"Area\").mean().sort_values('Phonemes', ascending=False)\n",
    "pho_pop_cont[['Phonemes']].plot.bar(figsize = (12,8))\n",
    "plt.ylabel('Average Number of Phonemes')\n",
    "pho_pop_cont"
   ]
  },
  {
   "cell_type": "code",
   "execution_count": null,
   "metadata": {
    "collapsed": true,
    "scrolled": false
   },
   "outputs": [],
   "source": [
    "coordinates = list(zip(phoib.dropna()['Latitude'], phoib.dropna()['Longitude']))\n",
    "\n",
    "# chose this point b/c it comes up when\n",
    "# you google search 'africa coordinates'\n",
    "africa_center = (8.7832, 34.5085)\n",
    "\n",
    "# calculate the distance to each language's listed location\n",
    "distances = np.array([geopy.distance.vincenty(point, africa_center).km for point in coordinates])\n",
    "\n",
    "overlay_hex(distances, phoib.dropna()['Phonemes'])"
   ]
  },
  {
   "cell_type": "code",
   "execution_count": null,
   "metadata": {
    "collapsed": true
   },
   "outputs": [],
   "source": [
    "# did the same, but logged the distances this time\n",
    "overlay_hex(np.log(distances), phoib.dropna()['Phonemes'])"
   ]
  },
  {
   "cell_type": "markdown",
   "metadata": {},
   "source": [
    "## Common Phenomes <a id='common'></a>"
   ]
  },
  {
   "cell_type": "markdown",
   "metadata": {},
   "source": [
    "What are the most common phonemes in the world? What is the distribution of frequency? That is, there are about 2,000 phonemes in PHOIBLE, but only a handful are common and there's a long tail. One problem here is that PHOIBLE is not a random sample of languages. So, you could sample languages from PHOIBLE proportional to their population size and arrive at an estimate that way."
   ]
  },
  {
   "cell_type": "code",
   "execution_count": null,
   "metadata": {
    "collapsed": true,
    "scrolled": true
   },
   "outputs": [],
   "source": [
    "phonemes = pd.read_csv('phoible_data/phoible-by-phoneme.tsv', delimiter='\\t')\n",
    "phonemes.head()"
   ]
  },
  {
   "cell_type": "code",
   "execution_count": null,
   "metadata": {
    "collapsed": true
   },
   "outputs": [],
   "source": [
    "print('Out of {} rows, there are {} unique phonemes.'.format(len(phonemes), len(list(set(phonemes['Phoneme'])))))"
   ]
  },
  {
   "cell_type": "code",
   "execution_count": null,
   "metadata": {
    "collapsed": true
   },
   "outputs": [],
   "source": [
    "phoneme_counts = pd.DataFrame.from_dict(Counter(phonemes['Phoneme']), orient='index').reset_index().sort_values(0, ascending=False)\n",
    "phoneme_counts.columns = ['Phoneme', 'Count']\n",
    "phoneme_counts.iloc[:200].plot.bar(figsize=(15, 5))\n",
    "plt.xticks([])\n",
    "plt.ylabel('Count')\n",
    "plt.xlabel('Phoneme')\n",
    "plt.title('Counts of 200 Most Common Phonemes')"
   ]
  },
  {
   "cell_type": "code",
   "execution_count": null,
   "metadata": {
    "collapsed": true
   },
   "outputs": [],
   "source": [
    "fig, ax = plt.subplots(figsize=(15, 5))\n",
    "sns.distplot(phoneme_counts['Count'], ax=ax)\n",
    "plt.title('Distribution of Phoneme Frequency')"
   ]
  },
  {
   "cell_type": "markdown",
   "metadata": {},
   "source": [
    "Phonemes can be described by a set of (mostly) binary features. PHOIBLE has this data too. Is the distribution of featue values evenly split for each feature? If not, which features are more prone to being either 0 or 1?\n",
    "Are some phonemes only present in some area of genetic affiliation? (There should be. For example, 'kp' and 'gb' are likely only in Africa.)"
   ]
  },
  {
   "cell_type": "code",
   "execution_count": null,
   "metadata": {
    "collapsed": true
   },
   "outputs": [],
   "source": [
    "# join w/ other phoible (to get area column), then pivot('phoneme', 'area')"
   ]
  },
  {
   "cell_type": "code",
   "execution_count": null,
   "metadata": {
    "collapsed": true
   },
   "outputs": [],
   "source": [
    "len(phonemes)"
   ]
  },
  {
   "cell_type": "code",
   "execution_count": null,
   "metadata": {
    "collapsed": true
   },
   "outputs": [],
   "source": [
    "len(phoib[['LanguageCode', 'Area']])"
   ]
  },
  {
   "cell_type": "code",
   "execution_count": null,
   "metadata": {
    "collapsed": true
   },
   "outputs": [],
   "source": [
    "lc_to_area = dict(zip(phoib['LanguageCode'], phoib['Area']))\n",
    "\n",
    "def convert_code(code):\n",
    "    try:\n",
    "        return lc_to_area[code]\n",
    "    except:\n",
    "        return 'undefined'\n",
    "    \n",
    "phonemes['Area'] = [convert_code(code) for code in phonemes['LanguageCode']]"
   ]
  },
  {
   "cell_type": "code",
   "execution_count": null,
   "metadata": {
    "collapsed": true,
    "scrolled": true
   },
   "outputs": [],
   "source": [
    "pd.crosstab(phonemes['Phoneme'], phonemes['Area'])"
   ]
  },
  {
   "cell_type": "code",
   "execution_count": null,
   "metadata": {
    "collapsed": true,
    "scrolled": true
   },
   "outputs": [],
   "source": [
    "# normalizing by columns means that it accounts for the fact that\n",
    "# there are differing numbers of languages per country\n",
    "pd.crosstab(phonemes['Phoneme'], phonemes['Area'], margins=True, normalize='columns')"
   ]
  },
  {
   "cell_type": "markdown",
   "metadata": {},
   "source": [
    "## Tone <a id='tone'></a>"
   ]
  },
  {
   "cell_type": "markdown",
   "metadata": {},
   "source": [
    "One of the features of phonemes is tone. If a language has a phoneme with tone, it counts as a \"tone language\". Are most language tone? Where are the tone langauges on the map?"
   ]
  },
  {
   "cell_type": "code",
   "execution_count": null,
   "metadata": {
    "collapsed": true
   },
   "outputs": [],
   "source": [
    "tone_languages = phoib['Tones'] > 0\n",
    "num_tone_languages = sum(tone_languages)\n",
    "total_languages = len(phoib)\n",
    "\n",
    "print('There are {} tone languages out of our dataset of {} languages.'.format(num_tone_languages, total_languages))\n",
    "print(\"That's about {}%.\".format(np.round(num_tone_languages/total_languages*100, 2)))"
   ]
  },
  {
   "cell_type": "code",
   "execution_count": null,
   "metadata": {
    "collapsed": true
   },
   "outputs": [],
   "source": [
    "tone = phoib[tone_languages]\n",
    "tone.head()"
   ]
  },
  {
   "cell_type": "code",
   "execution_count": null,
   "metadata": {
    "collapsed": true,
    "scrolled": false
   },
   "outputs": [],
   "source": [
    "# two rows in tone don't have coordinates, need to filter them out\n",
    "valid_coords = tone['Latitude'] == tone['Latitude']\n",
    "mappable_tone = tone[valid_coords]\n",
    "\n",
    "mp = folium.Map(zoom_start=12)\n",
    "for coords in list(zip(mappable_tone['Latitude'], mappable_tone['Longitude'])):\n",
    "    folium.Circle(\n",
    "        radius=100,\n",
    "        location=coords,\n",
    "        color='crimson',\n",
    "        fill=False,).add_to(mp)\n",
    "mp"
   ]
  },
  {
   "cell_type": "markdown",
   "metadata": {},
   "source": [
    "### Altitude <a id='altitude'></a>"
   ]
  },
  {
   "cell_type": "markdown",
   "metadata": {},
   "source": [
    "Someone has claimed there is a relationship being a tone language and the altitude. You could use lat/long to call some API to get the altitude and see if there's a relationship."
   ]
  },
  {
   "cell_type": "code",
   "execution_count": null,
   "metadata": {
    "collapsed": true
   },
   "outputs": [],
   "source": [
    "phoib['Tone Language?'] = phoib['Tones'] > 0\n",
    "have_elevation = phoib[['elevation', 'Tones', 'Tone Language?']].dropna()"
   ]
  },
  {
   "cell_type": "code",
   "execution_count": null,
   "metadata": {
    "collapsed": true
   },
   "outputs": [],
   "source": [
    "f, ax = plt.subplots(figsize=(10, 8))\n",
    "sns.distplot(have_elevation[np.invert(have_elevation['Tone Language?'])]['elevation'], ax=ax)\n",
    "sns.distplot(have_elevation[have_elevation['Tone Language?']]['elevation'], ax=ax)"
   ]
  },
  {
   "cell_type": "code",
   "execution_count": null,
   "metadata": {
    "collapsed": true
   },
   "outputs": [],
   "source": [
    "# getting rid of the 3 SD outliers to get a better picture\n",
    "no_out=have_elevation[((have_elevation['elevation'] - have_elevation['elevation'].mean()) / have_elevation['elevation'].std()).abs() < 3]\n",
    "\n",
    "f, ax = plt.subplots(figsize=(10, 8))\n",
    "sns.distplot(no_out[np.invert(no_out['Tone Language?'])]['elevation'], ax=ax)\n",
    "sns.distplot(no_out[no_out['Tone Language?']]['elevation'], ax=ax)"
   ]
  },
  {
   "cell_type": "code",
   "execution_count": null,
   "metadata": {
    "collapsed": true
   },
   "outputs": [],
   "source": [
    "# note to self: explore possibility that low elevation \n",
    "# places just tend to be further from africa, then point \n",
    "# that out as a possible confounding factor"
   ]
  },
  {
   "cell_type": "markdown",
   "metadata": {},
   "source": [
    "## Relationship between population size and morphological complexity <a id='morph complex'></a>\n",
    "\n",
    "All the data for this will be in WALS. Morphological complexity is a vague term, referring to how complicated the words in a language are. Here are some features that you should look at with respect to their relation to phoneme inventory size:\n",
    "\n",
    "### Feature 30A: Number of Genders"
   ]
  },
  {
   "cell_type": "code",
   "execution_count": null,
   "metadata": {
    "collapsed": true
   },
   "outputs": [],
   "source": [
    "desired_columns = ['LanguageCode', 'Area', 'Latitude', 'Longitude', 'Population', 'Phonemes']\n",
    "\n",
    "gender_data = drop_and_subset('30A Number of Genders', combined, desired_columns)\n",
    "genders_dict = {'1 None':1, '2 Two':2, '3 Three':3, '4 Four':4, '5 Five or more':5}\n",
    "gender_data['Genders'] = [genders_dict[value] for value in gender_data['30A Number of Genders']]\n",
    "\n",
    "print('Rows with Gender data: {}'.format(len(gender_data)))\n",
    "gender_data.head()"
   ]
  },
  {
   "cell_type": "code",
   "execution_count": null,
   "metadata": {
    "collapsed": true
   },
   "outputs": [],
   "source": [
    "overlay_hex(gender_data['Genders'], gender_data['Phonemes'])"
   ]
  },
  {
   "cell_type": "code",
   "execution_count": null,
   "metadata": {
    "collapsed": true,
    "scrolled": false
   },
   "outputs": [],
   "source": [
    "overlay_hex(gender_data['Genders'], np.log(gender_data['Population']))"
   ]
  },
  {
   "cell_type": "markdown",
   "metadata": {},
   "source": [
    "### Reduplication"
   ]
  },
  {
   "cell_type": "code",
   "execution_count": null,
   "metadata": {
    "collapsed": true,
    "scrolled": false
   },
   "outputs": [],
   "source": [
    "reduplication = drop_and_subset('27A Reduplication', combined, desired_columns)\n",
    "reduplication.groupby('27A Reduplication').mean()[['Phonemes']].plot.bar()\n",
    "plt.xticks(rotation=40)"
   ]
  },
  {
   "cell_type": "markdown",
   "metadata": {},
   "source": [
    "### Feature 20A: Fusion of Selected Inflectional Formatives"
   ]
  },
  {
   "cell_type": "code",
   "execution_count": null,
   "metadata": {
    "collapsed": true
   },
   "outputs": [],
   "source": [
    "fusion = drop_and_subset('20A Fusion of Selected Inflectional Formatives', combined, desired_columns)\n",
    "fusion.groupby('20A Fusion of Selected Inflectional Formatives').mean()[['Phonemes']].plot.bar()\n",
    "plt.xticks(rotation=70)"
   ]
  },
  {
   "cell_type": "markdown",
   "metadata": {},
   "source": [
    "### Feature 21A: Exponence of Selected Inflectional Formatives"
   ]
  },
  {
   "cell_type": "code",
   "execution_count": null,
   "metadata": {
    "collapsed": true,
    "scrolled": false
   },
   "outputs": [],
   "source": [
    "exponence_a = drop_and_subset('21A Exponence of Selected Inflectional Formatives', combined, desired_columns)\n",
    "exponence_a.groupby('21A Exponence of Selected Inflectional Formatives').mean()[['Phonemes']].plot.bar()\n",
    "plt.xticks(rotation=70)"
   ]
  },
  {
   "cell_type": "markdown",
   "metadata": {},
   "source": [
    "### Feature 21B: Exponence of Tense-Aspect-Mood Inflection"
   ]
  },
  {
   "cell_type": "code",
   "execution_count": null,
   "metadata": {
    "collapsed": true
   },
   "outputs": [],
   "source": [
    "exponence_b = drop_and_subset('21B Exponence of Tense-Aspect-Mood Inflection', combined, desired_columns)\n",
    "exponence_b.groupby('21B Exponence of Tense-Aspect-Mood Inflection').mean()[['Phonemes']].plot.bar()\n",
    "plt.xticks(rotation=70)"
   ]
  }
 ],
 "metadata": {
  "anaconda-cloud": {},
  "kernelspec": {
   "display_name": "Python 3",
   "language": "python",
   "name": "python3"
  },
  "language_info": {
   "codemirror_mode": {
    "name": "ipython",
    "version": 3
   },
   "file_extension": ".py",
   "mimetype": "text/x-python",
   "name": "python",
   "nbconvert_exporter": "python",
   "pygments_lexer": "ipython3",
   "version": "3.6.1"
  }
 },
 "nbformat": 4,
 "nbformat_minor": 2
}
